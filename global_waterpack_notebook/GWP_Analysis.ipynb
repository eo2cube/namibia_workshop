{
 "cells": [
  {
   "cell_type": "code",
   "execution_count": 2,
   "metadata": {},
   "outputs": [],
   "source": [
    "import rasterio\n",
    "from rasterio.merge import merge\n",
    "from rasterio.plot import show\n",
    "import glob\n",
    "import os\n",
    "import numpy as np\n",
    "import fiona\n",
    "import rasterio.mask\n",
    "import seaborn as sns\n",
    "\n",
    "#######Utiliy Functions########\n",
    "\n",
    "#Returns the file names of the three MODIS tiles for the given year and day-of-year\n",
    "def getfilenames(doy, year):\n",
    "\n",
    "    parts = [1,2,3]\n",
    "    filestomos = []\n",
    "\n",
    "    for part in parts:\n",
    "        search = \"{year}{part}/INT09GQ.A{year}{doy}.*.BIN.tif\".format(part = part, doy = doy, year = year)\n",
    "        filestomos.append(glob.glob(search)[0])\n",
    "\n",
    "    return filestomos\n",
    "\n",
    "#Given a year and doy, create a mosaic of the three MODIS tiles\n",
    "def writemosaic(doy, year):\n",
    "    src = getrepfilenames(doy)\n",
    "    srclist = []\n",
    "    for rast in src:\n",
    "        rastfile = rasterio.open(rast)\n",
    "        srclist.append(rastfile)\n",
    "\n",
    "\n",
    "    mosaic, out_trans = merge(srclist)\n",
    "    out_meta = srclist[0].meta.copy()\n",
    "    out_meta.update({\"driver\": \"GTiff\",\n",
    "                 \"height\": mosaic.shape[1],\n",
    "                 \"width\": mosaic.shape[2],\n",
    "                 \"transform\": out_trans,\n",
    "                 })\n",
    "\n",
    "    outfp = 'C:/Users/wang_mc/Documents/SDG_Tests/gwp/reprojmos/A{year}{doy}.tif'.format(doy  = doy, year = year)\n",
    "    with rasterio.open(outfp, 'w', **out_meta) as dest:\n",
    "        dest.write(mosaic)\n",
    "\n",
    "\n",
    "\n",
    "    return mosaic\n",
    "\n",
    "#Clip selected mosaic for a particular doy and year and write to file\n",
    "def clip2nam(doy, year):\n",
    "\n",
    "    with fiona.open(\"C:/Users/wang_mc/Documents/SDG_Tests/namshp/NAM.shp\", \"r\") as shapefile:\n",
    "        shapes = [feature[\"geometry\"] for feature in shapefile]\n",
    "\n",
    "    src = rasterio.open('C:/Users/wang_mc/Documents/SDG_Tests/gwp/reprojmos/A{year}{doy}.tif'.format(year = year, doy = doy))\n",
    "    out_image, out_transform = rasterio.mask.mask(src, shapes, crop=True)\n",
    "    out_meta = src.meta\n",
    "    out_meta.update({\"driver\": \"GTiff\",\n",
    "                 \"height\": out_image.shape[1],\n",
    "                 \"width\": out_image.shape[2],\n",
    "                 \"transform\": out_transform})\n",
    "    \n",
    "    with rasterio.open(\"C:/Users/wang_mc/Documents/SDG_Tests/gwp/clipped/A{year}{doy}.tif\".format(year = year, doy = doy), \"w\", **out_meta) as dest:\n",
    "            dest.write(out_image)\n",
    "\n",
    "#Returns a list of all the file names for a particular year\n",
    "def getclippedfilenames(year):\n",
    "\n",
    "    doylist = []\n",
    "    for i in range(2, 366):\n",
    "        doylist.append(str(i).zfill(3))\n",
    "\n",
    "    filestomos = []\n",
    "\n",
    "    for doy in doylist:\n",
    "        search = \"C:/Users/wang_mc/Documents/SDG_Tests/gwp/clipped/A{year}{doy}.*\".format(year = year, doy = doy)\n",
    "        filestomos.append(glob.glob(search)[0])\n",
    "\n",
    "    return filestomos\n",
    "\n",
    "#Returns a list of all the file names for a particular year\n",
    "def getdailytotals(fileslist):\n",
    "    water = []\n",
    "\n",
    "    for filename in fileslist:\n",
    "        with rasterio.open(filename) as src:\n",
    "            water.append(src.read(1).sum()*250*250)\n",
    "\n",
    "    return water"
   ]
  },
  {
   "cell_type": "code",
   "execution_count": null,
   "metadata": {},
   "outputs": [],
   "source": [
    "#The following script creates a days indunated for the year 2018\n",
    "filelist = getclippedfilenames(2018) # Get list of file names for 2018\n",
    "\n",
    "sums = rasterio.open('gwp\\clipped\\A2013801.tif').read(1).astype('uint8') #Initialize a raster object with the first image\n",
    "\n",
    "#For each image, add to the sum, thus for each pixel creating a days inundated out of the year\n",
    "for f in filelist:\n",
    "    sums += rasterio.open(f).read(1).astype('uint8') \n",
    "\n",
    "#Output\n",
    "src = rasterio.open('gwp\\clipped\\A2018001.tif') #Open one file to get the metadata\n",
    "meta = src.profile #Get metadata\n",
    "\n",
    "with rasterio.open('gwp/output/2018sum.tif', 'w', **meta) as ff:\n",
    "    ff.write(sums,1) #Write the days inundated raster with "
   ]
  },
  {
   "cell_type": "code",
   "execution_count": null,
   "metadata": {},
   "outputs": [],
   "source": [
    "#Draw a chart of the daily total water surface area for a given year\n",
    "doy = range(2, 366)\n",
    "filelist = getclippedfilenames(2018)\n",
    "\n",
    "ax = sns.scatterplot(doy, getdailytotals(fileslist))\n",
    "ax.set_title('Namibia Daily Total Water Surface Area')\n",
    "ax.set(xlabel='Day of Year', ylabel='Area (Sqared Meter)')"
   ]
  },
  {
   "cell_type": "code",
   "execution_count": 14,
   "metadata": {},
   "outputs": [],
   "source": [
    "#Calculates the total number of pixels in the summed image, i.e. Max extent of the year\n",
    "src = rasterio.open('gwp/output/2018sum.tif').read(1) #Open Days inundated images\n",
    "zero = np.zeros_like(src) #Create a zero array\n",
    "\n",
    "maxextent = np.greater(src, zero) #Compare element wise, positive integers retrun true (value 1), otherwise false (value 0)\n",
    "totalpixel = maxextent.sum() # Total number of pixels, multiply by pixel area for total area"
   ]
  },
  {
   "cell_type": "code",
   "execution_count": 17,
   "metadata": {},
   "outputs": [],
   "source": [
    "#Calculate the difference between two years\n",
    "src1 = rasterio.open('gwp/output/2013sum.tif').read(1)*10 #Multiply every element by 10 to the initial year. (Nowater = 0, Water = 10)\n",
    "src2 = rasterio.open('gwp/output/2018sum.tif').read(1)\n",
    "\n",
    "#Doing the addition operation between the two arrays has the following properties:\n",
    "#Water in both 2013 and 2018 has value 11\n",
    "#Water in neither 2013 nor 2018 has value 0\n",
    "#Water only in 2013 has value 10\n",
    "#Water only in 2018 has value 1\n",
    "diff = np.add(src1, src2)"
   ]
  },
  {
   "cell_type": "code",
   "execution_count": 21,
   "metadata": {},
   "outputs": [],
   "source": [
    "#This function compares and returns the total number of elements in an array with a particular value\n",
    "#i.e. This will return number of pixels with water for particular years as compared to another when using the difference array\n",
    "def arraycompsum(arr, val):\n",
    "    valarr = np.zeros_like(arr)+val\n",
    "    comparr = np.equal(arr, valarr)\n",
    "\n",
    "    return comparr.sum()"
   ]
  },
  {
   "cell_type": "code",
   "execution_count": 28,
   "metadata": {},
   "outputs": [
    {
     "data": {
      "text/plain": [
       "111"
      ]
     },
     "execution_count": 28,
     "metadata": {},
     "output_type": "execute_result"
    }
   ],
   "source": [
    "#Example\n",
    "#Number of water pixels in both 2013 and 2018\n",
    "arraycompsum(diff, 11)"
   ]
  }
 ],
 "metadata": {
  "kernelspec": {
   "display_name": "Python 3",
   "language": "python",
   "name": "python3"
  },
  "language_info": {
   "codemirror_mode": {
    "name": "ipython",
    "version": 3
   },
   "file_extension": ".py",
   "mimetype": "text/x-python",
   "name": "python",
   "nbconvert_exporter": "python",
   "pygments_lexer": "ipython3",
   "version": "3.8.8"
  }
 },
 "nbformat": 4,
 "nbformat_minor": 4
}

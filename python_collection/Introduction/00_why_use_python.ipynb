{
 "cells": [
  {
   "cell_type": "markdown",
   "metadata": {},
   "source": [
    "<img align=\"left\" src=\"../img/notebook_banner_siegel.png\" style=\"width:1100px;\">"
   ]
  },
  {
   "cell_type": "markdown",
   "metadata": {
    "slideshow": {
     "slide_type": "slide"
    }
   },
   "source": [
    "# <b>Python, a geoscientific perspective<b/>"
   ]
  },
  {
   "cell_type": "markdown",
   "metadata": {
    "slideshow": {
     "slide_type": "slide"
    }
   },
   "source": [
    "### <b> Why python? <b/>"
   ]
  },
  {
   "cell_type": "markdown",
   "metadata": {
    "slideshow": {
     "slide_type": "fragment"
    }
   },
   "source": [
    "#### <b> Easy to learn, easy to read and fast to develop <b/>\n",
    "* It is nearly as easy as using google, give it a try!\n",
    "    Search for anything and add `Python` (like 'school education python') to your query. You will get a large variety of resources, trainings, ... and, of course crap!\n",
    "* It is considered to be the language of choice for beginners, and proper code formatting is in the design of the language. This is especially useful when you remember, that we are the scientist not programmers. What we need is to have a language that can be learned quickly, but at the same time is powerful enough to satisfy our needs."
   ]
  },
  {
   "cell_type": "markdown",
   "metadata": {
    "slideshow": {
     "slide_type": "slide"
    }
   },
   "source": [
    "#### <b> Open source <b/>\n",
    "* Use your scripts even if your institute is not able to buy expensive software (MATLAB or IDL). You can make changes in the code, or at least have the possibility to look at the source code if you suspect that there is a bug."
   ]
  },
  {
   "cell_type": "markdown",
   "metadata": {
    "slideshow": {
     "slide_type": "slide"
    }
   },
   "source": [
    "#### <b> Works (nearly) everywhere <b/>\n",
    "* Unixoid, Windows and more, but some modules will propably work only on limited number of operating systems (e.g. PyNGL, pyFerret)."
   ]
  },
  {
   "cell_type": "markdown",
   "metadata": {
    "slideshow": {
     "slide_type": "slide"
    }
   },
   "source": [
    "#### <b> Python does it <b/>\n",
    "* You can use it not only for data processing and visualization, but also for system administration, web development, database programming or parallelization (most propably i forgot the most). If you have Python knowledge you have many job perspectives, means of production are redistributed, grab it!"
   ]
  },
  {
   "cell_type": "markdown",
   "metadata": {
    "slideshow": {
     "slide_type": "slide"
    }
   },
   "source": [
    "#### <b> Yes, the two sides of the medal... <b/>\n"
   ]
  },
  {
   "cell_type": "markdown",
   "metadata": {
    "slideshow": {
     "slide_type": "fragment"
    }
   },
   "source": [
    "#### <b> Python has a smaller legacy of code <b/>\n",
    "* FORTRAN and Matlab are used for decades, have a lots of libraries for all (could be the case, really!) scientific needs. Although now main functionality is covered by python modules, there are still areas without a pythonic solution. If you have this problem it can be solved partly by integrating other languages ([MLabWrap](http://mlabwrap.sourceforge.net/), [F2py](http://www.f2py.com/)). And a growing user community will also speed up the developments."
   ]
  },
  {
   "cell_type": "markdown",
   "metadata": {
    "slideshow": {
     "slide_type": "slide"
    }
   },
   "source": [
    "### <b> Python can be incredibly slow <b/>\n",
    "* ... if you don't use vectorization or [Cython](http://www.cython.org/) or [numba](https://numba.pydata.org/) when loops are inevitable, or [dask](https://dask.pydata.org/en/latest/) when you have to work with parallel code. Critical parts still can be written in FORTRAN or C.  "
   ]
  },
  {
   "cell_type": "markdown",
   "metadata": {
    "slideshow": {
     "slide_type": "slide"
    }
   },
   "source": [
    "More reading on this topic:\n",
    "\n",
    "*  [Why you should use python](https://developer.ibm.com/languages/python/blogs/use-python-for-scientific-research/)\n",
    "*  [Matlab versus Python](https://realpython.com/matlab-vs-python/#you-will-probably-see-this-syntax)\n",
    "*  [Eight Advantages of Python Over Matlab](http://phillipmfeldman.org/Python/Advantages_of_Python_Over_Matlab.html)"
   ]
  },
  {
   "cell_type": "markdown",
   "metadata": {
    "slideshow": {
     "slide_type": "slide"
    }
   },
   "source": [
    "### Python in Earth Sciences, forecast realized!"
   ]
  },
  {
   "cell_type": "markdown",
   "metadata": {
    "slideshow": {
     "slide_type": "fragment"
    }
   },
   "source": [
    "Lin, J. W.-B. (2012). [**Why Python Is the Next Wave in Earth Sciences Computing**](http://journals.ametsoc.org/doi/full/10.1175/BAMS-D-12-00148.1). *Bulletin of the American Meteorological Society*, 93(12), 1823–1824. doi:10.1175/BAMS-D-12-00148.1"
   ]
  },
  {
   "cell_type": "markdown",
   "metadata": {
    "slideshow": {
     "slide_type": "fragment"
    }
   },
   "source": [
    "* Python is not new, but exploded into use in the atmospheric sciences just a few years ago after the development community (community, thats it!) converged upon the standard scientific packages (e.g., array handling) needed for atmospheric sciences work.\n",
    "\n",
    "* Much more robust and flexible workflow. Everything from data download to data analysys, visualization and finally writing a paper can be done in one environment.\n",
    "\n",
    "* Ability to access innovations from industries outside of the Earth sciences (cloud computing, big data, mobile computing).\n",
    "\n",
    "* Institutional support includes groups at Lawrence Livermore National Laboratory’s Program for Climate Model Diagnosis and Intercomparison, NCAR’s Computer Information Systems Laboratory, and the British Atmospheric Data Centre as well as Geoscience Australia."
   ]
  },
  {
   "cell_type": "markdown",
   "metadata": {
    "slideshow": {
     "slide_type": "slide"
    }
   },
   "source": [
    "### Further reading:\n",
    "*  [Lectures on Scientific Computing with Python.](https://github.com/jrjohansson/scientific-python-lectures#online-read-only-versions)\n",
    "*  [Python Scientific Lecture Notes](http://scipy-lectures.github.io/)\n",
    "*  [Great community](https://2021.geopython.net/)\n",
    "* hit your favorite search engine!\n"
   ]
  },
  {
   "cell_type": "markdown",
   "metadata": {},
   "source": [
    "---"
   ]
  },
  {
   "cell_type": "markdown",
   "metadata": {
    "slideshow": {
     "slide_type": "skip"
    }
   },
   "source": [
    "This is notebook is adapted from [**Python for Geosciences**](https://github.com/koldunovn/python_for_geosciences) ."
   ]
  }
 ],
 "metadata": {
  "kernelspec": {
   "display_name": "Python 3",
   "language": "python",
   "name": "python3"
  },
  "language_info": {
   "codemirror_mode": {
    "name": "ipython",
    "version": 3
   },
   "file_extension": ".py",
   "mimetype": "text/x-python",
   "name": "python",
   "nbconvert_exporter": "python",
   "pygments_lexer": "ipython3",
   "version": "3.9.4"
  }
 },
 "nbformat": 4,
 "nbformat_minor": 4
}

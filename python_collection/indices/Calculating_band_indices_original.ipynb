{
 "cells": [
  {
   "cell_type": "markdown",
   "metadata": {},
   "source": [
    "<img align=\"right\" src=\"../img/notebook_banner_siegel.png\">"
   ]
  },
  {
   "cell_type": "markdown",
   "metadata": {},
   "source": [
    "# Calculating band indices\n",
    "\n",
    "\n",
    "* [**Sign up to eo2cube**](https://google.com) to try this notebook in your browser\n",
    "* **Compatibility:** Notebook currently compatible the eo2cube environmenst\n",
    "* **Products used:** \n",
    "[s2_l2a_](https://sentinel.esa.int/web/sentinel/missions/sentinel-2)"
   ]
  },
  {
   "cell_type": "markdown",
   "metadata": {},
   "source": [
    "Many thanks to Digital Earth Australia and all participants (Krause, C., Dunn, B., Bishop-Taylor, R., Adams, C., Burton, C., Alger, M., Chua, S., Phillips, C., Newey, V., Kouzoubov, K., Leith, A., Ayers, D., Hicks, A., DEA Notebooks contributors 2021. Digital Earth Australia notebooks and tools repository. Geoscience Australia, https://doi.org/10.26186/145234). This notebooks uses the DEA notebook structure, ideas and algorithms developed by DEA."
   ]
  },
  {
   "cell_type": "markdown",
   "metadata": {},
   "source": [
    "## Background\n",
    "Remote sensing indices are combinations of spectral bands used to highlight features in the data and the underlying landscape.\n",
    "Using Analysis-ready satellite data, we can easily calculate a wide range of remote sensing indices that can be used to assist in mapping and monitoring features like vegetation and water consistently through time, or as inputs to machine learning or classification algorithms."
   ]
  },
  {
   "cell_type": "markdown",
   "metadata": {},
   "source": [
    "## Description\n",
    "This notebook demonstrates how to:\n",
    " \n",
    "* Calculate an index manually using `xarray`\n",
    "* Calculate one or multiple indices using the function `s2_indices` from `tools/bandindices.py`\n",
    "* Calculate indices while dropping original bands from a dataset\n",
    "* Calculate an index in-place without duplicating original data to save memory on large datasets\n",
    " \n",
    "***"
   ]
  },
  {
   "cell_type": "markdown",
   "metadata": {},
   "source": [
    "## Getting started\n",
    "To run this analysis, run all the cells in the notebook, starting with the \"Load packages\" cell. "
   ]
  },
  {
   "cell_type": "markdown",
   "metadata": {},
   "source": [
    "### Load packages"
   ]
  },
  {
   "cell_type": "code",
   "execution_count": null,
   "metadata": {},
   "outputs": [],
   "source": [
    "%matplotlib inline\n",
    "\n",
    "import datacube\n",
    "import matplotlib.pyplot as plt\n",
    "import matplotlib.gridspec as gridspec\n",
    "import numpy as np\n",
    "import pandas as pd\n",
    "import sys\n",
    "import geopandas as gpd\n",
    "import xarray as xr\n",
    "#from tools.deawater import wofs_classify\n",
    "\n",
    "from tools.plotting import rgb\n",
    "from tools.bandindices import s2_indices\n"
   ]
  },
  {
   "cell_type": "markdown",
   "metadata": {},
   "source": [
    "### Connect to the datacube"
   ]
  },
  {
   "cell_type": "code",
   "execution_count": null,
   "metadata": {},
   "outputs": [],
   "source": [
    "dc = datacube.Datacube(app='indices')"
   ]
  },
  {
   "cell_type": "markdown",
   "metadata": {},
   "source": [
    "### Load vectorfile"
   ]
  },
  {
   "cell_type": "code",
   "execution_count": null,
   "metadata": {},
   "outputs": [],
   "source": [
    "oanob = gpd.read_file('vector/oanob_dam.geojson')"
   ]
  },
  {
   "cell_type": "code",
   "execution_count": null,
   "metadata": {},
   "outputs": [],
   "source": [
    "#extract coordinates\n",
    "minx = oanob.bounds.iloc[0,0]\n",
    "maxx = oanob.bounds.iloc[0,2]\n",
    "miny = oanob.bounds.iloc[0,1]\n",
    "maxy = oanob.bounds.iloc[0,3]\n"
   ]
  },
  {
   "cell_type": "code",
   "execution_count": null,
   "metadata": {},
   "outputs": [],
   "source": [
    "oanob"
   ]
  },
  {
   "cell_type": "markdown",
   "metadata": {},
   "source": [
    "## Create a query and load satellite data\n",
    "To demonstrate how to compute a remote sensing index, we first need to load in a time series of satellite"
   ]
  },
  {
   "cell_type": "code",
   "execution_count": null,
   "metadata": {},
   "outputs": [],
   "source": [
    "dataset = dc.load(product = 's2_l2a_namibia', # works also with timestamp\n",
    "                          x=(minx, maxx),\n",
    "                          y=(miny, maxy),\n",
    "                          crs='EPSG:32734',\n",
    "                          time=('2020-01-01', '2020-01-31'),\n",
    "                          #resolution=(-100,100),\n",
    "                          #resampling={'*': 'cubic', 'scl': 'med'},\n",
    "                          group_by='solar_day')"
   ]
  },
  {
   "cell_type": "code",
   "execution_count": null,
   "metadata": {
    "tags": []
   },
   "outputs": [],
   "source": [
    "dataset"
   ]
  },
  {
   "cell_type": "markdown",
   "metadata": {},
   "source": [
    "### Mask your data using the scene classification\n",
    "Here you will find a description of the Sentinel-2 [scene classification](https://earth.esa.int/web/sentinel/technical-guides/sentinel-2-msi/level-2a/algorithm)"
   ]
  },
  {
   "cell_type": "code",
   "execution_count": null,
   "metadata": {
    "tags": []
   },
   "outputs": [],
   "source": [
    "# thats python, one line, one mask\n",
    "s2_clean_mask = dataset.scl.isin([4, 5, 6, 7])\n",
    "s2_clean_mask"
   ]
  },
  {
   "cell_type": "code",
   "execution_count": null,
   "metadata": {
    "tags": []
   },
   "outputs": [],
   "source": [
    "# booleans to integer, mask to dataset\n",
    "mask = s2_clean_mask.astype('uint8')\n",
    "dataset['mask'] = mask.astype('uint8')\n",
    "#dataset"
   ]
  },
  {
   "cell_type": "markdown",
   "metadata": {},
   "source": [
    "#### The mask can be used for a evaluating the cloud percentage"
   ]
  },
  {
   "cell_type": "code",
   "execution_count": null,
   "metadata": {},
   "outputs": [],
   "source": [
    "# Not validated code! Maybe sth still wrong, or there are really so less clouds\n",
    "#\n",
    "times = list(dataset.time.values)\n",
    "percentage_list = list((((dataset.sum(dim=['x','y'])/\n",
    "                          ((dataset.dims)['y']*(dataset.dims)['x']))\n",
    "                        .mask).values)*100)\n",
    "data = {\"Acquisition time\": times,\n",
    "            \"Cloud free pixel[%]\": percentage_list}\n",
    "s2_cct = pd.DataFrame(data=data, columns = [\"Acquisition time\", \"Cloud free pixel[%]\"])\n",
    "s2_cct"
   ]
  },
  {
   "cell_type": "code",
   "execution_count": null,
   "metadata": {
    "tags": []
   },
   "outputs": [],
   "source": [
    "rgb(dataset, index=[0,1,2,3,4,5,6,7,8,9,10], size=5,\n",
    "   bands=['red_edge1','green','blue'])"
   ]
  },
  {
   "cell_type": "code",
   "execution_count": null,
   "metadata": {},
   "outputs": [],
   "source": [
    "# Not validated code! \n",
    "cloud_percent = 0.001\n",
    "#\n",
    "clean_dataset=dataset.sel(time=pd.to_datetime(\n",
    "((dataset.sum(dim=['x','y'])/\n",
    "  ((dataset.dims)['y']*(dataset.dims)['x']))\n",
    " .time.where(\n",
    "     ((dataset.sum(dim=['x','y'])/\n",
    "  ((dataset.dims)['y']*(dataset.dims)['x'])).mask) > cloud_percent,drop=True))\n",
    ".values.tolist()))"
   ]
  },
  {
   "cell_type": "code",
   "execution_count": null,
   "metadata": {},
   "outputs": [],
   "source": [
    "rgb(clean_dataset, index=[0,1,2,3,4,5,6,7,8,9,10], size=5,\n",
    "   bands=['red_edge1','green','blue'])"
   ]
  },
  {
   "cell_type": "code",
   "execution_count": null,
   "metadata": {
    "tags": []
   },
   "outputs": [],
   "source": [
    "rgb?"
   ]
  },
  {
   "cell_type": "markdown",
   "metadata": {},
   "source": [
    "#### Cloud cleaning"
   ]
  },
  {
   "cell_type": "code",
   "execution_count": null,
   "metadata": {},
   "outputs": [],
   "source": [
    "clean_dataset = clean_dataset.where(s2_clean_mask)"
   ]
  },
  {
   "cell_type": "code",
   "execution_count": null,
   "metadata": {},
   "outputs": [],
   "source": [
    "rgb(clean_dataset, index=[0,1,2,3,4,5,6,7,8,9,10], size=5,\n",
    "   bands=['red_edge1','green','blue'], robust=True)"
   ]
  },
  {
   "cell_type": "code",
   "execution_count": null,
   "metadata": {
    "tags": []
   },
   "outputs": [],
   "source": [
    "# Not validated code! sth. still wrong, since 100 % clouds isnt achieved even for NA data\n",
    "times = list(clean_dataset.time.values)\n",
    "percentage_list = list((((clean_dataset.sum(dim=['x','y'])/\n",
    "                          ((clean_dataset.dims)['y']*(clean_dataset.dims)['x']))\n",
    "                        .mask).values)*100)\n",
    "data = {\"Acquisition time\": times,\n",
    "            \"Cloud free pixel[%]\": percentage_list}\n",
    "s2_cct = pd.DataFrame(data=data, columns = [\"Acquisition time\", \"Cloud free pixel[%]\"])\n",
    "s2_cct"
   ]
  },
  {
   "cell_type": "code",
   "execution_count": null,
   "metadata": {},
   "outputs": [],
   "source": [
    "# plotting together\n",
    "plt.figure(figsize = (15,10))\n",
    "plt.plot(s2_cct[\"Acquisition time\"], s2_cct[\"Cloud free pixel[%]\"], 'b', markersize=10)\n",
    "plt.xticks(rotation=25,size=20,)\n",
    "plt.yticks(list(range(0,109,10)),size=20)\n",
    "plt.ylabel('cloud share [%]', size=20)\n",
    "plt.xlabel('year', size=20)\n",
    "plt.grid(True)\n",
    "\n",
    "#plt.savefig('Oanob Dam 2020.png')\n",
    "plt.show()"
   ]
  },
  {
   "cell_type": "markdown",
   "metadata": {},
   "source": [
    "#### Take a look into scl-band\n",
    "\n",
    "Clouds are a problem, cloud-masks are useful. But they aren't able to look through clouds. Masks have advantages and disadvantages, i.e. swap ommission with commission errors [(K., Tario et al.)](https://www.sciencedirect.com/science/article/pii/S2666017220300092#fig5)."
   ]
  },
  {
   "cell_type": "code",
   "execution_count": null,
   "metadata": {},
   "outputs": [],
   "source": [
    "%matplotlib inline\n",
    "dataset.isel(time=11).scl.plot(cmap='gnuplot', size=10,\n",
    "                             levels=[-1,0,1,2,3,4,5,6,7,8,9,10,11,12])"
   ]
  },
  {
   "cell_type": "markdown",
   "metadata": {},
   "source": [
    "### Plot the first image to see what our area looks like\n",
    "We can use the `rgb` function to plot the first timestep in our dataset as a true colour RGB image:"
   ]
  },
  {
   "cell_type": "code",
   "execution_count": null,
   "metadata": {},
   "outputs": [],
   "source": [
    "# Plot as an RGB image\n",
    "rgb(clean_dataset, index=[0,1,2,3,4,5,6,7,8,9,10], size=5,\n",
    "   bands=['red_edge1','green','blue'])"
   ]
  },
  {
   "cell_type": "markdown",
   "metadata": {},
   "source": [
    "### WAIT!"
   ]
  },
  {
   "cell_type": "markdown",
   "metadata": {},
   "source": [
    "Looking at pictures is nice, but we need a deeper understatement of what we are looking at. And we need to control the data we are looking at. For this you can find short overview here: https://science.nasa.gov/ems"
   ]
  },
  {
   "cell_type": "markdown",
   "metadata": {},
   "source": [
    "## Calculate an index for this area manually\n",
    "One of the most commonly used remote sensing indices is the Normalised Difference Vegetation Index or `NDVI`. \n",
    "This index uses the ratio of the red and near-infrared (NIR) bands to identify live green vegetation.\n",
    "The formula for NDVI is:\n",
    "\n",
    "$$\n",
    "\\begin{aligned}\n",
    "\\text{NDVI} & = \\frac{(\\text{(NARROW)NIR} - \\text{Red})}{(\\text{(NARROW)NIR} + \\text{Red})} \\\\\n",
    "\\end{aligned}\n",
    "$$\n",
    "\n",
    "When interpreting this index, high values indicate vegetation, and low values indicate soil or water. It can be useful to look at a hyperspectral labratory dataset like this one:\n",
    "<img src=\"../img/hyper.png\" width=850px > [source](https://www.researchgate.net/publication/262881350_Remote_detection_of_invasive_plants_A_review_of_spectral_textural_and_phenological_approaches)"
   ]
  },
  {
   "cell_type": "markdown",
   "metadata": {},
   "source": [
    "<img src=\"../img/hypex.jpg\" width=850px > [source](https://www.sciencedirect.com/science/article/abs/pii/S030324341830504X)"
   ]
  },
  {
   "cell_type": "markdown",
   "metadata": {},
   "source": [
    "Beside this useful Index, there are many others, which can also be useful in certain cases (see below). The MSI (multispectral instrument), which is the measurement unit on Sentinel-2 satellites, have so called red-edge bands (see figure below, band 5, 6 and 7). They are located between the visible red (4) and the near infrared bands (8 and 8a).\n"
   ]
  },
  {
   "cell_type": "markdown",
   "metadata": {},
   "source": [
    "<img src=\"../img/sentinel_2_channels.png\" width=1200px > [source](https://blogs.fu-berlin.de/reseda/sentinel-2/)"
   ]
  },
  {
   "cell_type": "markdown",
   "metadata": {},
   "source": [
    "### WAIT!\n",
    "\n",
    "Near Infrared? There are two bands 8?\n",
    "\n",
    "And what about band 5, 6 and 7?\n",
    "\n",
    "What about band 9?\n",
    "\n",
    "[Spectral signatures? ](https://gisgeography.com/spectral-signature/)"
   ]
  },
  {
   "cell_type": "markdown",
   "metadata": {},
   "source": [
    "### Back to the NDVI"
   ]
  },
  {
   "cell_type": "code",
   "execution_count": null,
   "metadata": {},
   "outputs": [],
   "source": [
    "# Calculate NDVI using the formula above\n",
    "dataset['ndvi'] = (dataset.narrow_nir - dataset.red) / (dataset.narrow_nir + dataset.red)\n",
    "\n",
    "# Plot the results for one time step to see what they look like:\n",
    "dataset.ndvi.isel(time=0).plot(vmin=-0.5, vmax=0.8, cmap='RdYlGn', size=10)"
   ]
  },
  {
   "cell_type": "code",
   "execution_count": null,
   "metadata": {},
   "outputs": [],
   "source": [
    "# Calculate NDVI narrow_nir\n",
    "dataset['ndvi'] = (dataset.nir - dataset.red) / (dataset.nir + dataset.red)\n",
    "\n",
    "# Plot the results for one time step to see what they look like:\n",
    "dataset.ndvi.isel(time=0).plot(vmin=-0.5, vmax=0.75, cmap='RdYlGn', size=10)"
   ]
  },
  {
   "cell_type": "code",
   "execution_count": null,
   "metadata": {},
   "outputs": [],
   "source": [
    "# Calculate NDVI using the formula above\n",
    "dataset['ndvi'] = (dataset.narrow_nir - dataset.red) / (dataset.narrow_nir + dataset.red)\n",
    "\n",
    "# Plot the results for one time step to see what they look like:\n",
    "dataset.ndvi.isel(time=0).plot(vmin=-0.5, vmax=0.8, cmap='RdYlGn', size=10)"
   ]
  },
  {
   "cell_type": "code",
   "execution_count": null,
   "metadata": {},
   "outputs": [],
   "source": []
  },
  {
   "cell_type": "code",
   "execution_count": null,
   "metadata": {},
   "outputs": [],
   "source": [
    "# Use the whole green \n",
    "dataset['ndvi'] = (dataset.green - dataset.red) / (dataset.green + dataset.red)\n",
    "\n",
    "# Plot the results for one time step to see what they look like:\n",
    "dataset.ndvi.isel(time=0).plot(vmin=-0.5, vmax=0.75, cmap='RdYlGn', size=10)"
   ]
  },
  {
   "cell_type": "markdown",
   "metadata": {},
   "source": [
    "[Sentinel-2 red-edge position:](https://www.sciencedirect.com/science/article/pii/S092427161300107X)"
   ]
  },
  {
   "cell_type": "code",
   "execution_count": null,
   "metadata": {},
   "outputs": [],
   "source": [
    "# use S2REP, finding a useful part of the index could be tricky, maybe there is none\n",
    "# \n",
    "#((((dataset.nir + dataset.red)/2) − dataset.red_edge1)/(dataset.red_edge2 − dataset.red_edge1)) \n",
    "dataset['s2rep'] = 705+35 * ((((dataset.nir + dataset.red)/2) - dataset.red_edge1)/(dataset.red_edge2 - dataset.red_edge1)) \n",
    "# Plot the results for one time step to see what they look like:\n",
    "dataset.s2rep.isel(time=2).plot(vmin=-1, vmax=1, cmap='RdYlGn', size=10)"
   ]
  },
  {
   "cell_type": "markdown",
   "metadata": {},
   "source": [
    "## Calculate an index for the same area using `s2_indices` function\n",
    "\n",
    "The `calculate_indices` function provides an easier way to calculate a wide range of remote sensing indices, including:\n",
    "\n",
    "- **AWEI_ns** (Automated Water Extraction Index,no shadows, Feyisa 2014)\n",
    "- **AWEI_sh** (Automated Water Extraction Index,shadows, Feyisa 2014)\n",
    "- **BAEI**    (Built-Up Area Extraction Index, Bouzekri et al. 2015) \n",
    "- **BAI**     (Burn Area Index, Martin 1998)\n",
    "- **BSI**     (Bare Soil Index, Rikimaru et al. 2002)\n",
    "- **BUI**     (Built-Up Index, He et al. 2010)\n",
    "- **CMR**     (Clay Minerals Ratio, Drury 1987)\n",
    "- **EVI**     (Enhanced Vegetation Index, Huete 2002)\n",
    "- **FMR**     (Ferrous Minerals Ratio, Segal 1982)\n",
    "- **IOR**     (Iron Oxide Ratio, Segal 1982)  \n",
    "- **LAI**     (Leaf Area Index, Boegh 2002)\n",
    "- **MNDWI**   (Modified Normalised Difference Water Index, Xu 1996) \n",
    "- **MSAVI**   (Modified Soil Adjusted Vegetation Index, Qi et al. 1994)              \n",
    "- **NBI**     (New Built-Up Index, Jieli et al. 2010)\n",
    "- **NBR**     (Normalised Burn Ratio, Lopez Garcia 1991)\n",
    "- **NDBI**    (Normalised Difference Built-Up Index, Zha 2003)\n",
    "- **NDCI**    (Normalised Difference Chlorophyll Index, Mishra & Mishra, 2012)\n",
    "- **NDMI**    (Normalised Difference Moisture Index, Gao 1996)        \n",
    "- **NDSI**    (Normalised Difference Snow Index, Hall 1995)\n",
    "- **NDVI**    (Normalised Difference Vegetation Index, Rouse 1973)\n",
    "- **nNDVI**   (Normalised Difference Vegetation Index using Sentinel-2 band 8a, Rouse 1973)\n",
    "- **kNDVI**   (Normalised Difference Vegetation Index, Camp-Valls 2021)\n",
    "- **NDWI**    (Normalised Difference Water Index, McFeeters 1996)\n",
    "- **SAVI**    (Soil Adjusted Vegetation Index, Huete 1988)\n",
    "- **TCB**     (Tasseled Cap Brightness, Crist 1985)\n",
    "- **TCG**     (Tasseled Cap Greeness, Crist 1985)\n",
    "- **TCW**     (Tasseled Cap Wetness, Crist 1985)\n",
    "- **WI**      (Water Index, Fisher 2016) "
   ]
  },
  {
   "cell_type": "markdown",
   "metadata": {},
   "source": [
    "### Using `s2_indices`, we get the same result (if we are using the same index):"
   ]
  },
  {
   "cell_type": "code",
   "execution_count": null,
   "metadata": {},
   "outputs": [],
   "source": [
    "# Calculate NDVI using `calculate indices`\n",
    "data_ndvi = s2_indices(dataset, index='kNDVI')\n",
    "\n",
    "# Plot the results \n",
    "data_ndvi.kNDVI.isel(time=0).plot(vmin=0, vmax=0.3, cmap='RdYlGn', size=10)"
   ]
  },
  {
   "cell_type": "markdown",
   "metadata": {},
   "source": [
    "# <b>Lets make a break or check indices...<b>"
   ]
  },
  {
   "cell_type": "markdown",
   "metadata": {},
   "source": [
    "### Using calculate_indices to calculate multiple indices at once\n",
    "The `calculate_indices` function makes it straightforward to calculate multiple remote sensing indices in one line of code.\n",
    "\n",
    "In the example below, we will calculate `NDVI` as well as two common water indices: the Normalised Difference Water Index (`NDWI`), and the Modified Normalised Difference Index (`MNDWI`).\n",
    "The new indices will appear in the list of `data_variables` below:"
   ]
  },
  {
   "cell_type": "code",
   "execution_count": null,
   "metadata": {
    "tags": []
   },
   "outputs": [],
   "source": [
    "# Calculate multiple indices\n",
    "dataset_multi = s2_indices(dataset, index=['nNDVI', 'NDVI', 'MNDWI', 'NDWI'])\n",
    "dataset_multi"
   ]
  },
  {
   "cell_type": "markdown",
   "metadata": {},
   "source": [
    "### Dropping original bands from a dataset\n",
    "We can also drop the original satellite bands from the dataset using `drop=True`. \n",
    "The dataset produced below should now only include the new `'NDVI', 'NDWI', 'MNDWI'` bands under `data_variables`:"
   ]
  },
  {
   "cell_type": "code",
   "execution_count": null,
   "metadata": {},
   "outputs": [],
   "source": [
    "## you can build a backup if needed\n",
    "# testset = dataset"
   ]
  },
  {
   "cell_type": "code",
   "execution_count": null,
   "metadata": {},
   "outputs": [],
   "source": [
    "# Calculate multiple indices and drop original bands\n",
    "dataset_drop = s2_indices(dataset, \n",
    "                            index=['NDVI', 'NDWI', 'MNDWI'], \n",
    "                            drop=True)\n",
    "dataset_drop"
   ]
  },
  {
   "cell_type": "markdown",
   "metadata": {},
   "source": [
    "### Calculating indices in-place to reduce memory usage for large datasets\n",
    "By default, the `s2_indices` function will create a new copy of the original data that contains the newly generated remote sensing indices.\n",
    "This can be problematic for large datasets, as this effectively doubles the amount of data that is stored in memory.\n",
    "\n",
    "To calculate remote sensing indices directly in-place within the original dataset without copying the data, we can run the function with the parameter `inplace=True`. \n",
    "Note that we don't need to assign any output for the function, as the changes will be made to the original data."
   ]
  },
  {
   "cell_type": "code",
   "execution_count": null,
   "metadata": {},
   "outputs": [],
   "source": [
    "# Calculate index in place without copying data\n",
    "s2_indices(dataset, \n",
    "                  index=['TCW'], \n",
    "                  inplace=True)\n",
    "dataset"
   ]
  },
  {
   "cell_type": "markdown",
   "metadata": {},
   "source": [
    "### Water mask using the Wofs \n",
    "[Muller et al.](https://www.sciencedirect.com/science/article/pii/S0034425715301929) show the potential of Landsat imagery for long-term analysis of water. [Getting Landsat](https://earthexplorer.usgs.gov/) data isn't the biggest problem, as well as the amount of data compared to the Copernicus project. Lets try it with Sentinel-2."
   ]
  },
  {
   "cell_type": "code",
   "execution_count": null,
   "metadata": {
    "tags": []
   },
   "outputs": [],
   "source": [
    "wofs = wofs_classify(dataset)"
   ]
  },
  {
   "cell_type": "code",
   "execution_count": null,
   "metadata": {},
   "outputs": [],
   "source": []
  },
  {
   "cell_type": "code",
   "execution_count": null,
   "metadata": {},
   "outputs": [],
   "source": []
  },
  {
   "cell_type": "markdown",
   "metadata": {},
   "source": [
    "### Export as cloud-optimized geo-tiff"
   ]
  },
  {
   "cell_type": "code",
   "execution_count": null,
   "metadata": {},
   "outputs": [],
   "source": [
    "from datacube.utils.cog import write_cog"
   ]
  },
  {
   "cell_type": "code",
   "execution_count": null,
   "metadata": {},
   "outputs": [],
   "source": [
    "write_cog(geo_im=dataset.isel(time=0).to_array(),\n",
    "         fname='test.tiff')"
   ]
  },
  {
   "cell_type": "code",
   "execution_count": null,
   "metadata": {},
   "outputs": [],
   "source": []
  },
  {
   "cell_type": "markdown",
   "metadata": {},
   "source": [
    "### Animation"
   ]
  },
  {
   "cell_type": "code",
   "execution_count": null,
   "metadata": {},
   "outputs": [],
   "source": [
    "from tools.plotting import xr_animation"
   ]
  },
  {
   "cell_type": "code",
   "execution_count": null,
   "metadata": {},
   "outputs": [],
   "source": [
    "xr_animation(ds=clean_dataset, \n",
    "             output_path='animated_timeseries.gif',\n",
    "             interval=500,\n",
    "             bands='blue', \n",
    "             show_text='Blue',\n",
    "             imshow_kwargs={'cmap': 'Blues', 'vmin': 0, 'vmax': 1000},\n",
    "             width_pixels=500) \n",
    "\n",
    "plt.close()"
   ]
  },
  {
   "cell_type": "code",
   "execution_count": null,
   "metadata": {},
   "outputs": [],
   "source": []
  },
  {
   "cell_type": "markdown",
   "metadata": {},
   "source": [
    "---\n",
    "\n",
    "## Additional information\n",
    "## Here the original DEA licenses are shown\n",
    "\n",
    "**License:** The code in this notebook is licensed under the [Apache License, Version 2.0](https://www.apache.org/licenses/LICENSE-2.0). \n",
    "Digital Earth Australia data is licensed under the [Creative Commons by Attribution 4.0](https://creativecommons.org/licenses/by/4.0/) license.\n",
    "\n",
    "**Last modified:** May 2020\n",
    "\n",
    "**Compatible datacube version:**"
   ]
  },
  {
   "cell_type": "code",
   "execution_count": null,
   "metadata": {},
   "outputs": [],
   "source": [
    "print('ODC version:',datacube.__version__)"
   ]
  },
  {
   "cell_type": "markdown",
   "metadata": {},
   "source": [
    "## Tags\n",
    "Browse all available tags on the DEA User Guide's [Tags Index](https://docs.dea.ga.gov.au/genindex.html)"
   ]
  },
  {
   "cell_type": "raw",
   "metadata": {
    "raw_mimetype": "text/restructuredtext"
   },
   "source": [
    "**Tags**: :index:`sandbox compatible`, :index:`NCI compatible`, :index:`dea_plotting`, :index:`dea_bandindices`, :index:`load_ard`, :index:`rgb`, :index:`calculate_indices`, :index:`landsat 8`, :index:`index calculation`, :index:`NDVI`, :index:`NDWI`, :index:`MNDWI`"
   ]
  },
  {
   "cell_type": "code",
   "execution_count": null,
   "metadata": {},
   "outputs": [],
   "source": []
  }
 ],
 "metadata": {
  "kernelspec": {
   "display_name": "Python 3",
   "language": "python",
   "name": "python3"
  },
  "language_info": {
   "codemirror_mode": {
    "name": "ipython",
    "version": 3
   },
   "file_extension": ".py",
   "mimetype": "text/x-python",
   "name": "python",
   "nbconvert_exporter": "python",
   "pygments_lexer": "ipython3",
   "version": "3.8.8"
  },
  "widgets": {
   "application/vnd.jupyter.widget-state+json": {
    "state": {},
    "version_major": 2,
    "version_minor": 0
   }
  }
 },
 "nbformat": 4,
 "nbformat_minor": 4
}

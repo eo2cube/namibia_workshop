{
 "cells": [
  {
   "cell_type": "markdown",
   "metadata": {
    "slideshow": {
     "slide_type": "slide"
    }
   },
   "source": [
    "<center>\n",
    "    <img src=\"images/git.png\" width=100 padding = 0px/>\n",
    "    <br>\n",
    "    <span style=\"font-family:Papyrus;  line-height= 0; font-size:2em;\">  An Introduction to Git and Github </span>\n",
    "<center>"
   ]
  },
  {
   "cell_type": "markdown",
   "metadata": {
    "slideshow": {
     "slide_type": "slide"
    }
   },
   "source": [
    "# Basics"
   ]
  },
  {
   "cell_type": "markdown",
   "metadata": {
    "slideshow": {
     "slide_type": "slide"
    }
   },
   "source": [
    "## Whats is git?\n",
    "\n",
    "- Git is a free software for distributed version management of files\n",
    "\n",
    "- Git was originally developed by Linus Torvald for source code management of the Linux kernel\n",
    "\n",
    "- It is by far the most widely used modern version control system in the world today\n",
    "\n",
    "- With its distributed architecture, Git is an example of a DVCS (Distributed Version Control System)\n",
    "\n"
   ]
  },
  {
   "cell_type": "markdown",
   "metadata": {
    "slideshow": {
     "slide_type": "slide"
    }
   },
   "source": [
    "## What is versioning\n",
    "\n",
    "Version control is a system that records changes to a file or set of files over time so that you can recall specific versions later. \n",
    "\n",
    "Types\n",
    "  \n",
    "  - Local Version Control Systems\n",
    "  - Centralized Version Control Systems\n",
    "  - Distributed Version Control Systems\n",
    "  "
   ]
  },
  {
   "cell_type": "markdown",
   "metadata": {
    "slideshow": {
     "slide_type": "slide"
    }
   },
   "source": [
    "<img src=\"images/dvcs.png\" width=400 padding = 0px/>"
   ]
  },
  {
   "cell_type": "markdown",
   "metadata": {
    "slideshow": {
     "slide_type": "slide"
    }
   },
   "source": [
    "## Why using VCS?\n",
    "\n",
    "- Keep track of all files in a project\n",
    "- Record any changes to project files\n",
    "- Restore previous versions of files\n",
    "- Compare and analyze code\n",
    "- Merge code from different computers and different team members.\n",
    "\n",
    "<img src=\"images/gitworkflow.png\" width=500 padding = 0px/>"
   ]
  },
  {
   "cell_type": "markdown",
   "metadata": {
    "slideshow": {
     "slide_type": "slide"
    }
   },
   "source": [
    "## Why git?\n",
    " \n",
    " - free and open software (GNU General Public License version 2.0)\n",
    " - small and fast\n",
    " - fast merging and branching\n",
    " - distributed repositories (decentralization)\n",
    " - Data security through content-hashes "
   ]
  },
  {
   "cell_type": "markdown",
   "metadata": {
    "slideshow": {
     "slide_type": "slide"
    }
   },
   "source": [
    "## How does it work\n",
    "I’m going to give you a lot of explanation here, but these are all the terminal commands that you really need to know to get started:\n",
    "\n",
    "```git clone```\n",
    "\n",
    "```git status```\n",
    "\n",
    "```git add```\n",
    "\n",
    "```git commit -m “ “```\n",
    "\n",
    "```git push```"
   ]
  },
  {
   "cell_type": "markdown",
   "metadata": {
    "slideshow": {
     "slide_type": "slide"
    }
   },
   "source": [
    "<img src=\"images/git_level.png\" width=500 padding = 0px/>"
   ]
  },
  {
   "cell_type": "markdown",
   "metadata": {
    "slideshow": {
     "slide_type": "slide"
    }
   },
   "source": [
    "## Configure your git environment\n",
    "\n",
    "`git config --global user.name \"exampleuser\"`\n",
    "\n",
    "`git config --global user.email \"my_email@example.com\"`\n",
    "\n",
    "optional: ```git config --global color.ui autoset``` \n",
    "\n",
    "Check if git is configured\n",
    "\n",
    "`cat ~/.gitconfig`"
   ]
  },
  {
   "cell_type": "markdown",
   "metadata": {
    "slideshow": {
     "slide_type": "slide"
    }
   },
   "source": [
    "## Git repository\n",
    "\n",
    "A repository is a collection of related items. In a repository or a repo are all files including their previous versions. This means that all changes made to a file are always available in the repository and it is possible to track who made which changes and when.\n",
    "\n",
    "Basically a git repository is a folder of items being tracked by Git. "
   ]
  },
  {
   "cell_type": "markdown",
   "metadata": {
    "slideshow": {
     "slide_type": "slide"
    }
   },
   "source": [
    "## Getting a Git Repository\n",
    "\n",
    "You typically obtain a Git repository in one of two ways:\n",
    "\n",
    "  1. You can clone an existing Git repository from elsewhere, or\n",
    "\n",
    "  2. You can take a local directory that is currently not under version control, and turn it into a Git repository\n",
    "\n"
   ]
  },
  {
   "cell_type": "markdown",
   "metadata": {
    "slideshow": {
     "slide_type": "slide"
    }
   },
   "source": [
    "## Clone a repository from Github\n",
    "\n",
    "<img style=\"float: right;\" width=270 src=\"images/git_clone.png\">\n",
    "\n",
    "Github offers 4 different ways:\n",
    "  1. ZIP: Just click on the 'Download zip' button\n",
    "  2. Https: `git clone https://github.com/eo2cube/eo2cube-tools.git`\n",
    "  3. SSH: see below  \n",
    "  4.  GitHub CLI: ```gh https://github.com/eo2cube/eo2cube-tools.git clone```"
   ]
  },
  {
   "cell_type": "markdown",
   "metadata": {
    "slideshow": {
     "slide_type": "slide"
    }
   },
   "source": [
    "### Via SSH\n",
    "\n",
    "Create SSH key\n",
    "\n",
    "```ssh-keygen -t rsa -b 4096 -C \"my_email@example.com\"```\n",
    "\n",
    "First, make sure that ssh-agent is running with:\n",
    "\n",
    "```ssh-agent -s``` \n",
    "\n",
    "Then, add your private key to ssh-agent with:\n",
    "\n",
    "```ssh-add ~/.ssh/id_rsa```\n",
    "\n",
    "Next, you need to copy your public SSH key to the clipboard.\n",
    "\n",
    "```cat ~/.ssh/id_rsa.pub``` # Linux\n",
    "\n",
    "```clip < ~/.ssh/id_rsa.pub``` # Windows\n",
    "\n",
    "Go to your GitHub settings page and click the \"New SSH key\" button\n",
    "\n",
    "<img width=350 src=\"images/add-ssh.png\">\n"
   ]
  },
  {
   "cell_type": "markdown",
   "metadata": {
    "slideshow": {
     "slide_type": "slide"
    }
   },
   "source": [
    "## Create own repository\n",
    "\n",
    "If you want to create your own git repository you just have to create a new project folder and then initialize it as a Git repository. \n",
    "\n",
    "Create folder with project name\n",
    "\n",
    "```mkdir project_name ```\n",
    "\n",
    "Change into folder\n",
    "\n",
    "```cd project_name```\n",
    "\n",
    "Initialize the git repository\n",
    "\n",
    "```git init ```"
   ]
  },
  {
   "cell_type": "markdown",
   "metadata": {
    "slideshow": {
     "slide_type": "slide"
    }
   },
   "source": [
    "## Create example file\n",
    "\n",
    "Now that we've got a repository started let's add a file to it.\n",
    "\n",
    "```echo \"Hello World\" > test.html ```"
   ]
  },
  {
   "cell_type": "markdown",
   "metadata": {
    "slideshow": {
     "slide_type": "slide"
    }
   },
   "source": [
    "## Check status\n",
    "\n",
    "Next we want to check the status of your repository. We have already added a new file, so git should already have tracked the change. In order to check the status of yout git project you can use following command:\n",
    "\n",
    "```git status```\n",
    "\n"
   ]
  },
  {
   "cell_type": "markdown",
   "metadata": {
    "slideshow": {
     "slide_type": "slide"
    }
   },
   "source": [
    "## Staging\n",
    "\n",
    "You use the git add command to add a change from the working directory to the staging environment. This tells git to include updates to a particular file in the next commit. However, git add has no significant effect on the repository: changes are not committed until you run git commit.\n",
    "\n",
    "Stage one or multiple files\n",
    "\n",
    "```git add index.html ```\n",
    "\n",
    "```git add *.html ```\n",
    "\n",
    "```git add --all ```"
   ]
  },
  {
   "cell_type": "markdown",
   "metadata": {
    "slideshow": {
     "slide_type": "slide"
    }
   },
   "source": [
    "### Git Commit\n",
    "\n",
    "With the git commit command, you capture a snapshot of the project's currently deployed changes.  Commits are snapshots or milestones in the timeline of your Git project. Commits are created using the ```git commit``` command, which captures the status of a project at that exact point in time, which are then committed to the local repository.\n",
    "\n",
    "Commit changes in stage to lokal repository\n",
    "\n",
    "```git commit -m \"My first commit\"```\n",
    "\n",
    "If you want to stage and commit in one command you can also use\n",
    "\n",
    "```git commit -a -m \"some text\"```\n"
   ]
  },
  {
   "cell_type": "markdown",
   "metadata": {
    "slideshow": {
     "slide_type": "slide"
    }
   },
   "source": [
    "<img src=\"images/commit.png\" width=500 padding = 0px/>"
   ]
  },
  {
   "cell_type": "markdown",
   "metadata": {
    "slideshow": {
     "slide_type": "slide"
    }
   },
   "source": [
    "## Logs\n",
    "\n",
    "Once a project history of commits is created, you can revisit and check each commit in the history. One of the best utilities for checking the history of a Git repository is the git log command.\n",
    "\n",
    "```git log```\n",
    "\n",
    "<img src=\"images/logs.png\" width=500 padding = 0px/>\n",
    "\n",
    "This running log of commits contains the following four pieces of information:\n",
    "\n",
    "1. Commit Hash\n",
    "2. Commit Author\n",
    "3. Commit Date\n",
    "4. Commit Message\n",
    "\n",
    "If you want more information about a single commit you can use\n",
    "\n",
    "```git show [commithash]```"
   ]
  },
  {
   "cell_type": "markdown",
   "metadata": {
    "slideshow": {
     "slide_type": "slide"
    }
   },
   "source": [
    "# Github\n",
    "\n",
    "GitHub is a website that allows people everywhere to upload what they're working on with Git so that everyone can easily work together on the same project. GitHub which acts as the central repository for you and everyone else to share. You push your changes to it and pull down changes from others.\n",
    "\n",
    "<img src=\"images/github.jpeg\" width=200 padding = 0px/>"
   ]
  },
  {
   "cell_type": "markdown",
   "metadata": {
    "slideshow": {
     "slide_type": "slide"
    }
   },
   "source": [
    "## Create a GitHub repository\n",
    "\n",
    "- Visit [github.com](github.com) and sign up for a free account\n",
    "\n",
    "- You want to sync your local version with one stored on GitHub.com. First you have to create a new remote repository on GitHub.com.\n",
    "\n",
    "- Go to [github.com](github.com), log in, and click the **'+'** in the top right and then click **'New repository'**\n",
    "\n",
    "- Give it a name that matches your local repository's name and a short description."
   ]
  },
  {
   "cell_type": "markdown",
   "metadata": {
    "slideshow": {
     "slide_type": "slide"
    }
   },
   "source": [
    "### Readmes, .gitignores and Licenses\n",
    "\n",
    "Readmes, .gitignores and Licenses are common files in many open source projects.\n",
    "\n",
    "- A **readme** describes the project. It explains what the project is, how to use it, and often times, how to contribute.\n",
    "\n",
    "- **.gitignore** is a list of files that shouldn't be tracked by Github (e.g. password list)\n",
    "\n",
    "- The **license** contains the license. The license lets others know how they can change and distribute the software. For more information on different licenses: choosealicense.com."
   ]
  },
  {
   "cell_type": "markdown",
   "metadata": {
    "slideshow": {
     "slide_type": "slide"
    }
   },
   "source": [
    "## Connect to local\n",
    "\n",
    "To add a remote named 'origin' to your repository:\n",
    "\n",
    "```git remote add origin <GITHUBREPURL>```\n",
    "    \n",
    "The primary remote is typically named origin. Your local repository now knows where your remote repository, lives on GitHub's servers. \n",
    "\n",
    "You can check out your remotes with following command\n",
    "\n",
    "```git remote -v```"
   ]
  },
  {
   "cell_type": "markdown",
   "metadata": {
    "slideshow": {
     "slide_type": "slide"
    }
   },
   "source": [
    "## Push to remote\n",
    "\n",
    "Next you want to push everything we've done locally to your remote repository on GitHub. \n",
    "\n",
    "```git push origin main```\n",
    "\n",
    "Git has a branching system so that you can work on different parts of a project at different times. By default the first branch is named 'main'."
   ]
  },
  {
   "cell_type": "markdown",
   "metadata": {
    "slideshow": {
     "slide_type": "slide"
    }
   },
   "source": [
    "## Pull\n",
    "\n",
    "The git pull command is used to download content from a remote repository and immediately update the local repository to match the content.\n",
    "\n",
    "It is actually a combination of git fetch followed by git merge. The git pull command performs a git fetch that includes the local branch referenced by HEAD. Once the content has been downloaded, git pull starts a merge workflow. A new merge commit is created and HEAD is updated to point to the new commit.\n",
    "\n",
    "```git pull```\n",
    "\n",
    "or \n",
    "\n",
    "```git fetch ＜remote＞``` \n",
    "\n",
    "```git merge origin/＜current-branch＞```"
   ]
  },
  {
   "cell_type": "markdown",
   "metadata": {
    "slideshow": {
     "slide_type": "slide"
    }
   },
   "source": [
    "## Forks\n",
    "\n",
    "When you fork a repository, you're creating a copy of it on your GitHub account. Forks are used for creating your own version of a project or contributing back your changes to the original project.\n",
    "\n",
    "To do this, click on the \"Fork\" button at the very top right of the GitHub repository web page.\n",
    "\n",
    "<img src=\"images/fork.png\" width=500 padding = 0px/>"
   ]
  },
  {
   "cell_type": "markdown",
   "metadata": {
    "slideshow": {
     "slide_type": "slide"
    }
   },
   "source": [
    "## Branches\n",
    "\n",
    "Before you start developing, it is advisable to create your own branch. We can use branches to isolate work when needed. This feature allows multiple people to work on one project. Git branches are effectively references to a snapshot of your changes. When you want to add a new feature or fix a bug, you create a new branch that contains your changes This way you can do your work while the main, commonly named 'master', branch stays stable. When the work is finished you merge it back to the master.\n",
    "\n",
    "<img src=\"images/gitworkflow.png\" width=500 padding = 0px/>"
   ]
  },
  {
   "cell_type": "markdown",
   "metadata": {
    "slideshow": {
     "slide_type": "slide"
    }
   },
   "source": [
    "When you create a branch, Git copies everything from the current branch you're on and places it in the branch you've requested be made.\n",
    "\n",
    "List branches\n",
    "\n",
    "```git branch```\n",
    "\n",
    "Create branch \n",
    "\n",
    "```git branch my-feature```\n",
    "\n",
    "In order to switch into your branch and work you can use following:\n",
    "\n",
    "```git checkout <branch>```"
   ]
  },
  {
   "cell_type": "markdown",
   "metadata": {
    "slideshow": {
     "slide_type": "slide"
    }
   },
   "source": [
    "## Merge branch to main\n",
    "\n",
    "If we want our changes in the new branch to be merged in the main branch we can use the following commands\n",
    "\n",
    "```git branch```\n",
    "\n",
    "```git checkout main```\n",
    "\n",
    "```git merge feature-branch```"
   ]
  },
  {
   "cell_type": "markdown",
   "metadata": {
    "slideshow": {
     "slide_type": "slide"
    }
   },
   "source": [
    "## Pull Requests\n",
    "\n",
    "Often when you make changes and improvements to a project you've forked, you'll want to send those changes to the maintainer of the original and request that they pull those changes into the original so that everyone can benefit from the updates—that's a pull request\n",
    "\n",
    "<img src=\"images/pull_request.png\" width=500 padding = 0px/>"
   ]
  },
  {
   "cell_type": "markdown",
   "metadata": {},
   "source": [
    "## Gitlab integration\n",
    "\n",
    "<img src=\"images/gitlab.png\" width=300 padding = 0px/>"
   ]
  },
  {
   "cell_type": "code",
   "execution_count": null,
   "metadata": {},
   "outputs": [],
   "source": []
  },
  {
   "cell_type": "markdown",
   "metadata": {
    "slideshow": {
     "slide_type": "slide"
    }
   },
   "source": [
    "# Advanced git"
   ]
  },
  {
   "cell_type": "markdown",
   "metadata": {
    "slideshow": {
     "slide_type": "slide"
    }
   },
   "source": [
    "## View changes in files\n",
    "\n",
    "Git allows us to see the changes we've made in a file.\n",
    "\n",
    "```git diff <filename>```\n",
    "\n",
    "<img src=\"images/diff.png\" width=300 padding = 0px/>"
   ]
  },
  {
   "cell_type": "markdown",
   "metadata": {
    "slideshow": {
     "slide_type": "slide"
    }
   },
   "source": [
    "## Edit a commit\n",
    "\n",
    "If you want to change your last commit message (e.g. typo), you can use following command:\n",
    "\n",
    "```git commit --amend```\n",
    "\n",
    "If have forgotten to add a file to your latest commit you can also use the git-amend command\n",
    "\n",
    "```git add new_file``` \n",
    "\n",
    "```git commit --amend```"
   ]
  },
  {
   "cell_type": "markdown",
   "metadata": {
    "slideshow": {
     "slide_type": "slide"
    }
   },
   "source": [
    "## Clean up local commits \n",
    "\n",
    "--amend is nice, but it only allows you reword the latest commit. If you want to clean up your commits before pushing you can do this interactivly with rebase\n",
    "\n",
    "```git rebase --interactive ```"
   ]
  },
  {
   "cell_type": "markdown",
   "metadata": {
    "slideshow": {
     "slide_type": "slide"
    }
   },
   "source": [
    "## Stash\n",
    "\n",
    "Stashing code is kind of like a temporary save feature. It lets you save all your work, work on other files, and come back exactly where you left off. This is usefull for example if you have already changed some files and you don't want to lose your progress, but don't want these changes to appear in the commit history. \n",
    "\n",
    "Stash your files\n",
    "\n",
    "```git stash```\n",
    "\n",
    "List your stashed files\n",
    "\n",
    "```git stash list```\n",
    "\n",
    "To load your stash again\n",
    "\n",
    "```git stash apply```\n"
   ]
  },
  {
   "cell_type": "markdown",
   "metadata": {
    "slideshow": {
     "slide_type": "slide"
    }
   },
   "source": [
    "## Ignore file\n",
    "\n",
    "You can also tell git to ignore certain files, so we never accidentally commit the wrong file like passwords, to-dos, or entire database. Ignored files are tracked in a special file named ```.gitignore``` that is checked in at the root of your repository. There is no The .gitignore file must be edited and committed by hand when you have new files that you wish to ignore\n"
   ]
  },
  {
   "cell_type": "markdown",
   "metadata": {
    "slideshow": {
     "slide_type": "slide"
    }
   },
   "source": [
    "## Undo commits\n",
    "\n",
    "Revert:\n",
    "\n",
    "- Creates a new commit from a specified commit by inverting it. Hence, adds a new commit history to the project, but it does not modify the existing one.\n",
    "\n",
    "Reset:\n",
    "\n",
    "- Use this to return the entire working tree to the last committed state. \n",
    "\n",
    "The git reset command has three options\n",
    "\n",
    "```--soft```: Tells Git to reset HEAD to another commit, so index and the working directory will not be altered in any way.\n",
    "\n",
    "```--mixed```: Just like the soft, this will reset HEAD to another commit. It will also reset the index to match it while working directory will not be touched. \n",
    "\n",
    "```--hard```: This resets everything - it resets HEAD back to another commit, resets the index to match it, and resets the working directory to match it as well."
   ]
  },
  {
   "cell_type": "markdown",
   "metadata": {
    "slideshow": {
     "slide_type": "slide"
    }
   },
   "source": [
    "<img src=\"images/reset_revert.png\" width=500 padding = 0px/>"
   ]
  },
  {
   "cell_type": "markdown",
   "metadata": {
    "slideshow": {
     "slide_type": "slide"
    }
   },
   "source": [
    "Examples:\n",
    "\n",
    "In case you want to revert your commit and still preserve your changes locally\n",
    "\n",
    "```git revert HEAD```   \n",
    "\n",
    "In case you want to revert your commit and still preserve your changes locally\n",
    "\n",
    "```git reset --soft HEAD~1```\n",
    "\n",
    "If you want to revert your commit and do not want to preserve your changes locally\n",
    "\n",
    "```git reset --hard HEAD~1```\n",
    "\n",
    "Or if you want to undo the latest to commits\n",
    "\n",
    "```git reset HEAD~2```"
   ]
  },
  {
   "cell_type": "markdown",
   "metadata": {
    "slideshow": {
     "slide_type": "slide"
    }
   },
   "source": [
    "## Merge Conflicts\n",
    "\n",
    "When you try to merge/rebase code into other branches or other repos, and you and someone else has made a change on the same line, you'll get a conflict! \n",
    "\n",
    "If this happens git will not allow us, to push the file\n",
    "\n",
    "<img src=\"images/conflict.png\" width=300 padding = 0px/>\n",
    "\n",
    "But we can try to pull the from the repository. This will give us a message like this\n",
    "\n",
    "\n",
    "<img src=\"images/pull_conflict.png\" width=300 padding = 0px/>\n",
    "\n",
    "This tells us that git will not merge the pulled changes into our local repository, because it doesn't know which change we want to keep"
   ]
  },
  {
   "cell_type": "markdown",
   "metadata": {
    "slideshow": {
     "slide_type": "slide"
    }
   },
   "source": [
    "## How to solve this\n",
    "\n",
    "If we want to solve this problem we can look at the problem with ```git diff <filename>```.Git already marks the conflict for us.\n",
    "\n",
    "\n",
    "<img src=\"images/diff_conflict.png\" width=300 padding = 0px/>\n",
    "\n",
    "Now we can edit the file and just delete the option we don't want to use and of course the markers by githb\n",
    "\n",
    "<img src=\"images/file_conflict.png\" width=500 padding = 0px/>\n",
    "\n",
    "After that we can just add and commit the conflict file again\n",
    "\n",
    "```git add <filename>```\n",
    "\n",
    "```git commit <filename> -m \"solved merge conflict\"```\n",
    "\n",
    "And push it\n",
    "\n",
    "```git push origin main```\n",
    "\n"
   ]
  }
 ],
 "metadata": {
  "celltoolbar": "Slideshow",
  "kernelspec": {
   "display_name": "Python 3",
   "language": "python",
   "name": "python3"
  },
  "language_info": {
   "codemirror_mode": {
    "name": "ipython",
    "version": 3
   },
   "file_extension": ".py",
   "mimetype": "text/x-python",
   "name": "python",
   "nbconvert_exporter": "python",
   "pygments_lexer": "ipython3",
   "version": "3.8.8"
  }
 },
 "nbformat": 4,
 "nbformat_minor": 4
}

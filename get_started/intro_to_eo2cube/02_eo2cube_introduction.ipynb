{
 "cells": [
  {
   "cell_type": "markdown",
   "metadata": {},
   "source": [
    "<img align=\"right\" src=\"../../additional_data/banner_siegel.png\" style=\"width:1000px;\">"
   ]
  },
  {
   "cell_type": "markdown",
   "metadata": {},
   "source": [
    "# Introduction to eo2cube\n",
    "\n",
    "* [**Sign up to the JupyterHub**](https://www.phenocube.org/) to run this notebook interactively from your browser\n",
    "* **Compatibility:** Notebook currently compatible with the Open Data Cube environments of the University of Wuerzburg\n",
    "* **Prerequisites**:  Users of this notebook should have a basic understanding of:\n",
    "    * How to run a [Jupyter notebook](01_jupyter_introduction.ipynb)"
   ]
  },
  {
   "cell_type": "markdown",
   "metadata": {},
   "source": [
    "## Background\n",
    "It is underpinned by the [Open Data Cube](https://www.opendatacube.org/) (ODC), an open source software package that has an ever growing number of users, contributors and implementations.\n",
    "\n",
    "The ODC and eo2cube platforms are designed to:\n",
    "\n",
    "* Catalogue large amounts of Earth observation data\n",
    "* Provide a Python based API for high performance querying and data access\n",
    "* Give users easy ability to perform exploratory data analysis\n",
    "* Allow scalable sub-national-scale processing of the stored data\n",
    "* Track the provenance of data to allow for quality control and updates\n",
    "\n",
    "The eo2cube project catalogues data from a range of satellite sensors and has adopted processes and terminology that users should be aware of to enable efficient querying and use of the datasets stored within.\n",
    "This notebook introduces these important concepts and forms the basis of understanding for the remainder of the notebooks in this beginner's guide.\n",
    "Resources to further explore these concepts are recommended at the end of the notebook.\n",
    "\n",
    "\n",
    "## What is an Earth Oservation Data Cube\n",
    "\n",
    "Eo2cube makes use of the Open Data Cube (ODC). ODC is an Open Source Project for the geospatial data management and analyses of Big Earth data such as satellite time series. The overall goal is to unleash the power of satellite data. The core of the ODC is a set of Python libraries and a PostgreSQL database. The impact of the ODC hall be an increased value of continuously provided satellite time series.  Committee on Earth Observation Satellites (CEOS) is a founding partner of the Open Data Cube (ODC) and is committed to stewarding and contributing to the ODC architecture as part of the ODC community. According to CEOS, eo2cube seeks to encourage others to join the initiative with the goal to meet important goals of societal benefits, similar to the objectives of the Australian Geoscience Data Cube (AGDC) and Google Earth Engine (GEE), but differing inimplementation."
   ]
  },
  {
   "cell_type": "markdown",
   "metadata": {},
   "source": [
    "## Description\n",
    "This introduction to eo2cube will briefly introduce the ODC and catalouged data in the cube.\n",
    "It will also cover commonly-used terminology for measurements within product datasets.\n",
    "Topics covered include:\n",
    "\n",
    "* A brief introduction to the ODC\n",
    "* A review of the satellite sensors that provide eo2cube data\n",
    "* An introduction to analysis ready data and the processes to make it \n",
    "\n",
    "    \n",
    "***"
   ]
  },
  {
   "cell_type": "markdown",
   "metadata": {},
   "source": [
    "## Open Data Cube\n",
    "\n",
    "![Open Data Cube logo](https://miro.medium.com/max/651/1*VzFPvGV3k2ZhhqOcWyg6fQ.png) [[source]](https://medium.com/opendatacube)\n",
    "\n",
    "The [Open Data Cube](https://www.opendatacube.org/) (ODC) is an open-source software package for organising and analysing large quantities of Earth observation data.\n",
    "At its core, the Open Data Cube consists of a database where data is stored, along with commands to load, view and analyse that data.\n",
    "This functionality is delivered by the [datacube-core](https://github.com/opendatacube/datacube-core) open-source Python library.\n",
    "The library is designed to enable and support:\n",
    "\n",
    "* Large-scale workflows on high performance computing infrastructures\n",
    "* Exploratory data analysis\n",
    "* Cloud-based services\n",
    "* Standalone applications\n",
    "\n",
    "There are a number of existing implementations of the ODC, including [Digital Earth Australia](http://www.ga.gov.au/dea) or [Digital Earth Africa](https://www.digitalearthafrica.org/).\n",
    "More information can be found in the [Open Data Cube Manual](https://datacube-core.readthedocs.io/en/latest/index.html).\n"
   ]
  },
  {
   "cell_type": "markdown",
   "metadata": {},
   "source": [
    "## Satellite datasets in eo2cube\n",
    "eo2cube catalogues data from a range of satellite sensors:\n",
    "\n",
    "* [Landsat 5 TM](https://www.usgs.gov/land-resources/nli/landsat/landsat-5?qt-science_support_page_related_con=0#qt-science_support_page_related_con) (LS5 TM), operational between March 1984 and January 2013\n",
    "* [Landsat 7 ETM+](https://www.usgs.gov/land-resources/nli/landsat/landsat-7?qt-science_support_page_related_con=0#qt-science_support_page_related_con) (LS7 ETM+), operational since April 1999\n",
    "* [Landsat 8 OLI](https://www.usgs.gov/land-resources/nli/landsat/landsat-8?qt-science_support_page_related_con=0#qt-science_support_page_related_con) (LS8 OLI), operational since February 2013\n",
    "* [Sentinel 1A SAR](https://sentinel.esa.int/web/sentinel/missions/sentinel-1) (S1A SAR), operational since April 2014\n",
    "* [Sentinel 1B SAR](https://sentinel.esa.int/web/sentinel/missions/sentinel-1) (S1B SAR), operational since April 2016\n",
    "* [Sentinel 2A MSI](https://sentinel.esa.int/web/sentinel/missions/sentinel-2) (S2A MSI), operational since June 2015\n",
    "* [Sentinel 2B MSI](https://sentinel.esa.int/web/sentinel/missions/sentinel-2) (S2B MSI, operational since March 2017\n",
    "\n",
    "Landsat missions are jointly operated by the United States Geological Survey (USGS) and National Aeronautics and Space Administration (NASA).\n",
    "Sentinel missions are operated by the European Space Agency (ESA).\n",
    "One major difference between the two programs is the spatial resolution: each Landsat pixel represents 30 x 30 m on the ground while each Sentinel-2 pixel represents 10 x 10 m to 60 x 60 m depending on the spectral band.\n",
    "\n",
    "### Spectral bands\n",
    "All of the datasets listed above are captured by multispectral satellites.\n",
    "This means that the satellites measure primarily light that is reflected from the Earth's surface in discrete sections of the electromagnetic spectrum, known as *spectral bands*. \n",
    "Figure 1 shows the spectral bands for recent Landsat and Sentinel-2 sensors, allowing a direct comparison of how each sensor samples the overall electromagnetic spectrum.\n",
    "Landsat 5 TM is not displayed in this image; for reference, it measured light in seven bands that covered the same regions as bands 1 to 7 on Landsat 7 ETM+.\n",
    "\n",
    "![Image](https://prd-wret.s3-us-west-2.amazonaws.com/assets/palladium/production/s3fs-public/styles/full_width/public/thumbnails/image/dmidS2LS7Comparison.png)\n",
    "\n",
    "> **Figure 1:** The bands that are detected by each of the satellites are shown in the numbered boxes and the width of each box represents the spectral range that band detects.\n",
    "The bands are overlaid on the percentage transmission of each wavelength returned to the atmosphere from the Earth relative to the amount of incoming solar radiation. \n",
    "The y-axis has no bearing on the comparison of the satellite sensors [[source]](https://directory.eoportal.org/web/eoportal/satellite-missions/l/landsat-9).\n",
    "\n",
    "Figure 1 highlights that the numbering of the bands relative to the detected wavelengths is inconsistent between sensors.\n",
    "As an example, in the green region of the electromagnetic spectrum (around 560 nm), Landsat 5 TM and Landsat 7 ETM+ detect a wide green region called band 2, where as Landsat 8 OLI detects a slightly narrower region and calls it band 3.\n",
    "Finally, Sentinel-2 MSI (A and B) detects a narrow green region but also calls it band 3.\n",
    "Consequently, when working with different sensors, it is important to understand the differences in their bands, and any impact this could have on an analysis.\n",
    "Eo2cube tries to take this into account by using \n",
    "To promote awareness of these differences, DEA band naming is based on both the spectral band name and sample region.\n",
    "The naming convention will be covered in more detail in the [DEA band naming conventions section](#DEA-band-naming-conventions)."
   ]
  },
  {
   "cell_type": "markdown",
   "metadata": {},
   "source": [
    "## Analysis Ready Data\n",
    "\n",
    "eo2cube offers Analysis Ready Data (ARD) for each of the sensors listed above. \n",
    "The [ARD standard](http://ceos.org/ard/) for satellite data requires that data have undergone a number of processing steps, along with the creation of additional attributes for the data.\n",
    "DEA's ARD datasets include the following characteristics:\n",
    "\n",
    "* **Geometric correction:** This includes establishing ground position, accounting for terrain (orthorectification) and ground control points, and assessing absolute position accuracy. \n",
    "Geometric calibration means that imagery is positioned accurately on the Earth's surface and stacked consistently so that sequential observations can be used to track meaningful change over time.\n",
    "Adjustments for ground variability typically use a Digital Elevation Model (DEM).\n",
    "* **Surface reflectance correction:** This includes adjustments for sensor/instrument gains, biases and offsets, include adjustments for terrain illumination and sensor viewing angle with respect to the pixel position on the surface.\n",
    "Once satellite data is processed to surface reflectance, pixel values from the same sensor can be compared consistently both spatially and over time.\n",
    "* **Observation attributes:** Per-pixel metadata such as quality flags (pixel_qa, Landsat) or the sen2cor scene classification (scl, Sentinel 2) and content attribution that enable users to make informed decisions about the suitability of the products for their use. For example, clouds, cloud shadows, missing data, saturation and water are common pixel level attributes.\n",
    "* **Metadata:** Dataset metadata including the satellite, instrument, acquisition date and time, spatial boundaries, pixel locations, mode, processing details, spectral or frequency response and grid projection."
   ]
  },
  {
   "cell_type": "markdown",
   "metadata": {},
   "source": [
    "### Surface reflectance\n",
    "\n",
    "Optical sensors, such as those on the Landsat and Sentinel-2 satellites, measure light that has come from the sun and been reflected by the Earth's surface.\n",
    "The sensor measures the intensity of light in each of its spectral bands (known as \"radiance\").\n",
    "The intensity of this light is affected by many factors including the angle of the sun relative to the ground, the angle of the sensor relative to the ground, and how the light interacts with the Earth's atmosphere on its way to the sensor. \n",
    "Because radiance can be affected by so many factors, it is typically more valuable to determine how much light was originally reflected at the ground level.\n",
    "This is known as bottom-of-atmosphere **surface reflectance**, or Level 2A data.\n",
    "Surface reflectance can be calculated by using robust physical models to correct the observed radiance values based on atmospheric conditions, the angle of the sun, sensor geometry and local topography or terrain.\n",
    "\n",
    "### SAR data\n",
    "\n",
    "Remote sensing data from SAR systems like Sentinel-1, differs from optical systems."
   ]
  },
  {
   "cell_type": "markdown",
   "metadata": {},
   "source": [
    "## Data format\n",
    "\n",
    "### eo2cube band naming conventions\n",
    "\n",
    "To account for the various available satellite datasets, DEA uses a band naming convention to help distinguish datasets that come from the different sensors. \n",
    "The band names are comprised of the applied surface reflectance correction (NBAR or NBART) and the spectral region detected by the satellite. \n",
    "This removes all reference to the sensor band numbering scheme (e.g. [Figure 1](#Spectral-Bands)) and assumes that users understand that the spectral region described by the DEA band name is only approximately the same between sensors, not identical.\n",
    "\n",
    "**Table 1** summarises the eo2cube band naming terminology for the spectral regions of the optical sensors:\n",
    "\n",
    "|Spectral region|eo2cube measurement name |eo2cube measurement name |Landsat 5<br>TM|Landsat 7<br>ETM+|Landsat 8<br>OLI|Sentinel-2A,B<br>MSI|\n",
    "|----|----|----|----|----|----|----|\n",
    "|Coastal aerosol|coastal_aerosol|coastal_aerosol|||1|1|\n",
    "|Blue|blue|blue|1|1|2|2|\n",
    "|Green|green|green|2|2|3|3|\n",
    "|Red|red|red|3|3|4|4|\n",
    "|Red-Edge 1| \n",
    "|NIR (Near infra-red)|nir (Landsat)<br>narrow_nir (Sentinel-2)|nir (Landsat) <br>narrow_nir (Sentinel-2)|4|4|5|8|\n",
    "|SWIR 1 (Short wave infra-red 1)|swir_1 (Landsat) <br>swir_2 (Sentinel-2) |swir_1 (Landsat) <br>swir_2 (Sentinel-2)|5|5|6|11|\n",
    "|SWIR 2 (Short wave infra-red 2)|swir_2 (Landsat) <br>swir_3 (Sentinel-2) |swir_2 (Landsat) <br>swir_3 (Sentinel-2)|7|7|7|12|\n",
    "\n",
    "> **Note:** Be aware that NIR and SWIR band names differ between Landsat and Sentinel-2 due to the different number of these bands available in Sentinel-2. The `nir` Landsat band corresponds to the spectral region covered by Sentinel-2's `narrow_nir` band, the `swir_1` Landsat band corresponds to Sentinel-2's `swir_2` band, and the `swir_2` Landsat band corresponds to Sentinel-2's `swir_3` band.\n"
   ]
  },
  {
   "cell_type": "markdown",
   "metadata": {},
   "source": [
    "**ADAPT with focus on Sentinel-2**\n",
    "\n",
    "\n",
    "|Spectral region|eo2cube measurement name |Sentinel-2A,B<br>MSI|Landsat 5<br>TM|Landsat 7<br>ETM+|Landsat 8<br>OLI|\n",
    "|----|----|----|----|----|----|\n",
    "|Coastal aerosol|\n",
    "|Blue|\n",
    "|Green|\n",
    "|Red|\n",
    "|Red-Edge 1|\n",
    "|Red-Edge 2|\n",
    "|Red-Edge 3|\n",
    "|NIR|\n",
    "|Narrow NIR|\n",
    "|Water vapur|\n",
    "|SWIR 1 (Short wave infra-red 1)|\n",
    "|SWIR 2 (Short wave infra-red 2)|"
   ]
  },
  {
   "cell_type": "markdown",
   "metadata": {},
   "source": [
    "### eo2cube satellite data projection and holdings\n",
    "Keeping with the practices of the Landsat and Sentinel satellite programs, all satellite datasets should be projected using the **Universal Transverse Mercator (UTM)** coordinate reference system. **This is not the case for eo2cube!**<br>\n",
    "Sentinel-2 data is used in different UTM-projections, e.g. the Bavarian-Data-Cube uses the ETRS1989 ellipsoid instead of the WGS84. Landsat data is reprojected to the general WGS84 lat/lon projection. "
   ]
  },
  {
   "cell_type": "markdown",
   "metadata": {},
   "source": [
    "## Recommended next steps\n",
    "For more detailed information on the concepts introduced in this notebook, please see the [DEA User Guide](https://docs.dea.ga.gov.au/index.html#) and [Open Data Cube Manual](https://datacube-core.readthedocs.io/en/latest/).\n",
    "For more information on the development of the DEA platform, please see [Dhu et al. 2017](https://doi.org/10.1080/20964471.2017.1402490).\n",
    "\n",
    "<br>\n",
    "To continue working through the notebooks in this beginner's guide, the following notebooks are designed to be worked through in the following order:\n",
    "\n",
    "1. [Jupyter Notebooks](https://github.com/eo2cube/eo2cube_notebooks/blob/main/get_started/intro_to_eo2cube/01_jupyter_introduction.ipynb)\n",
    "2. ***eo2cube (this notebook)***\n",
    "3. [Loading Data](https://github.com/eo2cube/eo2cube_notebooks/blob/main/get_started/intro_to_eo2cube/03_data_lookup_and_loading.ipynb)\n",
    "4. [Xarray I: Data Structure](https://github.com/eo2cube/eo2cube_notebooks/blob/main/get_started/intro_to_eo2cube/04_xarrayI_data_structure.ipynb)\n",
    "5. [Xarray II: Index and Statistics](https://github.com/eo2cube/eo2cube_notebooks/blob/main/get_started/intro_to_eo2cube/05_xarrayII.ipynb)\n",
    "6. [Plotting data](https://github.com/eo2cube/eo2cube_notebooks/blob/main/get_started/intro_to_eo2cube/06_plotting_basics.ipynb)\n",
    "7. [Spatial analysis](https://github.com/eo2cube/eo2cube_notebooks/blob/main/get_started/intro_to_eo2cube/07_basic_analysis.ipynb)\n",
    "8. [Parallel processing with Dask](https://github.com/eo2cube/eo2cube_notebooks/blob/main/get_started/intro_to_eo2cube/08_parallel_processing_with_dask.ipynb)\n",
    "\n",
    "The additional notebooks are designed for users to build up both basic and advanced skills which are not covered by the beginner's guide. Self-motivated users can go through them according to their own needs. They act as complements for the guide:\n",
    "<br>\n",
    "\n",
    "1. [Python's file management tools](https://github.com/eo2cube/eo2cube_notebooks/blob/main/get_started/intro_to_eo2cube/I_file_management.ipynb)\n",
    "2. [Image Processing basics using NumPy and Matplotlib](https://github.com/eo2cube/eo2cube_notebooks/blob/main/get_started/intro_to_eo2cube/II_numpy_image_processing.ipynb)\n",
    "3. [Vector Processing](https://github.com/eo2cube/eo2cube_notebooks/blob/main/get_started/intro_to_eo2cube/III_process_vector_data.ipynb)\n",
    "4. [Advanced Plotting](https://github.com/eo2cube/eo2cube_notebooks/blob/main/get_started/intro_to_eo2cube/IV_advanced_plotting.ipynb)"
   ]
  },
  {
   "cell_type": "markdown",
   "metadata": {},
   "source": [
    "***\n",
    "\n",
    "## Additional information\n",
    "\n",
    "<font size=\"2\">This notebook for the usage in the Open Data Cube entities of the [Department of Remote Sensing](http://remote-sensing.org/), [University of Wuerzburg](https://www.uni-wuerzburg.de/startseite/), is adapted from [Geoscience Australia](https://github.com/GeoscienceAustralia/dea-notebooks), published using the Apache License, Version 2.0. Thanks! </font>\n",
    "\n",
    "**License:** The code in this notebook is licensed under the [Apache License, Version 2.0](https://www.apache.org/licenses/LICENSE-2.0). \n",
    "Digital Earth Australia data is licensed under the [Creative Commons by Attribution 4.0](https://creativecommons.org/licenses/by/4.0/) license.\n",
    "\n",
    "\n",
    "**Contact:** If you would like to report an issue with this notebook, you can file one on [Github](https://github.com).\n",
    "\n",
    "**Last modified:** January 2021"
   ]
  }
 ],
 "metadata": {
  "kernelspec": {
   "display_name": "Python 3",
   "language": "python",
   "name": "python3"
  },
  "language_info": {
   "codemirror_mode": {
    "name": "ipython",
    "version": 3
   },
   "file_extension": ".py",
   "mimetype": "text/x-python",
   "name": "python",
   "nbconvert_exporter": "python",
   "pygments_lexer": "ipython3",
   "version": "3.8.8"
  },
  "widgets": {
   "application/vnd.jupyter.widget-state+json": {
    "state": {},
    "version_major": 2,
    "version_minor": 0
   }
  }
 },
 "nbformat": 4,
 "nbformat_minor": 4
}

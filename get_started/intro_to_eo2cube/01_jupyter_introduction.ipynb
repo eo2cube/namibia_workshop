{
 "cells": [
  {
   "cell_type": "markdown",
   "metadata": {},
   "source": [
    "<img align=\"right\" src=\"../../additional_data/banner_siegel.png\" style=\"width:1000px;\">"
   ]
  },
  {
   "cell_type": "markdown",
   "metadata": {},
   "source": [
    "# Introduction to Jupyter notebooks \n",
    "\n",
    "* [**Sign up to the JupyterHub**](https://www.phenocube.org/) to run this notebook interactively from your browser\n",
    "* **Compatibility:** Notebook currently compatible with the Open Data Cube environments of the University of Wuerzburg\n",
    "* **Prerequisites**: There is no prerequisite learning required.\n"
   ]
  },
  {
   "cell_type": "markdown",
   "metadata": {},
   "source": [
    "## Background\n",
    "Access to implementations of the [Open Data Cube](https://www.opendatacube.org/) such as [Digital Earth Australia](https://www.ga.gov.au/dea) and [Bavarian Data Cube](https://www.phenocube.org/) is achieved through the use of Python code and [Jupyter Notebooks](https://jupyterlab.readthedocs.io/en/stable/user/notebook.html).\n",
    "The Jupyter Notebook is an interactive web application that allows viewing, creation and documentation of live code.Notebook applications include data transformation, visualisation, modelling and machine learning.\n",
    "\n"
   ]
  },
  {
   "cell_type": "markdown",
   "metadata": {},
   "source": [
    "## **What is Jupyter?**\n",
    "\n",
    "The *Jupyter Project* is an open source effort that evolved from the IPython project to support interactive data science and  computing. Besides `Python`, it also supports many different programming languages including `R` and `Julia`. \n",
    "\n",
    "*(If you're familiar with the `R` programming language, Jupyter Notebook can be compared to R Markdown)*.\n",
    "\n",
    "Jupyter is an open source platform that contains a suite of tools including:\n",
    "\n",
    "* **Jupyter Notebook**: ***A browser-based interactive development environment (IDE) that allows users to write and run e.g. `python` codes in individual cells where the output is displayed under each executed cell.***\n",
    "\n",
    "* **JupyterLab**: A browser-based application that allows you to access multiple Jupyter Notebook files as well as other code and data files.\n",
    "    \n",
    "* **Jupyter Hub**: A multi-person version of Jupyter Notebook and Lab that can be run on a server.\n",
    "\n",
    "In this tutorial, we aim at introducing you as much as necessary about jupyter notebook so that you could use it as your \"code editor\" to start playing around with Data Cube functions that you will learn in later tutorials."
   ]
  },
  {
   "cell_type": "markdown",
   "metadata": {},
   "source": [
    "## Optional (if needed): **How to install Jupyter Notebook?**\n",
    "\n",
    "### 1. Install Jupyter Notebook\n",
    "We recommend installing the classic Jupyter Notebook using the conda package manager. Either the miniconda or the miniforge conda distributions include a minimal conda installation.\n",
    "\n",
    "1. Download Miniconda: https://docs.conda.io/en/latest/miniconda.html\n",
    "\n",
    "2. Follow the Installation Instruction of Miniconda:\n",
    "https://conda.io/projects/conda/en/latest/user-guide/install/index.html\n",
    "\n",
    "3. Install the notebook with:\n",
    "`conda install -c conda-forge notebook`\n",
    "\n",
    "4. Run Jupyter Notebook with:\n",
    "`jupyter notebook`"
   ]
  },
  {
   "cell_type": "markdown",
   "metadata": {},
   "source": [
    "## **Components of Jupyter Notebook**\n",
    "\n",
    "1. ***Jupyter Notebook IDE***: The application that launches in a web browser like Firefox or Safari and is the environment where you write and run your code.\n",
    "\n",
    "2. ***Jupyter Notebook Files***(`.ipynb`): The file format that you can use to store code and markdown text for individual projects and workflows.\n",
    "\n",
    "3. ***Kernels***: A kernel runs your code in a specific programming language. In this tutorial, Python kernel is used within the Jupyter Notebook IDE."
   ]
  },
  {
   "cell_type": "markdown",
   "metadata": {},
   "source": [
    "## **Jupyter Notebook User Interface**\n",
    "\n",
    "After you create a new notebook file (.ipynb), you will be presented with **notebook name**, **menu bar**, **tool bar** and a **code cell** as default starting cell.\n",
    "\n",
    "![figure of notebook user interface](https://jupyter-notebook.readthedocs.io/en/stable/_images/blank-notebook-ui.png)\n",
    "\n",
    "* **Notebook Name**: if you click at the notebook name, you could rename the file.\n",
    "\n",
    "* **Menu Bar**: presents all functions and settings of the notebook file.\n",
    "\n",
    "* **Tool Bar**: presents the most used tools as icons.\n",
    "\n",
    "* **Code Cell**: it is the default type of cell when you create a new cell; if you want to transfer it to a **markdown cell**, you could use the drop down box in tool bar or a keyboard shortcut. ***The default/usual settings of keyboard shortcuts of some most used functions are listed below:***\n",
    "\n",
    "**Function** | **Keyboard Shortcut** | **Menu/Tool Bar**\n",
    ":------ |:----------|:--------\n",
    "**Create new Cell** | `esc`+`a`(insert new cell above); `esc`+`b`(insert new cell below) | Insert -> Insert Cell Above; Insert -> Insert Cell Below\n",
    "**Copy Cell** | `c` | Copy Key in Toolbar\n",
    "**Paste Cell** | `v` | Paste Key in Toolbar\n",
    "**Edit Cell** | `Enter` | \n",
    "**Run Cell** | `ctrl`+`enter` | Cell -> Run Cell\n",
    "**Switch to Markdown Cell** | `esc`+`m` | Select 'Markdown' in Toolbar\n",
    "**Switch to Code Cell** | `esc`+`y` | Select 'Code' in Toobar\n",
    "**Delete Cell** | double hit `d` | Edit -> Delete Cells\n",
    "**Move to next/former Cell** | $\\downarrow$ / $\\uparrow$ | Click on the cell you want to work on | \n",
    "\n",
    "***Tip: you can change the keyboard shortcuts of functions in `menu bar --> help --> keyboard shortcuts`. Note that this function might not be available if you work in e.g. JupyterLab***"
   ]
  },
  {
   "cell_type": "markdown",
   "metadata": {},
   "source": [
    "## **Code Cells in Jupyter Notebook**\n",
    "\n",
    "When you run a Code cell, the outputs will be displayed under the executed cell. For instance:"
   ]
  },
  {
   "cell_type": "code",
   "execution_count": 1,
   "metadata": {},
   "outputs": [
    {
     "name": "stdout",
     "output_type": "stream",
     "text": [
      "Hello World!\n"
     ]
    }
   ],
   "source": [
    "print(\"Hello World!\")"
   ]
  },
  {
   "cell_type": "markdown",
   "metadata": {},
   "source": [
    "To learn more about Python, you could refer to out [Python tutorials](https://github.com/eo2cube/eo2cube_notebooks/tree/main/get_started/intro_to_python)."
   ]
  },
  {
   "cell_type": "markdown",
   "metadata": {},
   "source": [
    "## **Markdown Cells in Jupyter Notebook**\n",
    "\n",
    "When you run a Markdown Cell, the texts will be rendered as stylized texts depending on the ***Markdown syntax*** used.\n",
    "\n"
   ]
  },
  {
   "cell_type": "markdown",
   "metadata": {},
   "source": [
    "### ***1. Headers***\n",
    "\n",
    "\n",
    "`# This is a Title in Markdown`\n",
    "<br>\n",
    "`## This is a Subtitle in Markdown`\n",
    "<br>\n",
    "`### This is a smaller subtitle in Markdown`\n",
    "\n",
    "<br> will be rendered as\n",
    "\n",
    "\n",
    "# This is a Title in Markdown\n",
    "## This is a Subtitle in Markdown\n",
    "### This is a smaller subtitle in Markdown\n",
    "\n",
    "***Note: The more `#` the title holds, the smaller the title will be.***"
   ]
  },
  {
   "cell_type": "markdown",
   "metadata": {},
   "source": [
    "### ***2. Lists***\n",
    "\n",
    "` * This is a bullet list` <br>\n",
    "` * This is a bullet list` <br>\n",
    "` * This is a bullet list`\n",
    "\n",
    "` 1. This is a numbered list` <br>\n",
    "` 2. Tihs is a numbered list` <br>\n",
    "` 3. This is a numbered list`\n",
    "\n",
    "will be rendered as\n",
    "\n",
    "\n",
    "* This is a bullet list\n",
    "* This is a bullet list\n",
    "* This is a bullet list\n",
    "\n",
    "1. This is a numbered list\n",
    "2. This is a numbered list\n",
    "3. This is a numbered list\n",
    "\n",
    "\n",
    "***Tip: To render list, you should leave a blank space between `*` / `1.` and the following texts.***"
   ]
  },
  {
   "cell_type": "markdown",
   "metadata": {},
   "source": [
    "### ***3. Bold and Italic***\n",
    "\n",
    "`*These are italic words.*` <br>\n",
    "`**These are bold words.**` <br>\n",
    "`***These are bold AND italic words.***`\n",
    "\n",
    "will be rendered as \n",
    "\n",
    "\n",
    "*These are italic words.* <br>\n",
    "**These are bold words.** <br>\n",
    "***These are bold AND italic words.***\n",
    "\n",
    "\n",
    "<br>\n",
    "\n",
    "`* *This is a bullet item with italic words*` <br>\n",
    "`* **This is a bullet item with bold words**` <br>\n",
    "`* ***This is a bullet item with bold and italic words***`\n",
    "\n",
    "will be rendered as\n",
    "\n",
    "\n",
    "* *This is a bullet item with italic words*\n",
    "* **This is a bullet item with bold words**\n",
    "* ***This is a bullet item with bold and italic words***\n",
    "\n",
    "\n",
    "***Tip: you could use `<br>` to start a new line of texts if needed.***"
   ]
  },
  {
   "cell_type": "markdown",
   "metadata": {},
   "source": [
    "### ***4. Highlight Code***\n",
    "\n",
    "If you want to highlight a funciton or some code in a plain text, you add ***one backtick on each side*** of the text ![one backtick](https://i.stack.imgur.com/nLnJN.png)\n",
    "<br>\n",
    "Then you'll get the text rendered like: <br>\n",
    "\n",
    "`Here is some code!`"
   ]
  },
  {
   "cell_type": "markdown",
   "metadata": {},
   "source": [
    "### ***5. Horizontal Lines***\n",
    "\n",
    "You can also create a horizontal line to highlight a block of markdown syntax\n",
    "\n",
    "`***`<br>\n",
    "`Here is some important text!`<br>\n",
    "`***`\n",
    "\n",
    "will be rendered like\n",
    "\n",
    "***\n",
    "Here is some important text!\n",
    "***\n",
    "\n",
    "***Tip: The `*`s  on both side of the texts should be at the line above and the line below the texts.***"
   ]
  },
  {
   "cell_type": "markdown",
   "metadata": {},
   "source": [
    "### ***6. Hyperlinks***\n",
    "\n",
    "You can use **HTML** in Markdown cells to create hyperlinks redirecting to other websites. For example, the following syntax <br>\n",
    "\n",
    "`More infos about our data cube program can be found at  <a href=\"https://datacube.remote-sensing.org/\">this website</a>` <br>\n",
    "\n",
    "will be rendered as: <br>\n",
    "\n",
    "More infos about our data cube program can be found at  <a href=\"https://datacube.remote-sensing.org/\">this website</a>"
   ]
  },
  {
   "cell_type": "markdown",
   "metadata": {},
   "source": [
    "### ***7. Images***\n",
    "\n",
    "You can also render images in Markdown cells using the following syntax:\n",
    "\n",
    "`![alternative text here](url-to-image-here)`\n",
    "\n",
    "For example, \n",
    "\n",
    "`![Fotograph of Philip is here](https://i.imgur.com/VGPeJ6s.jpg)`\n",
    "\n",
    "will be redered like:\n",
    "\n",
    "![Fotograph of Philip is here](https://i.imgur.com/VGPeJ6s.jpg)\n",
    "\n",
    "***Note: The texts in the rectangle brackets (e.g. \"Fotograph of Philip is here\") will appear when the image fails to load.***"
   ]
  },
  {
   "cell_type": "markdown",
   "metadata": {},
   "source": [
    "### ***8. LaTex***\n",
    "\n",
    "Jupyter notebook markdown cell also supports ***LaTex***. So that the markdown cells interpret your texts as LaTex, surround your input texts with `$` signs.\n",
    "\n",
    "For instance, `$c=a+b$` will be rendered as\n",
    "\n",
    "$c=a+b$\n",
    "\n",
    "If you want your texts be centered in the cell, surround your input texts with two `$` signs.\n",
    "\n",
    "For instance, `$$C_{g}=\\frac{H}{\\frac{\\pi}{2}*Cl_{p}}$$` will be rendered as\n",
    "\n",
    "$$C_{g}=\\frac{H}{\\frac{\\pi}{2}*Cl_{p}}$$"
   ]
  },
  {
   "cell_type": "markdown",
   "metadata": {},
   "source": [
    "## Recommended next steps\n",
    "\n",
    "* ***In case it's a bit laborious for you to follow the present tutorial, [this slow-paced lesson](https://www.earthdatascience.org/courses/intro-to-earth-data-science/open-reproducible-science/jupyter-python/) might be helpful!:)***\n",
    "\n",
    "* ***If you are insterested in exploring more about Jupyter Notebooks, we recommend [this tutorial](https://jupyter.brynmawr.edu/services/public/dblank/Jupyter%20Notebook%20Users%20Manual.ipynb).***\n",
    "\n",
    "* ***The Jupyter Notebook Documentation is available [here](https://jupyter-notebook.readthedocs.io/en/stable/index.html)***\n",
    "\n",
    "<br>\n",
    "To continue working through the notebooks in this beginner's guide, the following notebooks are designed to be worked through in the following order:\n",
    "\n",
    "1. ***Jupyter Notebooks (this notebook)***\n",
    "2. [eo2cube](https://github.com/eo2cube/eo2cube_notebooks/blob/main/get_started/intro_to_eo2cube/02_eo2cube_introduction.ipynb)\n",
    "3. [Loading Data](https://github.com/eo2cube/eo2cube_notebooks/blob/main/get_started/intro_to_eo2cube/03_data_lookup_and_loading.ipynb)\n",
    "4. [Xarray I: Data Structure](https://github.com/eo2cube/eo2cube_notebooks/blob/main/get_started/intro_to_eo2cube/04_xarrayI_data_structure.ipynb)\n",
    "5. [Xarray II: Index and Statistics](https://github.com/eo2cube/eo2cube_notebooks/blob/main/get_started/intro_to_eo2cube/05_xarrayII.ipynb)\n",
    "6. [Plotting data](https://github.com/eo2cube/eo2cube_notebooks/blob/main/get_started/intro_to_eo2cube/06_plotting_basics.ipynb)\n",
    "7. [Spatial analysis](https://github.com/eo2cube/eo2cube_notebooks/blob/main/get_started/intro_to_eo2cube/07_basic_analysis.ipynb)\n",
    "8. [Parallel processing with Dask](https://github.com/eo2cube/eo2cube_notebooks/blob/main/get_started/intro_to_eo2cube/08_parallel_processing_with_dask.ipynb)\n",
    "\n",
    "The additional notebooks are designed for users to build up both basic and advanced skills which are not covered by the beginner's guide. Self-motivated users can go through them according to their own needs. They act as complements for the guide:\n",
    "<br>\n",
    "\n",
    "1. [Python's file management tools](https://github.com/eo2cube/eo2cube_notebooks/blob/main/get_started/intro_to_eo2cube/I_file_management.ipynb)\n",
    "2. [Image Processing basics using NumPy and Matplotlib](https://github.com/eo2cube/eo2cube_notebooks/blob/main/get_started/intro_to_eo2cube/II_numpy_image_processing.ipynb)\n",
    "3. [Vector Processing](https://github.com/eo2cube/eo2cube_notebooks/blob/main/get_started/intro_to_eo2cube/III_process_vector_data.ipynb)\n",
    "4. [Advanced Plotting](https://github.com/eo2cube/eo2cube_notebooks/blob/main/get_started/intro_to_eo2cube/IV_advanced_plotting.ipynb)"
   ]
  },
  {
   "cell_type": "markdown",
   "metadata": {},
   "source": [
    "***\n",
    "## Additional information\n",
    "\n",
    "This notebook for the usage of Jupyter Notebook of the [Department of Remote Sensing](http://remote-sensing.org/), [University of Wuerzburg](https://www.uni-wuerzburg.de/startseite/), is partly adapted from [Earth Lab](https://www.earthdatascience.org/courses/intro-to-earth-data-science/), published using the CC BY-NC-ND License 4.0. Thanks!\n",
    "\n",
    "**License:** The code in this notebook is licensed under the [Apache License, Version 2.0](https://www.apache.org/licenses/LICENSE-2.0). \n",
    "\n",
    "\n",
    "**Contact:** If you would like to report an issue with this notebook, you can file one on [Github](https://github.com/eo2cube/eo2cube_notebooks).\n",
    "\n",
    "**Last modified:** March 2021"
   ]
  },
  {
   "cell_type": "code",
   "execution_count": null,
   "metadata": {},
   "outputs": [],
   "source": []
  }
 ],
 "metadata": {
  "kernelspec": {
   "display_name": "Python 3",
   "language": "python",
   "name": "python3"
  },
  "language_info": {
   "codemirror_mode": {
    "name": "ipython",
    "version": 3
   },
   "file_extension": ".py",
   "mimetype": "text/x-python",
   "name": "python",
   "nbconvert_exporter": "python",
   "pygments_lexer": "ipython3",
   "version": "3.8.8"
  },
  "widgets": {
   "application/vnd.jupyter.widget-state+json": {
    "state": {},
    "version_major": 2,
    "version_minor": 0
   }
  }
 },
 "nbformat": 4,
 "nbformat_minor": 4
}

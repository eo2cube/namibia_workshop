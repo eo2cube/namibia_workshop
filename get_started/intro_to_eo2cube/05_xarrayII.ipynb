{
 "cells": [
  {
   "cell_type": "markdown",
   "metadata": {},
   "source": [
    "<img align=\"right\" src=\"../../additional_data/banner_siegel.png\" style=\"width:1000px;\">"
   ]
  },
  {
   "cell_type": "markdown",
   "metadata": {},
   "source": [
    "# Advanced Xarray\n",
    "\n",
    "* [**Sign up to the JupyterHub**](https://www.phenocube.org/) to run this notebook interactively from your browser\n",
    "* **Compatibility:** Notebook currently compatible with the Open Data Cube environments of the University of Wuerzburg\n",
    "* **Products used**: `Sentinel-2`\n",
    "* **Prerequisites**:  Users of this notebook should have a basic understanding of:\n",
    "    * How to run a [Jupyter notebook](01_jupyter_introduction.ipynb)\n",
    "    * The basic structure of the eo2cube [satellite datasets](02_eo2cube.ipynb)\n",
    "    * How to browse through the available [products and measurements](03_products_and_measurements.ipynb) of the eo2cube datacube \n",
    "    * How to [load data from the eo2cube datacube](04_loading_data_and_basic_xarray.ipynb) "
   ]
  },
  {
   "cell_type": "markdown",
   "metadata": {},
   "source": [
    "## Background\n",
    "\n",
    "The Python library `xarray` simplifies working with labelled multi-dimension arrays. The library introduces labels in the forms of dimensions, coordinates and attributes on top of `numpy` arrays. This structure allows easier and more effective handling of remote sensing raster data in a Python environment. Therefore, it is essential to fully understand the structure of an `xarray`. A first introduction into the usage of `xarray` within the eo2cube environment was given in [\"04_loading_data_and_basic_xarray\"](04_loading_data_and_basic_xarray.ipynb). This notebook builds on this gained knowledge and attempts to give a deeper understanding of the `xarray` data structure of raster data. If you are interested in learning more about the structures of the original `xarray`, have a look at this [**\"introduction to xarray\" notebook**](intro_to_xarray.ipynb) within the \"intro_to_python\" directory.\n",
    "To get more information about the `xarray` package, visit the [offical documentation website](http://xarray.pydata.org/en/stable/).\n",
    "\n",
    "## Description\n",
    "\n",
    "This notebook introduces users to the `xarray` library within the datacube environment. It aims to deepen the understanding of the `xarray` structure as a container for remote sensing raster data. Also it introduces useful `xarray` functions to effectivly work with raster data in the eo2cube environment. Within this notebook the following topics are covered:\n",
    "\n",
    "* Application of built-in `xarray` functions for analyzing raster data\n",
    "\n",
    "***"
   ]
  },
  {
   "cell_type": "markdown",
   "metadata": {},
   "source": [
    "## Setting up\n",
    "### Load packages\n",
    "\n",
    "The `datacube` package is required to query the eo2cube datacube database and load the requested data. The `with_ui_cbk` function from `odc.ui` enables a progress bar when loading large amounts of data. The `xarray` and `numpy` package are needed for the different methods and analysis steps within this notebook. "
   ]
  },
  {
   "cell_type": "code",
   "execution_count": 1,
   "metadata": {},
   "outputs": [],
   "source": [
    "import datacube\n",
    "from odc.ui import with_ui_cbk\n",
    "import xarray as xr\n",
    "import numpy as np\n",
    "\n",
    "dc = datacube.Datacube(app = \"nb_understand_ndArrays\")"
   ]
  },
  {
   "cell_type": "markdown",
   "metadata": {},
   "source": [
    "### Datacube connection and load data\n",
    "\n",
    "First we connect to the datacube and load a dumy dataset from the eo2cube. For this we will use the `s2_l2a_namibia` product. `ds` contains scenes of the `s2_l2a_namibia` product from January 2020 to March 2020."
   ]
  },
  {
   "cell_type": "code",
   "execution_count": 3,
   "metadata": {
    "tags": []
   },
   "outputs": [
    {
     "data": {
      "application/vnd.jupyter.widget-view+json": {
       "model_id": "8c54683b40d44f7092acd6948ede5b1d",
       "version_major": 2,
       "version_minor": 0
      },
      "text/plain": [
       "VBox(children=(HBox(children=(Label(value=''), Label(value='')), layout=Layout(justify_content='space-between'…"
      ]
     },
     "metadata": {},
     "output_type": "display_data"
    },
    {
     "data": {
      "text/html": [
       "<div><svg style=\"position: absolute; width: 0; height: 0; overflow: hidden\">\n",
       "<defs>\n",
       "<symbol id=\"icon-database\" viewBox=\"0 0 32 32\">\n",
       "<path d=\"M16 0c-8.837 0-16 2.239-16 5v4c0 2.761 7.163 5 16 5s16-2.239 16-5v-4c0-2.761-7.163-5-16-5z\"></path>\n",
       "<path d=\"M16 17c-8.837 0-16-2.239-16-5v6c0 2.761 7.163 5 16 5s16-2.239 16-5v-6c0 2.761-7.163 5-16 5z\"></path>\n",
       "<path d=\"M16 26c-8.837 0-16-2.239-16-5v6c0 2.761 7.163 5 16 5s16-2.239 16-5v-6c0 2.761-7.163 5-16 5z\"></path>\n",
       "</symbol>\n",
       "<symbol id=\"icon-file-text2\" viewBox=\"0 0 32 32\">\n",
       "<path d=\"M28.681 7.159c-0.694-0.947-1.662-2.053-2.724-3.116s-2.169-2.030-3.116-2.724c-1.612-1.182-2.393-1.319-2.841-1.319h-15.5c-1.378 0-2.5 1.121-2.5 2.5v27c0 1.378 1.122 2.5 2.5 2.5h23c1.378 0 2.5-1.122 2.5-2.5v-19.5c0-0.448-0.137-1.23-1.319-2.841zM24.543 5.457c0.959 0.959 1.712 1.825 2.268 2.543h-4.811v-4.811c0.718 0.556 1.584 1.309 2.543 2.268zM28 29.5c0 0.271-0.229 0.5-0.5 0.5h-23c-0.271 0-0.5-0.229-0.5-0.5v-27c0-0.271 0.229-0.5 0.5-0.5 0 0 15.499-0 15.5 0v7c0 0.552 0.448 1 1 1h7v19.5z\"></path>\n",
       "<path d=\"M23 26h-14c-0.552 0-1-0.448-1-1s0.448-1 1-1h14c0.552 0 1 0.448 1 1s-0.448 1-1 1z\"></path>\n",
       "<path d=\"M23 22h-14c-0.552 0-1-0.448-1-1s0.448-1 1-1h14c0.552 0 1 0.448 1 1s-0.448 1-1 1z\"></path>\n",
       "<path d=\"M23 18h-14c-0.552 0-1-0.448-1-1s0.448-1 1-1h14c0.552 0 1 0.448 1 1s-0.448 1-1 1z\"></path>\n",
       "</symbol>\n",
       "</defs>\n",
       "</svg>\n",
       "<style>/* CSS stylesheet for displaying xarray objects in jupyterlab.\n",
       " *\n",
       " */\n",
       "\n",
       ":root {\n",
       "  --xr-font-color0: var(--jp-content-font-color0, rgba(0, 0, 0, 1));\n",
       "  --xr-font-color2: var(--jp-content-font-color2, rgba(0, 0, 0, 0.54));\n",
       "  --xr-font-color3: var(--jp-content-font-color3, rgba(0, 0, 0, 0.38));\n",
       "  --xr-border-color: var(--jp-border-color2, #e0e0e0);\n",
       "  --xr-disabled-color: var(--jp-layout-color3, #bdbdbd);\n",
       "  --xr-background-color: var(--jp-layout-color0, white);\n",
       "  --xr-background-color-row-even: var(--jp-layout-color1, white);\n",
       "  --xr-background-color-row-odd: var(--jp-layout-color2, #eeeeee);\n",
       "}\n",
       "\n",
       "html[theme=dark],\n",
       "body.vscode-dark {\n",
       "  --xr-font-color0: rgba(255, 255, 255, 1);\n",
       "  --xr-font-color2: rgba(255, 255, 255, 0.54);\n",
       "  --xr-font-color3: rgba(255, 255, 255, 0.38);\n",
       "  --xr-border-color: #1F1F1F;\n",
       "  --xr-disabled-color: #515151;\n",
       "  --xr-background-color: #111111;\n",
       "  --xr-background-color-row-even: #111111;\n",
       "  --xr-background-color-row-odd: #313131;\n",
       "}\n",
       "\n",
       ".xr-wrap {\n",
       "  display: block;\n",
       "  min-width: 300px;\n",
       "  max-width: 700px;\n",
       "}\n",
       "\n",
       ".xr-text-repr-fallback {\n",
       "  /* fallback to plain text repr when CSS is not injected (untrusted notebook) */\n",
       "  display: none;\n",
       "}\n",
       "\n",
       ".xr-header {\n",
       "  padding-top: 6px;\n",
       "  padding-bottom: 6px;\n",
       "  margin-bottom: 4px;\n",
       "  border-bottom: solid 1px var(--xr-border-color);\n",
       "}\n",
       "\n",
       ".xr-header > div,\n",
       ".xr-header > ul {\n",
       "  display: inline;\n",
       "  margin-top: 0;\n",
       "  margin-bottom: 0;\n",
       "}\n",
       "\n",
       ".xr-obj-type,\n",
       ".xr-array-name {\n",
       "  margin-left: 2px;\n",
       "  margin-right: 10px;\n",
       "}\n",
       "\n",
       ".xr-obj-type {\n",
       "  color: var(--xr-font-color2);\n",
       "}\n",
       "\n",
       ".xr-sections {\n",
       "  padding-left: 0 !important;\n",
       "  display: grid;\n",
       "  grid-template-columns: 150px auto auto 1fr 20px 20px;\n",
       "}\n",
       "\n",
       ".xr-section-item {\n",
       "  display: contents;\n",
       "}\n",
       "\n",
       ".xr-section-item input {\n",
       "  display: none;\n",
       "}\n",
       "\n",
       ".xr-section-item input + label {\n",
       "  color: var(--xr-disabled-color);\n",
       "}\n",
       "\n",
       ".xr-section-item input:enabled + label {\n",
       "  cursor: pointer;\n",
       "  color: var(--xr-font-color2);\n",
       "}\n",
       "\n",
       ".xr-section-item input:enabled + label:hover {\n",
       "  color: var(--xr-font-color0);\n",
       "}\n",
       "\n",
       ".xr-section-summary {\n",
       "  grid-column: 1;\n",
       "  color: var(--xr-font-color2);\n",
       "  font-weight: 500;\n",
       "}\n",
       "\n",
       ".xr-section-summary > span {\n",
       "  display: inline-block;\n",
       "  padding-left: 0.5em;\n",
       "}\n",
       "\n",
       ".xr-section-summary-in:disabled + label {\n",
       "  color: var(--xr-font-color2);\n",
       "}\n",
       "\n",
       ".xr-section-summary-in + label:before {\n",
       "  display: inline-block;\n",
       "  content: '►';\n",
       "  font-size: 11px;\n",
       "  width: 15px;\n",
       "  text-align: center;\n",
       "}\n",
       "\n",
       ".xr-section-summary-in:disabled + label:before {\n",
       "  color: var(--xr-disabled-color);\n",
       "}\n",
       "\n",
       ".xr-section-summary-in:checked + label:before {\n",
       "  content: '▼';\n",
       "}\n",
       "\n",
       ".xr-section-summary-in:checked + label > span {\n",
       "  display: none;\n",
       "}\n",
       "\n",
       ".xr-section-summary,\n",
       ".xr-section-inline-details {\n",
       "  padding-top: 4px;\n",
       "  padding-bottom: 4px;\n",
       "}\n",
       "\n",
       ".xr-section-inline-details {\n",
       "  grid-column: 2 / -1;\n",
       "}\n",
       "\n",
       ".xr-section-details {\n",
       "  display: none;\n",
       "  grid-column: 1 / -1;\n",
       "  margin-bottom: 5px;\n",
       "}\n",
       "\n",
       ".xr-section-summary-in:checked ~ .xr-section-details {\n",
       "  display: contents;\n",
       "}\n",
       "\n",
       ".xr-array-wrap {\n",
       "  grid-column: 1 / -1;\n",
       "  display: grid;\n",
       "  grid-template-columns: 20px auto;\n",
       "}\n",
       "\n",
       ".xr-array-wrap > label {\n",
       "  grid-column: 1;\n",
       "  vertical-align: top;\n",
       "}\n",
       "\n",
       ".xr-preview {\n",
       "  color: var(--xr-font-color3);\n",
       "}\n",
       "\n",
       ".xr-array-preview,\n",
       ".xr-array-data {\n",
       "  padding: 0 5px !important;\n",
       "  grid-column: 2;\n",
       "}\n",
       "\n",
       ".xr-array-data,\n",
       ".xr-array-in:checked ~ .xr-array-preview {\n",
       "  display: none;\n",
       "}\n",
       "\n",
       ".xr-array-in:checked ~ .xr-array-data,\n",
       ".xr-array-preview {\n",
       "  display: inline-block;\n",
       "}\n",
       "\n",
       ".xr-dim-list {\n",
       "  display: inline-block !important;\n",
       "  list-style: none;\n",
       "  padding: 0 !important;\n",
       "  margin: 0;\n",
       "}\n",
       "\n",
       ".xr-dim-list li {\n",
       "  display: inline-block;\n",
       "  padding: 0;\n",
       "  margin: 0;\n",
       "}\n",
       "\n",
       ".xr-dim-list:before {\n",
       "  content: '(';\n",
       "}\n",
       "\n",
       ".xr-dim-list:after {\n",
       "  content: ')';\n",
       "}\n",
       "\n",
       ".xr-dim-list li:not(:last-child):after {\n",
       "  content: ',';\n",
       "  padding-right: 5px;\n",
       "}\n",
       "\n",
       ".xr-has-index {\n",
       "  font-weight: bold;\n",
       "}\n",
       "\n",
       ".xr-var-list,\n",
       ".xr-var-item {\n",
       "  display: contents;\n",
       "}\n",
       "\n",
       ".xr-var-item > div,\n",
       ".xr-var-item label,\n",
       ".xr-var-item > .xr-var-name span {\n",
       "  background-color: var(--xr-background-color-row-even);\n",
       "  margin-bottom: 0;\n",
       "}\n",
       "\n",
       ".xr-var-item > .xr-var-name:hover span {\n",
       "  padding-right: 5px;\n",
       "}\n",
       "\n",
       ".xr-var-list > li:nth-child(odd) > div,\n",
       ".xr-var-list > li:nth-child(odd) > label,\n",
       ".xr-var-list > li:nth-child(odd) > .xr-var-name span {\n",
       "  background-color: var(--xr-background-color-row-odd);\n",
       "}\n",
       "\n",
       ".xr-var-name {\n",
       "  grid-column: 1;\n",
       "}\n",
       "\n",
       ".xr-var-dims {\n",
       "  grid-column: 2;\n",
       "}\n",
       "\n",
       ".xr-var-dtype {\n",
       "  grid-column: 3;\n",
       "  text-align: right;\n",
       "  color: var(--xr-font-color2);\n",
       "}\n",
       "\n",
       ".xr-var-preview {\n",
       "  grid-column: 4;\n",
       "}\n",
       "\n",
       ".xr-var-name,\n",
       ".xr-var-dims,\n",
       ".xr-var-dtype,\n",
       ".xr-preview,\n",
       ".xr-attrs dt {\n",
       "  white-space: nowrap;\n",
       "  overflow: hidden;\n",
       "  text-overflow: ellipsis;\n",
       "  padding-right: 10px;\n",
       "}\n",
       "\n",
       ".xr-var-name:hover,\n",
       ".xr-var-dims:hover,\n",
       ".xr-var-dtype:hover,\n",
       ".xr-attrs dt:hover {\n",
       "  overflow: visible;\n",
       "  width: auto;\n",
       "  z-index: 1;\n",
       "}\n",
       "\n",
       ".xr-var-attrs,\n",
       ".xr-var-data {\n",
       "  display: none;\n",
       "  background-color: var(--xr-background-color) !important;\n",
       "  padding-bottom: 5px !important;\n",
       "}\n",
       "\n",
       ".xr-var-attrs-in:checked ~ .xr-var-attrs,\n",
       ".xr-var-data-in:checked ~ .xr-var-data {\n",
       "  display: block;\n",
       "}\n",
       "\n",
       ".xr-var-data > table {\n",
       "  float: right;\n",
       "}\n",
       "\n",
       ".xr-var-name span,\n",
       ".xr-var-data,\n",
       ".xr-attrs {\n",
       "  padding-left: 25px !important;\n",
       "}\n",
       "\n",
       ".xr-attrs,\n",
       ".xr-var-attrs,\n",
       ".xr-var-data {\n",
       "  grid-column: 1 / -1;\n",
       "}\n",
       "\n",
       "dl.xr-attrs {\n",
       "  padding: 0;\n",
       "  margin: 0;\n",
       "  display: grid;\n",
       "  grid-template-columns: 125px auto;\n",
       "}\n",
       "\n",
       ".xr-attrs dt,\n",
       ".xr-attrs dd {\n",
       "  padding: 0;\n",
       "  margin: 0;\n",
       "  float: left;\n",
       "  padding-right: 10px;\n",
       "  width: auto;\n",
       "}\n",
       "\n",
       ".xr-attrs dt {\n",
       "  font-weight: normal;\n",
       "  grid-column: 1;\n",
       "}\n",
       "\n",
       ".xr-attrs dt:hover span {\n",
       "  display: inline-block;\n",
       "  background: var(--xr-background-color);\n",
       "  padding-right: 10px;\n",
       "}\n",
       "\n",
       ".xr-attrs dd {\n",
       "  grid-column: 2;\n",
       "  white-space: pre-wrap;\n",
       "  word-break: break-all;\n",
       "}\n",
       "\n",
       ".xr-icon-database,\n",
       ".xr-icon-file-text2 {\n",
       "  display: inline-block;\n",
       "  vertical-align: middle;\n",
       "  width: 1em;\n",
       "  height: 1.5em !important;\n",
       "  stroke-width: 0;\n",
       "  stroke: currentColor;\n",
       "  fill: currentColor;\n",
       "}\n",
       "</style><pre class='xr-text-repr-fallback'>&lt;xarray.Dataset&gt;\n",
       "Dimensions:      (time: 36, x: 164, y: 82)\n",
       "Coordinates:\n",
       "  * time         (time) datetime64[ns] 2020-01-02T09:07:17 ... 2020-03-29T08:...\n",
       "  * y            (y) float64 7.28e+06 7.28e+06 7.28e+06 ... 7.28e+06 7.28e+06\n",
       "  * x            (x) float64 1.751e+05 1.751e+05 ... 1.767e+05 1.768e+05\n",
       "    spatial_ref  int32 32734\n",
       "Data variables:\n",
       "    blue         (time, y, x) int16 823 861 889 769 698 ... 854 844 804 783 733\n",
       "    green        (time, y, x) int16 1120 1146 1190 1086 ... 1182 1178 1124 1092\n",
       "    red          (time, y, x) int16 1560 1596 1634 1530 ... 1632 1560 1518 1448\n",
       "Attributes:\n",
       "    crs:           EPSG:32734\n",
       "    grid_mapping:  spatial_ref</pre><div class='xr-wrap' hidden><div class='xr-header'><div class='xr-obj-type'>xarray.Dataset</div></div><ul class='xr-sections'><li class='xr-section-item'><input id='section-066af211-6dcc-407d-a9c1-cb71fd99aa9c' class='xr-section-summary-in' type='checkbox' disabled ><label for='section-066af211-6dcc-407d-a9c1-cb71fd99aa9c' class='xr-section-summary'  title='Expand/collapse section'>Dimensions:</label><div class='xr-section-inline-details'><ul class='xr-dim-list'><li><span class='xr-has-index'>time</span>: 36</li><li><span class='xr-has-index'>x</span>: 164</li><li><span class='xr-has-index'>y</span>: 82</li></ul></div><div class='xr-section-details'></div></li><li class='xr-section-item'><input id='section-fded4129-f4e4-418d-8ad2-4b3adfca3d63' class='xr-section-summary-in' type='checkbox'  checked><label for='section-fded4129-f4e4-418d-8ad2-4b3adfca3d63' class='xr-section-summary' >Coordinates: <span>(4)</span></label><div class='xr-section-inline-details'></div><div class='xr-section-details'><ul class='xr-var-list'><li class='xr-var-item'><div class='xr-var-name'><span class='xr-has-index'>time</span></div><div class='xr-var-dims'>(time)</div><div class='xr-var-dtype'>datetime64[ns]</div><div class='xr-var-preview xr-preview'>2020-01-02T09:07:17 ... 2020-03-...</div><input id='attrs-0e5a1914-1d1d-4cd8-bd37-c88e5a5859a4' class='xr-var-attrs-in' type='checkbox' ><label for='attrs-0e5a1914-1d1d-4cd8-bd37-c88e5a5859a4' title='Show/Hide attributes'><svg class='icon xr-icon-file-text2'><use xlink:href='#icon-file-text2'></use></svg></label><input id='data-f78aa87b-fbde-416f-bdee-c2b0c0b10f08' class='xr-var-data-in' type='checkbox'><label for='data-f78aa87b-fbde-416f-bdee-c2b0c0b10f08' title='Show/Hide data repr'><svg class='icon xr-icon-database'><use xlink:href='#icon-database'></use></svg></label><div class='xr-var-attrs'><dl class='xr-attrs'><dt><span>units :</span></dt><dd>seconds since 1970-01-01 00:00:00</dd></dl></div><div class='xr-var-data'><pre>array([&#x27;2020-01-02T09:07:17.000000000&#x27;, &#x27;2020-01-04T08:57:22.000000000&#x27;,\n",
       "       &#x27;2020-01-07T09:07:17.000000000&#x27;, &#x27;2020-01-09T08:57:21.000000000&#x27;,\n",
       "       &#x27;2020-01-12T09:07:16.000000000&#x27;, &#x27;2020-01-14T08:57:21.000000000&#x27;,\n",
       "       &#x27;2020-01-17T09:07:16.000000000&#x27;, &#x27;2020-01-19T08:57:20.000000000&#x27;,\n",
       "       &#x27;2020-01-22T09:07:16.000000000&#x27;, &#x27;2020-01-24T08:57:20.000000000&#x27;,\n",
       "       &#x27;2020-01-27T09:07:15.000000000&#x27;, &#x27;2020-01-29T08:57:19.000000000&#x27;,\n",
       "       &#x27;2020-02-01T09:07:14.000000000&#x27;, &#x27;2020-02-03T08:57:20.000000000&#x27;,\n",
       "       &#x27;2020-02-06T09:07:16.000000000&#x27;, &#x27;2020-02-08T08:57:19.000000000&#x27;,\n",
       "       &#x27;2020-02-11T09:07:15.000000000&#x27;, &#x27;2020-02-13T08:57:22.000000000&#x27;,\n",
       "       &#x27;2020-02-16T09:07:18.000000000&#x27;, &#x27;2020-02-18T08:57:21.000000000&#x27;,\n",
       "       &#x27;2020-02-21T09:07:17.000000000&#x27;, &#x27;2020-02-23T08:57:23.000000000&#x27;,\n",
       "       &#x27;2020-02-26T09:07:19.000000000&#x27;, &#x27;2020-02-28T08:57:22.000000000&#x27;,\n",
       "       &#x27;2020-03-02T09:07:18.000000000&#x27;, &#x27;2020-03-04T08:57:24.000000000&#x27;,\n",
       "       &#x27;2020-03-07T09:07:20.000000000&#x27;, &#x27;2020-03-09T08:57:23.000000000&#x27;,\n",
       "       &#x27;2020-03-12T09:07:18.000000000&#x27;, &#x27;2020-03-14T08:57:25.000000000&#x27;,\n",
       "       &#x27;2020-03-17T09:07:20.000000000&#x27;, &#x27;2020-03-19T08:57:23.000000000&#x27;,\n",
       "       &#x27;2020-03-22T09:07:18.000000000&#x27;, &#x27;2020-03-24T08:57:24.000000000&#x27;,\n",
       "       &#x27;2020-03-27T09:07:20.000000000&#x27;, &#x27;2020-03-29T08:57:23.000000000&#x27;],\n",
       "      dtype=&#x27;datetime64[ns]&#x27;)</pre></div></li><li class='xr-var-item'><div class='xr-var-name'><span class='xr-has-index'>y</span></div><div class='xr-var-dims'>(y)</div><div class='xr-var-dtype'>float64</div><div class='xr-var-preview xr-preview'>7.28e+06 7.28e+06 ... 7.28e+06</div><input id='attrs-63b5fcb3-7789-402c-a916-bc46d8acc0a7' class='xr-var-attrs-in' type='checkbox' ><label for='attrs-63b5fcb3-7789-402c-a916-bc46d8acc0a7' title='Show/Hide attributes'><svg class='icon xr-icon-file-text2'><use xlink:href='#icon-file-text2'></use></svg></label><input id='data-63c074a8-30f7-455d-8886-92b52374d687' class='xr-var-data-in' type='checkbox'><label for='data-63c074a8-30f7-455d-8886-92b52374d687' title='Show/Hide data repr'><svg class='icon xr-icon-database'><use xlink:href='#icon-database'></use></svg></label><div class='xr-var-attrs'><dl class='xr-attrs'><dt><span>units :</span></dt><dd>metre</dd><dt><span>resolution :</span></dt><dd>-10.0</dd><dt><span>crs :</span></dt><dd>EPSG:32734</dd></dl></div><div class='xr-var-data'><pre>array([7280355., 7280345., 7280335., 7280325., 7280315., 7280305., 7280295.,\n",
       "       7280285., 7280275., 7280265., 7280255., 7280245., 7280235., 7280225.,\n",
       "       7280215., 7280205., 7280195., 7280185., 7280175., 7280165., 7280155.,\n",
       "       7280145., 7280135., 7280125., 7280115., 7280105., 7280095., 7280085.,\n",
       "       7280075., 7280065., 7280055., 7280045., 7280035., 7280025., 7280015.,\n",
       "       7280005., 7279995., 7279985., 7279975., 7279965., 7279955., 7279945.,\n",
       "       7279935., 7279925., 7279915., 7279905., 7279895., 7279885., 7279875.,\n",
       "       7279865., 7279855., 7279845., 7279835., 7279825., 7279815., 7279805.,\n",
       "       7279795., 7279785., 7279775., 7279765., 7279755., 7279745., 7279735.,\n",
       "       7279725., 7279715., 7279705., 7279695., 7279685., 7279675., 7279665.,\n",
       "       7279655., 7279645., 7279635., 7279625., 7279615., 7279605., 7279595.,\n",
       "       7279585., 7279575., 7279565., 7279555., 7279545.])</pre></div></li><li class='xr-var-item'><div class='xr-var-name'><span class='xr-has-index'>x</span></div><div class='xr-var-dims'>(x)</div><div class='xr-var-dtype'>float64</div><div class='xr-var-preview xr-preview'>1.751e+05 1.751e+05 ... 1.768e+05</div><input id='attrs-898e5a5c-b979-47de-863e-e893ae61895d' class='xr-var-attrs-in' type='checkbox' ><label for='attrs-898e5a5c-b979-47de-863e-e893ae61895d' title='Show/Hide attributes'><svg class='icon xr-icon-file-text2'><use xlink:href='#icon-file-text2'></use></svg></label><input id='data-d3854708-269e-4761-be64-f98a61979d33' class='xr-var-data-in' type='checkbox'><label for='data-d3854708-269e-4761-be64-f98a61979d33' title='Show/Hide data repr'><svg class='icon xr-icon-database'><use xlink:href='#icon-database'></use></svg></label><div class='xr-var-attrs'><dl class='xr-attrs'><dt><span>units :</span></dt><dd>metre</dd><dt><span>resolution :</span></dt><dd>10.0</dd><dt><span>crs :</span></dt><dd>EPSG:32734</dd></dl></div><div class='xr-var-data'><pre>array([175125., 175135., 175145., 175155., 175165., 175175., 175185., 175195.,\n",
       "       175205., 175215., 175225., 175235., 175245., 175255., 175265., 175275.,\n",
       "       175285., 175295., 175305., 175315., 175325., 175335., 175345., 175355.,\n",
       "       175365., 175375., 175385., 175395., 175405., 175415., 175425., 175435.,\n",
       "       175445., 175455., 175465., 175475., 175485., 175495., 175505., 175515.,\n",
       "       175525., 175535., 175545., 175555., 175565., 175575., 175585., 175595.,\n",
       "       175605., 175615., 175625., 175635., 175645., 175655., 175665., 175675.,\n",
       "       175685., 175695., 175705., 175715., 175725., 175735., 175745., 175755.,\n",
       "       175765., 175775., 175785., 175795., 175805., 175815., 175825., 175835.,\n",
       "       175845., 175855., 175865., 175875., 175885., 175895., 175905., 175915.,\n",
       "       175925., 175935., 175945., 175955., 175965., 175975., 175985., 175995.,\n",
       "       176005., 176015., 176025., 176035., 176045., 176055., 176065., 176075.,\n",
       "       176085., 176095., 176105., 176115., 176125., 176135., 176145., 176155.,\n",
       "       176165., 176175., 176185., 176195., 176205., 176215., 176225., 176235.,\n",
       "       176245., 176255., 176265., 176275., 176285., 176295., 176305., 176315.,\n",
       "       176325., 176335., 176345., 176355., 176365., 176375., 176385., 176395.,\n",
       "       176405., 176415., 176425., 176435., 176445., 176455., 176465., 176475.,\n",
       "       176485., 176495., 176505., 176515., 176525., 176535., 176545., 176555.,\n",
       "       176565., 176575., 176585., 176595., 176605., 176615., 176625., 176635.,\n",
       "       176645., 176655., 176665., 176675., 176685., 176695., 176705., 176715.,\n",
       "       176725., 176735., 176745., 176755.])</pre></div></li><li class='xr-var-item'><div class='xr-var-name'><span>spatial_ref</span></div><div class='xr-var-dims'>()</div><div class='xr-var-dtype'>int32</div><div class='xr-var-preview xr-preview'>32734</div><input id='attrs-b9a1bfa0-abfd-40ac-857f-f1c88c5dfad4' class='xr-var-attrs-in' type='checkbox' ><label for='attrs-b9a1bfa0-abfd-40ac-857f-f1c88c5dfad4' title='Show/Hide attributes'><svg class='icon xr-icon-file-text2'><use xlink:href='#icon-file-text2'></use></svg></label><input id='data-92175b6a-eb31-40df-b173-2436a49234ff' class='xr-var-data-in' type='checkbox'><label for='data-92175b6a-eb31-40df-b173-2436a49234ff' title='Show/Hide data repr'><svg class='icon xr-icon-database'><use xlink:href='#icon-database'></use></svg></label><div class='xr-var-attrs'><dl class='xr-attrs'><dt><span>spatial_ref :</span></dt><dd>PROJCS[&quot;WGS 84 / UTM zone 34S&quot;,GEOGCS[&quot;WGS 84&quot;,DATUM[&quot;WGS_1984&quot;,SPHEROID[&quot;WGS 84&quot;,6378137,298.257223563,AUTHORITY[&quot;EPSG&quot;,&quot;7030&quot;]],AUTHORITY[&quot;EPSG&quot;,&quot;6326&quot;]],PRIMEM[&quot;Greenwich&quot;,0,AUTHORITY[&quot;EPSG&quot;,&quot;8901&quot;]],UNIT[&quot;degree&quot;,0.0174532925199433,AUTHORITY[&quot;EPSG&quot;,&quot;9122&quot;]],AUTHORITY[&quot;EPSG&quot;,&quot;4326&quot;]],PROJECTION[&quot;Transverse_Mercator&quot;],PARAMETER[&quot;latitude_of_origin&quot;,0],PARAMETER[&quot;central_meridian&quot;,21],PARAMETER[&quot;scale_factor&quot;,0.9996],PARAMETER[&quot;false_easting&quot;,500000],PARAMETER[&quot;false_northing&quot;,10000000],UNIT[&quot;metre&quot;,1,AUTHORITY[&quot;EPSG&quot;,&quot;9001&quot;]],AXIS[&quot;Easting&quot;,EAST],AXIS[&quot;Northing&quot;,NORTH],AUTHORITY[&quot;EPSG&quot;,&quot;32734&quot;]]</dd><dt><span>grid_mapping_name :</span></dt><dd>transverse_mercator</dd></dl></div><div class='xr-var-data'><pre>array(32734, dtype=int32)</pre></div></li></ul></div></li><li class='xr-section-item'><input id='section-bd93064d-ea3c-4d7f-bdb0-a6f56da6e718' class='xr-section-summary-in' type='checkbox'  checked><label for='section-bd93064d-ea3c-4d7f-bdb0-a6f56da6e718' class='xr-section-summary' >Data variables: <span>(3)</span></label><div class='xr-section-inline-details'></div><div class='xr-section-details'><ul class='xr-var-list'><li class='xr-var-item'><div class='xr-var-name'><span>blue</span></div><div class='xr-var-dims'>(time, y, x)</div><div class='xr-var-dtype'>int16</div><div class='xr-var-preview xr-preview'>823 861 889 769 ... 844 804 783 733</div><input id='attrs-b7480020-8c3b-44db-91f8-b34213ce457c' class='xr-var-attrs-in' type='checkbox' ><label for='attrs-b7480020-8c3b-44db-91f8-b34213ce457c' title='Show/Hide attributes'><svg class='icon xr-icon-file-text2'><use xlink:href='#icon-file-text2'></use></svg></label><input id='data-86f4e20b-e72d-411a-aff6-81f15de4f699' class='xr-var-data-in' type='checkbox'><label for='data-86f4e20b-e72d-411a-aff6-81f15de4f699' title='Show/Hide data repr'><svg class='icon xr-icon-database'><use xlink:href='#icon-database'></use></svg></label><div class='xr-var-attrs'><dl class='xr-attrs'><dt><span>units :</span></dt><dd>reflectance</dd><dt><span>nodata :</span></dt><dd>0</dd><dt><span>crs :</span></dt><dd>EPSG:32734</dd><dt><span>grid_mapping :</span></dt><dd>spatial_ref</dd></dl></div><div class='xr-var-data'><pre>array([[[ 823,  861,  889, ...,  699,  717,  731],\n",
       "        [ 819,  755,  765, ...,  691,  731,  743],\n",
       "        [ 812,  732,  719, ...,  677,  710,  725],\n",
       "        ...,\n",
       "        [ 796,  783,  835, ...,  752,  699,  727],\n",
       "        [ 788,  792,  838, ...,  830,  772,  764],\n",
       "        [ 812,  839,  886, ...,  849,  803,  746]],\n",
       "\n",
       "       [[1178, 1166, 1212, ...,  879,  882,  891],\n",
       "        [1144, 1060, 1060, ...,  839,  866,  861],\n",
       "        [1136, 1064, 1038, ...,  811,  839,  832],\n",
       "        ...,\n",
       "        [1078, 1040, 1114, ...,  928,  899,  908],\n",
       "        [1092, 1080, 1160, ..., 1003,  998,  942],\n",
       "        [1096, 1140, 1180, ..., 1019,  980,  906]],\n",
       "\n",
       "       [[ 788,  807,  859, ...,  667,  663,  691],\n",
       "        [ 772,  684,  732, ...,  644,  680,  698],\n",
       "        [ 792,  704,  697, ...,  629,  667,  648],\n",
       "        ...,\n",
       "...\n",
       "        ...,\n",
       "        [ 969,  897, 1015, ...,  771,  758,  764],\n",
       "        [ 997,  958, 1010, ...,  844,  855,  827],\n",
       "        [ 949,  987, 1038, ...,  830,  818,  761]],\n",
       "\n",
       "       [[ 683,  738,  780, ...,  592,  591,  610],\n",
       "        [ 702,  624,  658, ...,  589,  578,  603],\n",
       "        [ 689,  586,  612, ...,  547,  562,  585],\n",
       "        ...,\n",
       "        [ 663,  654,  740, ...,  613,  570,  568],\n",
       "        [ 680,  672,  735, ...,  662,  664,  634],\n",
       "        [ 692,  735,  781, ...,  696,  656,  600]],\n",
       "\n",
       "       [[ 979,  954,  987, ...,  699,  719,  711],\n",
       "        [ 968,  808,  850, ...,  677,  744,  701],\n",
       "        [ 944,  903,  883, ...,  670,  697,  665],\n",
       "        ...,\n",
       "        [ 881,  884,  915, ...,  775,  767,  788],\n",
       "        [ 886,  901,  966, ...,  871,  827,  764],\n",
       "        [ 900,  952,  996, ...,  804,  783,  733]]], dtype=int16)</pre></div></li><li class='xr-var-item'><div class='xr-var-name'><span>green</span></div><div class='xr-var-dims'>(time, y, x)</div><div class='xr-var-dtype'>int16</div><div class='xr-var-preview xr-preview'>1120 1146 1190 ... 1178 1124 1092</div><input id='attrs-7353b397-5de9-4ceb-ab66-0fc80a5f5dab' class='xr-var-attrs-in' type='checkbox' ><label for='attrs-7353b397-5de9-4ceb-ab66-0fc80a5f5dab' title='Show/Hide attributes'><svg class='icon xr-icon-file-text2'><use xlink:href='#icon-file-text2'></use></svg></label><input id='data-edf81bc1-94f6-4b9c-aed5-b098ffcaa7c8' class='xr-var-data-in' type='checkbox'><label for='data-edf81bc1-94f6-4b9c-aed5-b098ffcaa7c8' title='Show/Hide data repr'><svg class='icon xr-icon-database'><use xlink:href='#icon-database'></use></svg></label><div class='xr-var-attrs'><dl class='xr-attrs'><dt><span>units :</span></dt><dd>reflectance</dd><dt><span>nodata :</span></dt><dd>0</dd><dt><span>crs :</span></dt><dd>EPSG:32734</dd><dt><span>grid_mapping :</span></dt><dd>spatial_ref</dd></dl></div><div class='xr-var-data'><pre>array([[[1120, 1146, 1190, ..., 1000, 1024, 1021],\n",
       "        [1134, 1026, 1048, ...,  980, 1015, 1040],\n",
       "        [1116, 1058, 1036, ...,  972, 1002, 1028],\n",
       "        ...,\n",
       "        [1013, 1058, 1124, ..., 1076, 1010, 1040],\n",
       "        [1010, 1108, 1168, ..., 1144, 1128, 1088],\n",
       "        [1040, 1158, 1198, ..., 1170, 1132, 1064]],\n",
       "\n",
       "       [[1440, 1450, 1442, ..., 1166, 1172, 1146],\n",
       "        [1450, 1298, 1318, ..., 1142, 1172, 1146],\n",
       "        [1432, 1326, 1344, ..., 1142, 1160, 1140],\n",
       "        ...,\n",
       "        [1278, 1302, 1408, ..., 1282, 1238, 1224],\n",
       "        [1296, 1326, 1446, ..., 1350, 1322, 1268],\n",
       "        [1330, 1376, 1464, ..., 1342, 1340, 1260]],\n",
       "\n",
       "       [[1084, 1088, 1116, ...,  926,  922,  921],\n",
       "        [1094,  968,  980, ...,  918,  952,  929],\n",
       "        [1038,  947,  958, ...,  869,  941,  922],\n",
       "        ...,\n",
       "...\n",
       "        ...,\n",
       "        [1138, 1110, 1192, ..., 1120, 1072, 1060],\n",
       "        [1136, 1152, 1236, ..., 1158, 1138, 1134],\n",
       "        [1130, 1192, 1280, ..., 1152, 1152, 1108]],\n",
       "\n",
       "       [[ 976, 1072, 1068, ...,  837,  850,  842],\n",
       "        [ 999,  875,  932, ...,  816,  854,  846],\n",
       "        [ 987,  882,  900, ...,  804,  856,  856],\n",
       "        ...,\n",
       "        [ 891,  890,  971, ...,  922,  890,  871],\n",
       "        [ 879,  926, 1002, ...,  954,  946,  927],\n",
       "        [ 901,  990, 1070, ..., 1020,  948,  901]],\n",
       "\n",
       "       [[1252, 1250, 1218, ...,  963,  996,  976],\n",
       "        [1208, 1110, 1112, ...,  973, 1004,  968],\n",
       "        [1210, 1200, 1146, ...,  930,  962,  973],\n",
       "        ...,\n",
       "        [1108, 1106, 1180, ..., 1142, 1106, 1092],\n",
       "        [1128, 1172, 1244, ..., 1196, 1152, 1108],\n",
       "        [1134, 1204, 1278, ..., 1178, 1124, 1092]]], dtype=int16)</pre></div></li><li class='xr-var-item'><div class='xr-var-name'><span>red</span></div><div class='xr-var-dims'>(time, y, x)</div><div class='xr-var-dtype'>int16</div><div class='xr-var-preview xr-preview'>1560 1596 1634 ... 1560 1518 1448</div><input id='attrs-0e4f1efa-b13e-452c-9048-2d82e0d94ede' class='xr-var-attrs-in' type='checkbox' ><label for='attrs-0e4f1efa-b13e-452c-9048-2d82e0d94ede' title='Show/Hide attributes'><svg class='icon xr-icon-file-text2'><use xlink:href='#icon-file-text2'></use></svg></label><input id='data-4c68f5cc-e4c7-4aed-87df-7bcbf075bc74' class='xr-var-data-in' type='checkbox'><label for='data-4c68f5cc-e4c7-4aed-87df-7bcbf075bc74' title='Show/Hide data repr'><svg class='icon xr-icon-database'><use xlink:href='#icon-database'></use></svg></label><div class='xr-var-attrs'><dl class='xr-attrs'><dt><span>units :</span></dt><dd>reflectance</dd><dt><span>nodata :</span></dt><dd>0</dd><dt><span>crs :</span></dt><dd>EPSG:32734</dd><dt><span>grid_mapping :</span></dt><dd>spatial_ref</dd></dl></div><div class='xr-var-data'><pre>array([[[1560, 1596, 1634, ..., 1520, 1578, 1528],\n",
       "        [1588, 1398, 1486, ..., 1516, 1582, 1534],\n",
       "        [1548, 1432, 1464, ..., 1534, 1584, 1598],\n",
       "        ...,\n",
       "        [1430, 1460, 1610, ..., 1528, 1466, 1478],\n",
       "        [1446, 1518, 1640, ..., 1580, 1566, 1540],\n",
       "        [1468, 1602, 1660, ..., 1650, 1606, 1526]],\n",
       "\n",
       "       [[1926, 1872, 1886, ..., 1764, 1780, 1744],\n",
       "        [1894, 1666, 1758, ..., 1780, 1820, 1802],\n",
       "        [1904, 1752, 1734, ..., 1784, 1826, 1836],\n",
       "        ...,\n",
       "        [1710, 1752, 1922, ..., 1818, 1760, 1776],\n",
       "        [1772, 1814, 1972, ..., 1864, 1854, 1828],\n",
       "        [1786, 1892, 1990, ..., 1918, 1846, 1780]],\n",
       "\n",
       "       [[1526, 1514, 1524, ..., 1472, 1492, 1444],\n",
       "        [1508, 1342, 1384, ..., 1438, 1502, 1492],\n",
       "        [1518, 1366, 1376, ..., 1450, 1532, 1558],\n",
       "        ...,\n",
       "...\n",
       "        ...,\n",
       "        [1490, 1466, 1640, ..., 1500, 1488, 1440],\n",
       "        [1526, 1544, 1682, ..., 1572, 1570, 1526],\n",
       "        [1514, 1650, 1770, ..., 1592, 1530, 1430]],\n",
       "\n",
       "       [[1412, 1458, 1496, ..., 1306, 1328, 1270],\n",
       "        [1366, 1206, 1272, ..., 1290, 1354, 1312],\n",
       "        [1346, 1226, 1234, ..., 1316, 1390, 1384],\n",
       "        ...,\n",
       "        [1266, 1278, 1454, ..., 1310, 1274, 1266],\n",
       "        [1250, 1346, 1492, ..., 1356, 1372, 1324],\n",
       "        [1278, 1456, 1578, ..., 1414, 1366, 1300]],\n",
       "\n",
       "       [[1646, 1560, 1610, ..., 1448, 1512, 1470],\n",
       "        [1584, 1362, 1428, ..., 1476, 1556, 1514],\n",
       "        [1652, 1570, 1588, ..., 1490, 1542, 1536],\n",
       "        ...,\n",
       "        [1472, 1514, 1694, ..., 1546, 1570, 1530],\n",
       "        [1482, 1582, 1744, ..., 1670, 1636, 1532],\n",
       "        [1542, 1698, 1820, ..., 1560, 1518, 1448]]], dtype=int16)</pre></div></li></ul></div></li><li class='xr-section-item'><input id='section-88aa6a33-6325-4224-9eac-7ef6a336737f' class='xr-section-summary-in' type='checkbox'  checked><label for='section-88aa6a33-6325-4224-9eac-7ef6a336737f' class='xr-section-summary' >Attributes: <span>(2)</span></label><div class='xr-section-inline-details'></div><div class='xr-section-details'><dl class='xr-attrs'><dt><span>crs :</span></dt><dd>EPSG:32734</dd><dt><span>grid_mapping :</span></dt><dd>spatial_ref</dd></dl></div></li></ul></div></div>"
      ],
      "text/plain": [
       "<xarray.Dataset>\n",
       "Dimensions:      (time: 36, x: 164, y: 82)\n",
       "Coordinates:\n",
       "  * time         (time) datetime64[ns] 2020-01-02T09:07:17 ... 2020-03-29T08:...\n",
       "  * y            (y) float64 7.28e+06 7.28e+06 7.28e+06 ... 7.28e+06 7.28e+06\n",
       "  * x            (x) float64 1.751e+05 1.751e+05 ... 1.767e+05 1.768e+05\n",
       "    spatial_ref  int32 32734\n",
       "Data variables:\n",
       "    blue         (time, y, x) int16 823 861 889 769 698 ... 854 844 804 783 733\n",
       "    green        (time, y, x) int16 1120 1146 1190 1086 ... 1182 1178 1124 1092\n",
       "    red          (time, y, x) int16 1560 1596 1634 1530 ... 1632 1560 1518 1448\n",
       "Attributes:\n",
       "    crs:           EPSG:32734\n",
       "    grid_mapping:  spatial_ref"
      ]
     },
     "execution_count": 3,
     "metadata": {},
     "output_type": "execute_result"
    }
   ],
   "source": [
    "# Sample of Namibia\n",
    "ds = dc.load(product = \"s2_l2a_namibia\",\n",
    "             measurements = [\"blue\", \"green\", \"red\"],\n",
    "             longitude = [17.793, 17.809],\n",
    "             latitude = [-24.564, -24.557],\n",
    "             time = (\"2020-01-01\", \"2020-03-31\"),\n",
    "             group_by = \"solar_day\",\n",
    "            progress_cbk=with_ui_cbk())\n",
    "\n",
    "ds"
   ]
  },
  {
   "cell_type": "markdown",
   "metadata": {},
   "source": [
    "<a id='index_array3'></a>\n",
    "## **Advanced Indexing**\n",
    "### 1) Temporal Subset"
   ]
  },
  {
   "cell_type": "markdown",
   "metadata": {},
   "source": [
    "In the earlier tutorial we introduced `isel()`and `sel()` for indexing data. For both methods a **slicing** operator exists. If the function `slice()` is passed onto the index function, the dataset can be sliced. \n",
    "The first example uses the slicing by position method to select the first five scenes in `data_1`. The start value is included and the stop value is excluded.\n",
    "\n",
    "#### I. Using index number"
   ]
  },
  {
   "cell_type": "code",
   "execution_count": 4,
   "metadata": {},
   "outputs": [
    {
     "name": "stdout",
     "output_type": "stream",
     "text": [
      "<xarray.Dataset>\n",
      "Dimensions:      (time: 5, x: 164, y: 82)\n",
      "Coordinates:\n",
      "  * time         (time) datetime64[ns] 2020-01-02T09:07:17 ... 2020-01-12T09:...\n",
      "  * y            (y) float64 7.28e+06 7.28e+06 7.28e+06 ... 7.28e+06 7.28e+06\n",
      "  * x            (x) float64 1.751e+05 1.751e+05 ... 1.767e+05 1.768e+05\n",
      "    spatial_ref  int32 32734\n",
      "Data variables:\n",
      "    blue         (time, y, x) int16 823 861 889 769 698 ... 852 802 774 753 713\n",
      "    green        (time, y, x) int16 1120 1146 1190 1086 ... 1140 1126 1068 1036\n",
      "    red          (time, y, x) int16 1560 1596 1634 1530 ... 1644 1614 1532 1448\n",
      "Attributes:\n",
      "    crs:           EPSG:32734\n",
      "    grid_mapping:  spatial_ref\n"
     ]
    }
   ],
   "source": [
    "print(ds.isel(time=slice(0,5)))"
   ]
  },
  {
   "cell_type": "markdown",
   "metadata": {},
   "source": [
    "This example uses the slicing by label method to select the scenes between \"2019-12-08\" and \"2019-12-25\". Note, that when using the `slice()` function with the `sel()` method, both start and stop value are included.\n",
    "\n",
    "#### II. Using `datetime64` data"
   ]
  },
  {
   "cell_type": "code",
   "execution_count": 5,
   "metadata": {},
   "outputs": [
    {
     "name": "stdout",
     "output_type": "stream",
     "text": [
      "<xarray.Dataset>\n",
      "Dimensions:      (time: 12, x: 164, y: 82)\n",
      "Coordinates:\n",
      "  * time         (time) datetime64[ns] 2020-01-02T09:07:17 ... 2020-01-29T08:...\n",
      "  * y            (y) float64 7.28e+06 7.28e+06 7.28e+06 ... 7.28e+06 7.28e+06\n",
      "  * x            (x) float64 1.751e+05 1.751e+05 ... 1.767e+05 1.768e+05\n",
      "    spatial_ref  int32 32734\n",
      "Data variables:\n",
      "    blue         (time, y, x) int16 823 861 889 769 698 ... 996 1008 944 906\n",
      "    green        (time, y, x) int16 1120 1146 1190 1086 ... 1372 1382 1316 1262\n",
      "    red          (time, y, x) int16 1560 1596 1634 1530 ... 1974 1930 1898 1832\n",
      "Attributes:\n",
      "    crs:           EPSG:32734\n",
      "    grid_mapping:  spatial_ref\n"
     ]
    }
   ],
   "source": [
    "print(ds.sel(time=slice(\"2020-01-01\", \"2020-01-31\"))) # Namibia\n",
    "#print(ds.sel(time=slice(\"2019-12-01\",\"2019-12-25\"))) # Bavaria"
   ]
  },
  {
   "cell_type": "markdown",
   "metadata": {},
   "source": [
    "#### III. Using other time dimensions\n",
    "\n",
    "`xarray` also includes some useful features for the inspection of the time dimension. It allows to easily extract additional information from a dataset. The following code automatically groups the time dimension in seasons (\"DJF\", \"MAM\", JJA\", \"SON\"). Since `ds` only contains scens from winter months, only the label \"DJF\" will appear. There are a lot of other `time` dimensions arguments, e.g. `month`, `week`, `weekday`, `dayofyear`."
   ]
  },
  {
   "cell_type": "code",
   "execution_count": 6,
   "metadata": {},
   "outputs": [
    {
     "name": "stdout",
     "output_type": "stream",
     "text": [
      "<xarray.DataArray 'season' (time: 36)>\n",
      "array(['DJF', 'DJF', 'DJF', 'DJF', 'DJF', 'DJF', 'DJF', 'DJF', 'DJF',\n",
      "       'DJF', 'DJF', 'DJF', 'DJF', 'DJF', 'DJF', 'DJF', 'DJF', 'DJF',\n",
      "       'DJF', 'DJF', 'DJF', 'DJF', 'DJF', 'DJF', 'MAM', 'MAM', 'MAM',\n",
      "       'MAM', 'MAM', 'MAM', 'MAM', 'MAM', 'MAM', 'MAM', 'MAM', 'MAM'],\n",
      "      dtype='<U3')\n",
      "Coordinates:\n",
      "  * time         (time) datetime64[ns] 2020-01-02T09:07:17 ... 2020-03-29T08:...\n",
      "    spatial_ref  int32 32734\n"
     ]
    }
   ],
   "source": [
    "print(ds.time.dt.season)"
   ]
  },
  {
   "cell_type": "markdown",
   "metadata": {},
   "source": [
    "It is also possible to extract the \"day of year\" for a time step."
   ]
  },
  {
   "cell_type": "code",
   "execution_count": 7,
   "metadata": {},
   "outputs": [
    {
     "name": "stdout",
     "output_type": "stream",
     "text": [
      "<xarray.DataArray 'dayofyear' (time: 36)>\n",
      "array([ 2,  4,  7,  9, 12, 14, 17, 19, 22, 24, 27, 29, 32, 34, 37, 39, 42,\n",
      "       44, 47, 49, 52, 54, 57, 59, 62, 64, 67, 69, 72, 74, 77, 79, 82, 84,\n",
      "       87, 89])\n",
      "Coordinates:\n",
      "  * time         (time) datetime64[ns] 2020-01-02T09:07:17 ... 2020-03-29T08:...\n",
      "    spatial_ref  int32 32734\n"
     ]
    }
   ],
   "source": [
    "print(ds.time.dt.dayofyear)"
   ]
  },
  {
   "cell_type": "markdown",
   "metadata": {},
   "source": [
    "### 2) Spatial Subset\n",
    "It is possible to index and **slice within the x and y dimensions**. The following example selects the value for each band of the pixel in the second colum of the raster and the fifth row of the raster (`x=2,y=5`)"
   ]
  },
  {
   "cell_type": "code",
   "execution_count": 8,
   "metadata": {},
   "outputs": [
    {
     "name": "stdout",
     "output_type": "stream",
     "text": [
      "<xarray.Dataset>\n",
      "Dimensions:      (time: 36)\n",
      "Coordinates:\n",
      "  * time         (time) datetime64[ns] 2020-01-02T09:07:17 ... 2020-03-29T08:...\n",
      "    y            float64 7.28e+06\n",
      "    x            float64 1.751e+05\n",
      "    spatial_ref  int32 32734\n",
      "Data variables:\n",
      "    blue         (time) int16 786 1140 753 0 800 0 ... 698 0 725 1052 714 993\n",
      "    green        (time) int16 1128 1446 1078 0 1146 0 ... 0 1052 1262 1070 1300\n",
      "    red          (time) int16 1546 1946 1494 0 1556 0 ... 0 1462 1706 1448 1768\n",
      "Attributes:\n",
      "    crs:           EPSG:32734\n",
      "    grid_mapping:  spatial_ref\n"
     ]
    }
   ],
   "source": [
    "print(ds.isel(x=2, y= 5))"
   ]
  },
  {
   "cell_type": "markdown",
   "metadata": {},
   "source": [
    "### 3) Combining Temporal and Spatial Subset\n",
    "\n",
    "Again, this method can be combined with the `slice()` operator to do a spatial subset of the dataset based on the position of the pixels. If you know the actual coordinate (x,y) value (extent) of the spatial subset area, use the `sel()` function.\n",
    "Additionally, this subset can also be sliced in the time dimensions.\n",
    "\n",
    "The following example subsets the `ds` by the spatial location of the pixels. Only the pixels from the first to the fifth column and the pixels from the first to the fifth row are included in the output. Also the scenes where filtered in the time dimension between the first and fifth time step."
   ]
  },
  {
   "cell_type": "code",
   "execution_count": 9,
   "metadata": {},
   "outputs": [
    {
     "name": "stdout",
     "output_type": "stream",
     "text": [
      "<xarray.Dataset>\n",
      "Dimensions:      (time: 5, x: 5, y: 5)\n",
      "Coordinates:\n",
      "  * time         (time) datetime64[ns] 2020-01-02T09:07:17 ... 2020-01-12T09:...\n",
      "  * y            (y) float64 7.28e+06 7.28e+06 7.28e+06 7.28e+06 7.28e+06\n",
      "  * x            (x) float64 1.751e+05 1.751e+05 1.751e+05 1.752e+05 1.752e+05\n",
      "    spatial_ref  int32 32734\n",
      "Data variables:\n",
      "    blue         (time, y, x) int16 823 861 889 769 698 ... 841 703 689 762 796\n",
      "    green        (time, y, x) int16 1120 1146 1190 1086 ... 1064 1011 1054 1132\n",
      "    red          (time, y, x) int16 1560 1596 1634 1530 ... 1472 1362 1476 1574\n",
      "Attributes:\n",
      "    crs:           EPSG:32734\n",
      "    grid_mapping:  spatial_ref\n"
     ]
    }
   ],
   "source": [
    "print(ds.isel(time=slice(0,5), x= slice(0,5), y=slice(0,5)))"
   ]
  },
  {
   "cell_type": "markdown",
   "metadata": {},
   "source": [
    "## **Data Manipulation & Statistics**\n",
    "\n",
    "This notebook presents some basic built-in functions of the `xarray` library to manipulate and transform data in a `xarray.Dataset`. In this notebook only a fraction of the available `xarray` functions are presented. For a complete overview of all the available functions and tools of the `xarray` package please visit the [documentation website](http://xarray.pydata.org/en/stable/). The [notebook 07](07_basic_analysis.ipynb) will cover this topic with a focus on an application oriented remote sensing approach.\n",
    "\n",
    "###  1) Statistical Operation\n",
    "\n",
    "The simple built-in functions allow the user to do simple calculations with a `xarray.Dataset`.\n",
    "The **basic math** built-in `xarray` functions are:\n",
    "* `min()`, `max()`\n",
    "* `mean()`, `median()`\n",
    "* `sum()`\n",
    "* `std()`\n",
    "\n",
    "The following code demonstrates the easy use of the `max()` function to extract the maximum value of the red band in the `ds` dataset."
   ]
  },
  {
   "cell_type": "code",
   "execution_count": 10,
   "metadata": {},
   "outputs": [
    {
     "name": "stdout",
     "output_type": "stream",
     "text": [
      "<xarray.DataArray 'red' ()>\n",
      "array(10088, dtype=int16)\n",
      "Coordinates:\n",
      "    spatial_ref  int32 32734\n"
     ]
    }
   ],
   "source": [
    "print(ds.red.max())"
   ]
  },
  {
   "cell_type": "markdown",
   "metadata": {},
   "source": [
    "To apply a function to every value of a specified dimension (e.g. to calculate the mean of every time step) the `dim` argument in the basic math function must be define with the dimension label.\n",
    "\n",
    "This examples calculates the mean of the `red` band for each pixel (defined by the unique `x`, `y` combination) over every time step. The result is a data array which can be used for further time series visualization and analysis."
   ]
  },
  {
   "cell_type": "code",
   "execution_count": 11,
   "metadata": {},
   "outputs": [
    {
     "name": "stdout",
     "output_type": "stream",
     "text": [
      "<xarray.DataArray 'red' (time: 36)>\n",
      "array([1618.67013682, 1871.20865556, 1566.82666568, 1471.77840571,\n",
      "       1600.29052647, 1848.95939917, 3024.54625223, 1289.06290898,\n",
      "       1615.75014872, 1599.40660321, 1649.24479477, 1080.55993456,\n",
      "       1588.98259964, 4716.02067222, 1552.65526472, 1466.87656157,\n",
      "       1588.71244795, 1777.91805473, 8724.0056514 , 1796.16478287,\n",
      "       7417.80844735, 1703.83625818, 1586.30339084, 2026.01918501,\n",
      "       2543.56186794, 1612.23215348, 1467.81558596, 1643.90853659,\n",
      "       1471.02520821, 1633.46259667, 1401.04082391, 1690.92147531,\n",
      "       1409.61317668, 1580.03636228, 1440.76375669, 1606.81722189])\n",
      "Coordinates:\n",
      "  * time         (time) datetime64[ns] 2020-01-02T09:07:17 ... 2020-03-29T08:...\n",
      "    spatial_ref  int32 32734\n"
     ]
    }
   ],
   "source": [
    "print(ds.red.mean(dim=[\"x\", \"y\"]))"
   ]
  },
  {
   "cell_type": "markdown",
   "metadata": {},
   "source": [
    "This examples works the other way around. It calculates the standard deviation of every pixel (`x`, `y`) over all timesteps of the dataset `ds`."
   ]
  },
  {
   "cell_type": "code",
   "execution_count": 12,
   "metadata": {},
   "outputs": [
    {
     "name": "stdout",
     "output_type": "stream",
     "text": [
      "<xarray.DataArray 'red' (y: 82, x: 164)>\n",
      "array([[1636.93925089, 1641.63041885, 1647.10786937, ..., 1662.80544859,\n",
      "        1653.22843436, 1666.73809754],\n",
      "       [1631.5492486 , 1637.21969517, 1646.22226253, ..., 1655.82743853,\n",
      "        1646.29063314, 1663.08947964],\n",
      "       [1629.2644434 , 1637.58155013, 1646.90916924, ..., 1659.31952437,\n",
      "        1647.13530968, 1652.24026273],\n",
      "       ...,\n",
      "       [1608.0471555 , 1604.14777478, 1599.199301  , ..., 1666.62246238,\n",
      "        1698.08833329, 1729.19837633],\n",
      "       [1609.44859337, 1616.11444941, 1607.16664554, ..., 1637.41234051,\n",
      "        1664.94538801, 1700.12610553],\n",
      "       [1607.04050803, 1615.8350744 , 1613.74150312, ..., 1622.62118667,\n",
      "        1665.57591715, 1692.8323652 ]])\n",
      "Coordinates:\n",
      "  * y            (y) float64 7.28e+06 7.28e+06 7.28e+06 ... 7.28e+06 7.28e+06\n",
      "  * x            (x) float64 1.751e+05 1.751e+05 ... 1.767e+05 1.768e+05\n",
      "    spatial_ref  int32 32734\n"
     ]
    }
   ],
   "source": [
    "print(ds.red.std(dim=\"time\"))"
   ]
  },
  {
   "cell_type": "markdown",
   "metadata": {},
   "source": [
    "Remember, to access the raw `numpy` array that stores the values of the resulting `xarray.DataArrays`, the suffix `.values` is needed. This allows you to work with the \"actual\" data values."
   ]
  },
  {
   "cell_type": "code",
   "execution_count": 13,
   "metadata": {},
   "outputs": [
    {
     "name": "stdout",
     "output_type": "stream",
     "text": [
      "[ 11391001  14121316  10883784  10884384  10850927  14375723  33431206\n",
      "   9300546  10836657  12330295  12474720   8040560  11196661  67624220\n",
      "  11329227  10725750  10891288  13452006 139113704  19374024 114416628\n",
      "  15346272  12184974  17325448  30707694  12643794  11556935  12436906\n",
      "  10052716  12411204   9991866  12698768   9511944  12080506   9737017\n",
      "  11594178]\n"
     ]
    }
   ],
   "source": [
    "print(ds.blue.sum(dim=[\"x\",\"y\"]).values)"
   ]
  },
  {
   "cell_type": "markdown",
   "metadata": {},
   "source": [
    "### 2) Conditional Operation"
   ]
  },
  {
   "cell_type": "markdown",
   "metadata": {},
   "source": [
    "Using conditional operation can be very helpful when we need to analyse satellite scenes or pixels lies within our interests. The `where()` function provides the option to **mask** a `xarray.Dataset` based on a logical condition. By default, the function converts all values that match the condition to NaN values. This is extremly useful when applied in combination with a binary mask to mask your data to the desired values. The argument `other` let´s you define a subset value for all values that match the condition (default is `nan`). The argument `drop` drops all values which do not match with the condition.\n",
    "The following example masks the datatset `ds` to only the values which have a reflectance value of greater than 700 in the `red` band."
   ]
  },
  {
   "cell_type": "code",
   "execution_count": 14,
   "metadata": {},
   "outputs": [
    {
     "name": "stdout",
     "output_type": "stream",
     "text": [
      "<xarray.Dataset>\n",
      "Dimensions:      (time: 36, x: 164, y: 82)\n",
      "Coordinates:\n",
      "  * time         (time) datetime64[ns] 2020-01-02T09:07:17 ... 2020-03-29T08:...\n",
      "  * y            (y) float64 7.28e+06 7.28e+06 7.28e+06 ... 7.28e+06 7.28e+06\n",
      "  * x            (x) float64 1.751e+05 1.751e+05 ... 1.767e+05 1.768e+05\n",
      "    spatial_ref  int32 32734\n",
      "Data variables:\n",
      "    blue         (time, y, x) float64 823.0 861.0 889.0 ... 804.0 783.0 733.0\n",
      "    green        (time, y, x) float64 1.12e+03 1.146e+03 ... 1.124e+03 1.092e+03\n",
      "    red          (time, y, x) float64 1.56e+03 1.596e+03 ... 1.518e+03 1.448e+03\n",
      "Attributes:\n",
      "    crs:           EPSG:32734\n",
      "    grid_mapping:  spatial_ref\n"
     ]
    }
   ],
   "source": [
    "print(ds.where(ds.red > 700))"
   ]
  },
  {
   "cell_type": "markdown",
   "metadata": {},
   "source": [
    "This code subsets all zeros in the dataset `ds` with the new value -9999."
   ]
  },
  {
   "cell_type": "code",
   "execution_count": 15,
   "metadata": {},
   "outputs": [
    {
     "name": "stdout",
     "output_type": "stream",
     "text": [
      "<xarray.Dataset>\n",
      "Dimensions:      (time: 36, x: 164, y: 82)\n",
      "Coordinates:\n",
      "  * time         (time) datetime64[ns] 2020-01-02T09:07:17 ... 2020-03-29T08:...\n",
      "  * y            (y) float64 7.28e+06 7.28e+06 7.28e+06 ... 7.28e+06 7.28e+06\n",
      "  * x            (x) float64 1.751e+05 1.751e+05 ... 1.767e+05 1.768e+05\n",
      "    spatial_ref  int32 32734\n",
      "Data variables:\n",
      "    blue         (time, y, x) int16 823 861 889 769 698 ... 854 844 804 783 733\n",
      "    green        (time, y, x) int16 1120 1146 1190 1086 ... 1182 1178 1124 1092\n",
      "    red          (time, y, x) int16 1560 1596 1634 1530 ... 1632 1560 1518 1448\n",
      "Attributes:\n",
      "    crs:           EPSG:32734\n",
      "    grid_mapping:  spatial_ref\n"
     ]
    }
   ],
   "source": [
    "print(ds.where(ds.red != 0, other = -9999))"
   ]
  },
  {
   "cell_type": "markdown",
   "metadata": {},
   "source": [
    "The implemented `xarray` function `isin()` allows to **test each value** of `xarray.Dataset` or `xarray.DataArray` whether it is in the elements defined within the function. It returns a boolean array which can be used as a mask.\n",
    "This example checks all the values of the `red` measurement if the value is in an array from 0 to 550."
   ]
  },
  {
   "cell_type": "code",
   "execution_count": 16,
   "metadata": {},
   "outputs": [
    {
     "name": "stdout",
     "output_type": "stream",
     "text": [
      "<xarray.DataArray 'red' (time: 36, y: 82, x: 164)>\n",
      "array([[[False, False, False, ..., False, False, False],\n",
      "        [False, False, False, ..., False, False, False],\n",
      "        [False, False, False, ..., False, False, False],\n",
      "        ...,\n",
      "        [False, False, False, ..., False, False, False],\n",
      "        [False, False, False, ..., False, False, False],\n",
      "        [False, False, False, ..., False, False, False]],\n",
      "\n",
      "       [[False, False, False, ..., False, False, False],\n",
      "        [False, False, False, ..., False, False, False],\n",
      "        [False, False, False, ..., False, False, False],\n",
      "        ...,\n",
      "        [False, False, False, ..., False, False, False],\n",
      "        [False, False, False, ..., False, False, False],\n",
      "        [False, False, False, ..., False, False, False]],\n",
      "\n",
      "       [[False, False, False, ..., False, False, False],\n",
      "        [False, False, False, ..., False, False, False],\n",
      "        [False, False, False, ..., False, False, False],\n",
      "        ...,\n",
      "...\n",
      "        ...,\n",
      "        [False, False, False, ..., False, False, False],\n",
      "        [False, False, False, ..., False, False, False],\n",
      "        [False, False, False, ..., False, False, False]],\n",
      "\n",
      "       [[False, False, False, ..., False, False, False],\n",
      "        [False, False, False, ..., False, False, False],\n",
      "        [False, False, False, ..., False, False, False],\n",
      "        ...,\n",
      "        [False, False, False, ..., False, False, False],\n",
      "        [False, False, False, ..., False, False, False],\n",
      "        [False, False, False, ..., False, False, False]],\n",
      "\n",
      "       [[False, False, False, ..., False, False, False],\n",
      "        [False, False, False, ..., False, False, False],\n",
      "        [False, False, False, ..., False, False, False],\n",
      "        ...,\n",
      "        [False, False, False, ..., False, False, False],\n",
      "        [False, False, False, ..., False, False, False],\n",
      "        [False, False, False, ..., False, False, False]]])\n",
      "Coordinates:\n",
      "  * time         (time) datetime64[ns] 2020-01-02T09:07:17 ... 2020-03-29T08:...\n",
      "  * y            (y) float64 7.28e+06 7.28e+06 7.28e+06 ... 7.28e+06 7.28e+06\n",
      "  * x            (x) float64 1.751e+05 1.751e+05 ... 1.767e+05 1.768e+05\n",
      "    spatial_ref  int32 32734\n"
     ]
    }
   ],
   "source": [
    "mask_red = ds.red.isin(range(550))\n",
    "print(mask_red)"
   ]
  },
  {
   "cell_type": "markdown",
   "metadata": {},
   "source": [
    "The created mask can easily be combined with the `where()` function to filter the dataset based on the predefined mask. In this case the `ds` dataset is masked with previously defined mask `mask_red`, which was based on a logical test if values of the `red` band are within a certain range of values."
   ]
  },
  {
   "cell_type": "code",
   "execution_count": 17,
   "metadata": {},
   "outputs": [
    {
     "name": "stdout",
     "output_type": "stream",
     "text": [
      "<xarray.Dataset>\n",
      "Dimensions:      (time: 36, x: 164, y: 82)\n",
      "Coordinates:\n",
      "  * time         (time) datetime64[ns] 2020-01-02T09:07:17 ... 2020-03-29T08:...\n",
      "  * y            (y) float64 7.28e+06 7.28e+06 7.28e+06 ... 7.28e+06 7.28e+06\n",
      "  * x            (x) float64 1.751e+05 1.751e+05 ... 1.767e+05 1.768e+05\n",
      "    spatial_ref  int32 32734\n",
      "Data variables:\n",
      "    blue         (time, y, x) float64 nan nan nan nan nan ... nan nan nan nan\n",
      "    green        (time, y, x) float64 nan nan nan nan nan ... nan nan nan nan\n",
      "    red          (time, y, x) float64 nan nan nan nan nan ... nan nan nan nan\n",
      "Attributes:\n",
      "    crs:           EPSG:32734\n",
      "    grid_mapping:  spatial_ref\n"
     ]
    }
   ],
   "source": [
    "print(ds.where(mask_red))"
   ]
  },
  {
   "cell_type": "markdown",
   "metadata": {},
   "source": [
    "### 3) Resampling\n",
    "Working with time series data, resampling is necessary if we want the data product aligns with the temporal window are interested in."
   ]
  },
  {
   "cell_type": "markdown",
   "metadata": {},
   "source": [
    " - **resample()**\n",
    "\n",
    "The **`resample()` method** allows to summarise the `xarray.Dataset` to bigger or smaller chunks based on a dimension. It handels both upsampling and downsampling. The argument `time` needs to be defined like a datetime-like coordinate. In the following example we resample the `ds` dataset to a monthly time intervall (`time = \"m\"`) and than calculate the median value for every resample chunk. _(this process takes a little while to run)_"
   ]
  },
  {
   "cell_type": "code",
   "execution_count": 18,
   "metadata": {},
   "outputs": [
    {
     "name": "stdout",
     "output_type": "stream",
     "text": [
      "<xarray.Dataset>\n",
      "Dimensions:      (time: 3, x: 164, y: 82)\n",
      "Coordinates:\n",
      "  * time         (time) datetime64[ns] 2020-01-31 2020-02-29 2020-03-31\n",
      "  * y            (y) float64 7.28e+06 7.28e+06 7.28e+06 ... 7.28e+06 7.28e+06\n",
      "  * x            (x) float64 1.751e+05 1.751e+05 ... 1.767e+05 1.768e+05\n",
      "    spatial_ref  int32 32734\n",
      "Data variables:\n",
      "    blue         (time, y, x) float64 773.0 788.5 816.0 ... 845.5 817.0 770.5\n",
      "    green        (time, y, x) float64 1.096e+03 1.071e+03 ... 1.138e+03 1.1e+03\n",
      "    red          (time, y, x) float64 1.532e+03 1.48e+03 ... 1.524e+03 1.439e+03\n"
     ]
    }
   ],
   "source": [
    "print(ds.resample(time='m').median())"
   ]
  },
  {
   "cell_type": "markdown",
   "metadata": {},
   "source": [
    " - **groupby() method**\n",
    "\n",
    "The **`groupby()` method** can also be used within the `xarray` library to *aggregate data over time*. Time aggregation arguments can be e.g. \"time.year\", \"time.season\", \"time.month\", \"time.week\", \"time.day\".\n",
    "The code below groups the `ds` dataset into two groups by year. Therefore, a new \"dimension\" `year` is created. Then the median for each `year` is calculated. _(this process takes a little while to run)_"
   ]
  },
  {
   "cell_type": "code",
   "execution_count": 19,
   "metadata": {},
   "outputs": [
    {
     "name": "stdout",
     "output_type": "stream",
     "text": [
      "<xarray.Dataset>\n",
      "Dimensions:      (x: 164, y: 82, year: 1)\n",
      "Coordinates:\n",
      "  * y            (y) float64 7.28e+06 7.28e+06 7.28e+06 ... 7.28e+06 7.28e+06\n",
      "  * x            (x) float64 1.751e+05 1.751e+05 ... 1.767e+05 1.768e+05\n",
      "    spatial_ref  int32 32734\n",
      "  * year         (year) int64 2020\n",
      "Data variables:\n",
      "    blue         (year, y, x) float64 797.5 799.5 840.0 ... 925.5 897.5 838.0\n",
      "    green        (year, y, x) float64 1.08e+03 1.085e+03 ... 1.219e+03 1.171e+03\n",
      "    red          (year, y, x) float64 1.52e+03 1.498e+03 ... 1.649e+03 1.56e+03\n"
     ]
    }
   ],
   "source": [
    "print(ds.groupby(\"time.year\").median(dim=\"time\"))"
   ]
  },
  {
   "cell_type": "markdown",
   "metadata": {},
   "source": [
    "### 4) Interpolation\n",
    "Interpolation is a common solution dealing with missing remote sensing data, either caused by coarse temporal resolution of the satellite, high cloud cover or bad quality of the scenes. For example, sometimes a scene of a specfic date is not available in the dataset. With the implemented `interp()` it is possible to **interpolate data** for predefined time steps. The function takes the next usable scene before and after the specified date and interpolates their values (default interpolation method is \"linear\") to build a new `xarray.Dataset`.\n",
    "\n",
    "In this example, the `ds` dataset has missing scenes on the \"2020-04-02\" and \"2020-04-05\". The `interp()` function builds two \"new\" scenes based on an linear interpolation from the two measurments before and after the new time step."
   ]
  },
  {
   "cell_type": "code",
   "execution_count": 20,
   "metadata": {},
   "outputs": [
    {
     "name": "stdout",
     "output_type": "stream",
     "text": [
      "<xarray.DataArray 'time' (time: 36)>\n",
      "array(['2020-01-02T09:07:17.000000000', '2020-01-04T08:57:22.000000000',\n",
      "       '2020-01-07T09:07:17.000000000', '2020-01-09T08:57:21.000000000',\n",
      "       '2020-01-12T09:07:16.000000000', '2020-01-14T08:57:21.000000000',\n",
      "       '2020-01-17T09:07:16.000000000', '2020-01-19T08:57:20.000000000',\n",
      "       '2020-01-22T09:07:16.000000000', '2020-01-24T08:57:20.000000000',\n",
      "       '2020-01-27T09:07:15.000000000', '2020-01-29T08:57:19.000000000',\n",
      "       '2020-02-01T09:07:14.000000000', '2020-02-03T08:57:20.000000000',\n",
      "       '2020-02-06T09:07:16.000000000', '2020-02-08T08:57:19.000000000',\n",
      "       '2020-02-11T09:07:15.000000000', '2020-02-13T08:57:22.000000000',\n",
      "       '2020-02-16T09:07:18.000000000', '2020-02-18T08:57:21.000000000',\n",
      "       '2020-02-21T09:07:17.000000000', '2020-02-23T08:57:23.000000000',\n",
      "       '2020-02-26T09:07:19.000000000', '2020-02-28T08:57:22.000000000',\n",
      "       '2020-03-02T09:07:18.000000000', '2020-03-04T08:57:24.000000000',\n",
      "       '2020-03-07T09:07:20.000000000', '2020-03-09T08:57:23.000000000',\n",
      "       '2020-03-12T09:07:18.000000000', '2020-03-14T08:57:25.000000000',\n",
      "       '2020-03-17T09:07:20.000000000', '2020-03-19T08:57:23.000000000',\n",
      "       '2020-03-22T09:07:18.000000000', '2020-03-24T08:57:24.000000000',\n",
      "       '2020-03-27T09:07:20.000000000', '2020-03-29T08:57:23.000000000'],\n",
      "      dtype='datetime64[ns]')\n",
      "Coordinates:\n",
      "  * time         (time) datetime64[ns] 2020-01-02T09:07:17 ... 2020-03-29T08:...\n",
      "    spatial_ref  int32 32734\n",
      "Attributes:\n",
      "    units:    seconds since 1970-01-01 00:00:00\n"
     ]
    }
   ],
   "source": [
    "print(ds.time)"
   ]
  },
  {
   "cell_type": "code",
   "execution_count": 21,
   "metadata": {},
   "outputs": [
    {
     "name": "stdout",
     "output_type": "stream",
     "text": [
      "<xarray.Dataset>\n",
      "Dimensions:      (time: 2, x: 164, y: 82)\n",
      "Coordinates:\n",
      "  * y            (y) float64 7.28e+06 7.28e+06 7.28e+06 ... 7.28e+06 7.28e+06\n",
      "  * x            (x) float64 1.751e+05 1.751e+05 ... 1.767e+05 1.768e+05\n",
      "    spatial_ref  int32 32734\n",
      "  * time         (time) datetime64[ns] 2020-03-02 2020-03-05\n",
      "Data variables:\n",
      "    blue         (time, y, x) float64 1.417e+03 1.681e+03 ... 892.8 825.9\n",
      "    green        (time, y, x) float64 1.604e+03 1.784e+03 ... 1.135e+03\n",
      "    red          (time, y, x) float64 1.815e+03 1.934e+03 ... 1.484e+03\n",
      "Attributes:\n",
      "    crs:           EPSG:32734\n",
      "    grid_mapping:  spatial_ref\n"
     ]
    }
   ],
   "source": [
    "ds_interp = ds.interp(time=[\"2020-03-02\", \"2020-03-05\"])\n",
    "print(ds_interp)"
   ]
  },
  {
   "cell_type": "markdown",
   "metadata": {},
   "source": [
    "The `merge()` function allows to **merge/join** `xarray.Datasets` or variables. By default the `merge()` function uses an \"inner\" join as merging operation. \n",
    "In our example the interpolated `xarray.Dataset` created above is merged to the `ds` dataset by using the default `merge()` function."
   ]
  },
  {
   "cell_type": "code",
   "execution_count": 22,
   "metadata": {},
   "outputs": [
    {
     "name": "stdout",
     "output_type": "stream",
     "text": [
      "<xarray.Dataset>\n",
      "Dimensions:      (time: 38, x: 164, y: 82)\n",
      "Coordinates:\n",
      "  * time         (time) datetime64[ns] 2020-01-02T09:07:17 ... 2020-03-29T08:...\n",
      "  * y            (y) float64 7.28e+06 7.28e+06 7.28e+06 ... 7.28e+06 7.28e+06\n",
      "  * x            (x) float64 1.751e+05 1.751e+05 ... 1.767e+05 1.768e+05\n",
      "    spatial_ref  int32 32734\n",
      "Data variables:\n",
      "    blue         (time, y, x) float64 823.0 861.0 889.0 ... 804.0 783.0 733.0\n",
      "    green        (time, y, x) float64 1.12e+03 1.146e+03 ... 1.124e+03 1.092e+03\n",
      "    red          (time, y, x) float64 1.56e+03 1.596e+03 ... 1.518e+03 1.448e+03\n",
      "Attributes:\n",
      "    crs:           EPSG:32734\n",
      "    grid_mapping:  spatial_ref\n"
     ]
    }
   ],
   "source": [
    "print(ds.merge(ds_interp))"
   ]
  },
  {
   "cell_type": "markdown",
   "metadata": {},
   "source": [
    "The `xarray` package contains a variety of other useful functions in addition to those shown here. There is a function for almost every operation needed in data analysis. For more information about the `xarray` package visit the [documentation website](http://xarray.pydata.org/en/stable/) or work through the [notebook]() in the \"intro_to_python\" folder.\n",
    "\n",
    "The `xarray.Datasets` in the eo2cube datacube environment are a useful and effective structure for handeling remote sensing raster data. In this notebook you learned the basic structure and application methods of `xarray.Datasets`and `xarray.DataArrays`. However, it is very useful to not only work with the \"raw\" datasets and values. Sometimes it is necessary to get a visual overview of the data. The next [notebook 06](06_plotting.ipynb) will cover how to plot `xarray` raster data nicely and efficient. This is a very useful application, as it is often more convenient to visualize the raster data."
   ]
  },
  {
   "cell_type": "markdown",
   "metadata": {},
   "source": [
    "## Recommended next steps\n",
    "\n",
    "To continue working through the notebooks in this beginner's guide, the following notebooks are designed to be worked through in the following order:\n",
    "\n",
    "1. [Jupyter Notebooks](https://github.com/eo2cube/eo2cube_notebooks/blob/main/get_started/intro_to_eo2cube/01_jupyter_introduction.ipynb)\n",
    "2. [eo2cube](https://github.com/eo2cube/eo2cube_notebooks/blob/main/get_started/intro_to_eo2cube/02_eo2cube_introduction.ipynb)\n",
    "3. [Loading Data](https://github.com/eo2cube/eo2cube_notebooks/blob/main/get_started/intro_to_eo2cube/03_data_lookup_and_loading.ipynb)\n",
    "4. [Xarray I: Data Structure](https://github.com/eo2cube/eo2cube_notebooks/blob/main/get_started/intro_to_eo2cube/04_xarrayI_data_structure.ipynb)\n",
    "5. ***Xarray II: Index and Statistics (this notebook)***\n",
    "6. [Plotting data](https://github.com/eo2cube/eo2cube_notebooks/blob/main/get_started/intro_to_eo2cube/06_plotting_basics.ipynb)\n",
    "7. [Spatial analysis](https://github.com/eo2cube/eo2cube_notebooks/blob/main/get_started/intro_to_eo2cube/07_basic_analysis.ipynb)\n",
    "8. [Parallel processing with Dask](https://github.com/eo2cube/eo2cube_notebooks/blob/main/get_started/intro_to_eo2cube/08_parallel_processing_with_dask.ipynb)\n",
    "\n",
    "The additional notebooks are designed for users to build up both basic and advanced skills which are not covered by the beginner's guide. Self-motivated users can go through them according to their own needs. They act as complements for the guide:\n",
    "<br>\n",
    "\n",
    "1. [Python's file management tools](https://github.com/eo2cube/eo2cube_notebooks/blob/main/get_started/intro_to_eo2cube/I_file_management.ipynb)\n",
    "2. [Image Processing basics using NumPy and Matplotlib](https://github.com/eo2cube/eo2cube_notebooks/blob/main/get_started/intro_to_eo2cube/II_numpy_image_processing.ipynb)\n",
    "3. [Vector Processing](https://github.com/eo2cube/eo2cube_notebooks/blob/main/get_started/intro_to_eo2cube/III_process_vector_data.ipynb)\n",
    "4. [Advanced Plotting](https://github.com/eo2cube/eo2cube_notebooks/blob/main/get_started/intro_to_eo2cube/IV_advanced_plotting.ipynb)"
   ]
  },
  {
   "cell_type": "markdown",
   "metadata": {},
   "source": [
    "***\n",
    "\n",
    "## Additional information\n",
    "\n",
    "<font size=\"2\">This notebook for the usage in the Open Data Cube entities of the [Department of Remote Sensing](http://remote-sensing.org/), [University of Wuerzburg](https://www.uni-wuerzburg.de/startseite/), is adapted from [Geoscience Australia](https://github.com/GeoscienceAustralia/dea-notebooks), published using the Apache License, Version 2.0. Thanks! </font>\n",
    "\n",
    "**License:** The code in this notebook is licensed under the [Apache License, Version 2.0](https://www.apache.org/licenses/LICENSE-2.0). \n",
    "Digital Earth Australia data is licensed under the [Creative Commons by Attribution 4.0](https://creativecommons.org/licenses/by/4.0/) license.\n",
    "\n",
    "\n",
    "**Contact:** If you would like to report an issue with this notebook, you can file one on [Github](https://github.com).\n",
    "\n",
    "**Last modified:** February 2021"
   ]
  }
 ],
 "metadata": {
  "kernelspec": {
   "display_name": "Python 3",
   "language": "python",
   "name": "python3"
  },
  "language_info": {
   "codemirror_mode": {
    "name": "ipython",
    "version": 3
   },
   "file_extension": ".py",
   "mimetype": "text/x-python",
   "name": "python",
   "nbconvert_exporter": "python",
   "pygments_lexer": "ipython3",
   "version": "3.8.8"
  }
 },
 "nbformat": 4,
 "nbformat_minor": 4
}

{
 "cells": [
  {
   "cell_type": "markdown",
   "metadata": {},
   "source": [
    "<img align=\"right\" src=\"../../additional_data/banner_siegel.png\" style=\"width:1100px;\">"
   ]
  },
  {
   "cell_type": "markdown",
   "metadata": {},
   "source": [
    "# Xarray-I: Data Structure \n",
    "\n",
    "* [**Sign up to the JupyterHub**](https://www.phenocube.org/) to run this notebook interactively from your browser\n",
    "* **Compatibility:** Notebook currently compatible with the Open Data Cube environments of the University of Wuerzburg\n",
    "* **Prerequisites**: There is no prerequisite learning required.\n"
   ]
  },
  {
   "cell_type": "markdown",
   "metadata": {},
   "source": [
    "## Background\n",
    "\n",
    "In the previous notebook, we experienced that the data we wanna access are loaded in a form called **`xarray.dataset`**. This is the form in which earth observation data are usually stored in a datacube.\n",
    "\n",
    "**`xarray`** is an open source project and Python package which offers a toolkit for working with ***multi-dimensional arrays*** of data. **`xarray.dataset`** is an in-memory representation of a netCDF (network Common Data Form) file. Understanding the structure of a **`xarray.dataset`** is the key to enable us work with these data. Thus, in this notebook, we are mainly dedicated to helping users of our datacube understand its data structure.\n",
    "\n",
    "Firstly let's come to the end stage of the previous notebook, where we have loaded a data product. The data product \"s2_l2a_bavaria\" is used as example in this notebook."
   ]
  },
  {
   "cell_type": "markdown",
   "metadata": {},
   "source": [
    "## Description\n",
    "\n",
    "The following topics are convered in this notebook:\n",
    "* **What is inside a `xrray.dataset` (the structure)?**\n",
    "* **(Basic) Subset Dataset / DataArray**\n",
    "* **Reshape a Dataset**"
   ]
  },
  {
   "cell_type": "code",
   "execution_count": 1,
   "metadata": {},
   "outputs": [],
   "source": [
    "import datacube\n",
    "# To access and work with available data\n",
    "\n",
    "import pandas as pd\n",
    "# To format tables\n",
    "\n",
    "#from odc.ui import DcViewer \n",
    "# Provides an interface for interactively exploring the products available in the datacube\n",
    "\n",
    "#from odc.ui import with_ui_cbk\n",
    "# Enables a progress bar when loading large amounts of data.\n",
    "\n",
    "import xarray as xr\n",
    "\n",
    "import matplotlib.pyplot as plt\n",
    "\n",
    "# Set config for displaying tables nicely\n",
    "# !! USEFUL !! otherwise parts of longer infos won't be displayed in tables\n",
    "pd.set_option(\"display.max_colwidth\", 200)\n",
    "pd.set_option(\"display.max_rows\", None)\n",
    "\n",
    "# Connect to DataCube\n",
    "# argument \"app\" --- user defined name for a session (e.g. choose one matching the purpose of this notebook)\n",
    "dc = datacube.Datacube(app = \"nb_understand_ndArrays\", config = '/home/datacube/.datacube.conf')"
   ]
  },
  {
   "cell_type": "code",
   "execution_count": 3,
   "metadata": {},
   "outputs": [
    {
     "name": "stdout",
     "output_type": "stream",
     "text": [
      "<xarray.Dataset>\n",
      "Dimensions:      (time: 35, x: 164, y: 82)\n",
      "Coordinates:\n",
      "  * time         (time) datetime64[ns] 2020-10-03T09:07:26 ... 2020-12-29T08:...\n",
      "  * y            (y) float64 7.28e+06 7.28e+06 7.28e+06 ... 7.28e+06 7.28e+06\n",
      "  * x            (x) float64 1.751e+05 1.751e+05 ... 1.767e+05 1.768e+05\n",
      "    spatial_ref  int32 32734\n",
      "Data variables:\n",
      "    blue         (time, y, x) int16 817 927 879 696 664 ... 5928 6032 6068 6040\n",
      "    green        (time, y, x) int16 1112 1284 1132 1023 ... 5576 5600 5576 5628\n",
      "    red          (time, y, x) int16 1636 1802 1650 1500 ... 5372 5328 5312 5348\n",
      "Attributes:\n",
      "    crs:           EPSG:32734\n",
      "    grid_mapping:  spatial_ref\n"
     ]
    }
   ],
   "source": [
    "# Load Data Product\n",
    "ds = dc.load(product = \"s2_l2a_namibia\",\n",
    "             measurements = [\"blue\", \"green\", \"red\"],\n",
    "             longitude = [17.793, 17.809],\n",
    "             latitude = [-24.564, -24.557],\n",
    "             time = (\"2020-10-01\", \"2021-03-31\"),\n",
    "             group_by = \"solar_day\")\n",
    "\n",
    "#ds = dc.load(product = \"s2_l2a_bavaria\",\n",
    "#             measurements = [\"blue\", \"green\", \"red\"],\n",
    "#             longitude = [12.493, 12.509],\n",
    "#             latitude = [47.861, 47.868],\n",
    "#             time = (\"2018-10-01\", \"2019-03-31\"))\n",
    "\n",
    "print(ds)"
   ]
  },
  {
   "cell_type": "markdown",
   "metadata": {},
   "source": [
    "## **What is inside a `xarray.dataset`?**\n",
    "The figure below is a diagramm depicting the structure of the **`xarray.dataset`** we've just loaded. Combined with the diagramm, we hope you may better interpret the texts below explaining the data strucutre of a **`xarray.dataset`**.\n",
    "\n",
    "![xarray data structure](https://live.staticflickr.com/65535/51083605166_70dd29baa8_k.jpg)"
   ]
  },
  {
   "cell_type": "markdown",
   "metadata": {},
   "source": [
    "As read from the output block, this dataset has three ***Data Variables*** , \"blue\", \"green\" and \"red\" (shown with colors in the diagramm), referring to individual spectral band.\n",
    "\n",
    "Each data variable can be regarded as a **multi-dimensional *Data Array*** of same structure; in this case, it is a **three-dimensional array** (shown as 3D Cube in the diagramm) where `time`, `x` and `y` are its ***Dimensions*** (shown as axis along each cube in the diagramm).\n",
    "\n",
    "In this dataset, there are 35 ***Coordinates*** under `time` dimension, which means there are 35 time steps along the `time` axis. There are 164 coordinates under `x` dimension and 82 coordinates under `y` dimension, indicating that there are 164 pixels along `x` axis and 82 pixels along `y` axis.\n",
    "\n",
    "As for the term ***Dataset***, it is like a *Container* holding all the multi-dimensional arrays of same structure (shown as the red-lined box holding all 3D Cubes in the diagramm).\n",
    "\n",
    "So this instance dataset has a spatial extent of 164 by 82 pixels at given lon/lat locations, spans over 35 time stamps and 3 spectral band.\n",
    "\n",
    "In summary, ***`xarray.dataset`*** is a dictionary-like container of ***`DataArrays`***, of which each is a labeled, n-dimensional array holding 4 properties:\n",
    "* **Data Variables (`values`)**: A `numpy.ndarray` holding values *(e.g. reflectance values of spectral bands)*.\n",
    "* **Dimensions (`dims`)**: Dimension names for each axis *(e.g. 'x', 'y', 'time')*.\n",
    "* **Coordinates (`coords`)**: Coordinates of each value along each axis *(e.g. longitudes along 'x'-axis, latitudes along 'y'-axis, datetime objects along 'time'-axis)*\n",
    "* **Attributes (`attrs`)**: A dictionary(`dict`) containing Metadata."
   ]
  },
  {
   "cell_type": "markdown",
   "metadata": {},
   "source": [
    "Now let's deconstruct the dataset we have just loaded a bit further to have things more clarified!:D"
   ]
  },
  {
   "cell_type": "markdown",
   "metadata": {},
   "source": [
    "* **To check existing dimensions of a dataset**"
   ]
  },
  {
   "cell_type": "code",
   "execution_count": 4,
   "metadata": {},
   "outputs": [
    {
     "data": {
      "text/plain": [
       "Frozen(SortedKeysDict({'time': 35, 'y': 82, 'x': 164}))"
      ]
     },
     "execution_count": 4,
     "metadata": {},
     "output_type": "execute_result"
    }
   ],
   "source": [
    "ds.dims"
   ]
  },
  {
   "cell_type": "markdown",
   "metadata": {},
   "source": [
    "* **To check the coordinates of a dataset**"
   ]
  },
  {
   "cell_type": "code",
   "execution_count": 5,
   "metadata": {},
   "outputs": [
    {
     "data": {
      "text/plain": [
       "Coordinates:\n",
       "  * time         (time) datetime64[ns] 2020-10-03T09:07:26 ... 2020-12-29T08:...\n",
       "  * y            (y) float64 7.28e+06 7.28e+06 7.28e+06 ... 7.28e+06 7.28e+06\n",
       "  * x            (x) float64 1.751e+05 1.751e+05 ... 1.767e+05 1.768e+05\n",
       "    spatial_ref  int32 32734"
      ]
     },
     "execution_count": 5,
     "metadata": {},
     "output_type": "execute_result"
    }
   ],
   "source": [
    "ds.coords"
   ]
  },
  {
   "cell_type": "markdown",
   "metadata": {},
   "source": [
    "* **To check all coordinates along a specific dimension**\n",
    "<br>\n",
    "<img src=https://live.staticflickr.com/65535/51115452191_ec160d4514_o.png, width=\"450\">"
   ]
  },
  {
   "cell_type": "code",
   "execution_count": 6,
   "metadata": {},
   "outputs": [
    {
     "name": "stdout",
     "output_type": "stream",
     "text": [
      "<xarray.DataArray 'time' (time: 35)>\n",
      "array(['2020-10-03T09:07:26.000000000', '2020-10-08T09:07:28.000000000',\n",
      "       '2020-10-10T08:57:30.000000000', '2020-10-13T09:07:26.000000000',\n",
      "       '2020-10-15T08:57:32.000000000', '2020-10-18T09:07:28.000000000',\n",
      "       '2020-10-20T08:57:30.000000000', '2020-10-23T09:07:26.000000000',\n",
      "       '2020-10-25T08:57:32.000000000', '2020-10-28T09:07:27.000000000',\n",
      "       '2020-10-30T08:57:29.000000000', '2020-11-02T09:07:25.000000000',\n",
      "       '2020-11-04T08:57:31.000000000', '2020-11-07T09:07:27.000000000',\n",
      "       '2020-11-09T08:57:28.000000000', '2020-11-12T09:07:23.000000000',\n",
      "       '2020-11-14T08:57:30.000000000', '2020-11-17T09:07:25.000000000',\n",
      "       '2020-11-19T08:57:27.000000000', '2020-11-22T09:07:23.000000000',\n",
      "       '2020-11-24T08:57:28.000000000', '2020-11-27T09:07:23.000000000',\n",
      "       '2020-11-29T08:57:26.000000000', '2020-12-02T09:07:21.000000000',\n",
      "       '2020-12-04T08:57:25.000000000', '2020-12-07T09:07:20.000000000',\n",
      "       '2020-12-09T08:57:24.000000000', '2020-12-12T09:07:19.000000000',\n",
      "       '2020-12-14T08:57:24.000000000', '2020-12-17T09:07:20.000000000',\n",
      "       '2020-12-19T08:57:22.000000000', '2020-12-22T09:07:19.000000000',\n",
      "       '2020-12-24T08:57:26.000000000', '2020-12-27T09:07:22.000000000',\n",
      "       '2020-12-29T08:57:24.000000000'], dtype='datetime64[ns]')\n",
      "Coordinates:\n",
      "  * time         (time) datetime64[ns] 2020-10-03T09:07:26 ... 2020-12-29T08:...\n",
      "    spatial_ref  int32 32734\n",
      "Attributes:\n",
      "    units:    seconds since 1970-01-01 00:00:00\n"
     ]
    }
   ],
   "source": [
    "print(ds.time)\n",
    "# OR\n",
    "#ds.coords['time']"
   ]
  },
  {
   "cell_type": "markdown",
   "metadata": {},
   "source": [
    "* **To check attributes of the dataset**"
   ]
  },
  {
   "cell_type": "code",
   "execution_count": 7,
   "metadata": {},
   "outputs": [
    {
     "data": {
      "text/plain": [
       "{'crs': 'EPSG:32734', 'grid_mapping': 'spatial_ref'}"
      ]
     },
     "execution_count": 7,
     "metadata": {},
     "output_type": "execute_result"
    }
   ],
   "source": [
    "ds.attrs"
   ]
  },
  {
   "cell_type": "markdown",
   "metadata": {},
   "source": [
    "## **Subset Dataset / DataArray**\n",
    "\n",
    "* **To select all data of \"blue\" band**\n",
    "<br>\n",
    "<img src=https://live.staticflickr.com/65535/51115092614_366cb774a8_o.png, width=\"350\">"
   ]
  },
  {
   "cell_type": "code",
   "execution_count": 8,
   "metadata": {},
   "outputs": [
    {
     "name": "stdout",
     "output_type": "stream",
     "text": [
      "<xarray.DataArray 'blue' (time: 35, y: 82, x: 164)>\n",
      "array([[[ 817,  927,  879, ...,  677,  702,  698],\n",
      "        [ 799,  812,  792, ...,  673,  710,  703],\n",
      "        [ 739,  722,  750, ...,  661,  704,  658],\n",
      "        ...,\n",
      "        [ 738,  758,  841, ...,  722,  693,  727],\n",
      "        [ 731,  785,  864, ...,  768,  756,  745],\n",
      "        [ 767,  833,  842, ...,  829,  792,  771]],\n",
      "\n",
      "       [[ 815,  805,  821, ...,  673,  679,  691],\n",
      "        [ 802,  734,  741, ...,  626,  668,  676],\n",
      "        [ 794,  784,  711, ...,  601,  634,  638],\n",
      "        ...,\n",
      "        [ 772,  735,  808, ...,  792,  785,  749],\n",
      "        [ 789,  777,  858, ...,  846,  822,  778],\n",
      "        [ 765,  846,  875, ...,  810,  761,  764]],\n",
      "\n",
      "       [[ 976,  989, 1070, ...,  833,  797,  827],\n",
      "        [ 980,  943,  933, ...,  770,  776,  827],\n",
      "        [ 944,  901,  866, ...,  725,  782,  802],\n",
      "        ...,\n",
      "...\n",
      "        ...,\n",
      "        [1390, 1360, 1382, ..., 1106, 1086, 1064],\n",
      "        [1384, 1348, 1422, ..., 1094, 1104, 1092],\n",
      "        [1396, 1360, 1378, ..., 1178, 1160, 1088]],\n",
      "\n",
      "       [[ 944,  984, 1064, ...,  974,  910,  940],\n",
      "        [ 979,  886,  906, ...,  966,  948,  958],\n",
      "        [ 927,  869,  873, ...,  894,  901,  962],\n",
      "        ...,\n",
      "        [ 522,  511,  591, ..., 1012,  950,  929],\n",
      "        [ 512,  521,  591, ..., 1042,  976,  929],\n",
      "        [ 510,  564,  620, ..., 1038,  990,  932]],\n",
      "\n",
      "       [[5836, 5824, 5800, ..., 5540, 5516, 5568],\n",
      "        [5844, 5812, 5792, ..., 5436, 5400, 5484],\n",
      "        [5844, 5776, 5776, ..., 5400, 5360, 5440],\n",
      "        ...,\n",
      "        [5372, 5348, 5224, ..., 5936, 5976, 6044],\n",
      "        [5368, 5292, 5148, ..., 5960, 6032, 6044],\n",
      "        [5272, 5228, 5036, ..., 6032, 6068, 6040]]], dtype=int16)\n",
      "Coordinates:\n",
      "  * time         (time) datetime64[ns] 2020-10-03T09:07:26 ... 2020-12-29T08:...\n",
      "  * y            (y) float64 7.28e+06 7.28e+06 7.28e+06 ... 7.28e+06 7.28e+06\n",
      "  * x            (x) float64 1.751e+05 1.751e+05 ... 1.767e+05 1.768e+05\n",
      "    spatial_ref  int32 32734\n",
      "Attributes:\n",
      "    units:         reflectance\n",
      "    nodata:        0\n",
      "    crs:           EPSG:32734\n",
      "    grid_mapping:  spatial_ref\n"
     ]
    }
   ],
   "source": [
    "print(ds.blue)\n",
    "# OR\n",
    "#ds['blue']"
   ]
  },
  {
   "cell_type": "code",
   "execution_count": 9,
   "metadata": {},
   "outputs": [
    {
     "name": "stdout",
     "output_type": "stream",
     "text": [
      "[[[ 817  927  879 ...  677  702  698]\n",
      "  [ 799  812  792 ...  673  710  703]\n",
      "  [ 739  722  750 ...  661  704  658]\n",
      "  ...\n",
      "  [ 738  758  841 ...  722  693  727]\n",
      "  [ 731  785  864 ...  768  756  745]\n",
      "  [ 767  833  842 ...  829  792  771]]\n",
      "\n",
      " [[ 815  805  821 ...  673  679  691]\n",
      "  [ 802  734  741 ...  626  668  676]\n",
      "  [ 794  784  711 ...  601  634  638]\n",
      "  ...\n",
      "  [ 772  735  808 ...  792  785  749]\n",
      "  [ 789  777  858 ...  846  822  778]\n",
      "  [ 765  846  875 ...  810  761  764]]\n",
      "\n",
      " [[ 976  989 1070 ...  833  797  827]\n",
      "  [ 980  943  933 ...  770  776  827]\n",
      "  [ 944  901  866 ...  725  782  802]\n",
      "  ...\n",
      "  [ 951  860  935 ...  946  926  929]\n",
      "  [ 924  868  943 ...  985  970  940]\n",
      "  [ 924  935  996 ... 1038 1032  971]]\n",
      "\n",
      " ...\n",
      "\n",
      " [[1240 1256 1338 ... 1120 1122 1122]\n",
      "  [1254 1252 1284 ... 1092 1120 1120]\n",
      "  [1248 1234 1256 ... 1046 1110 1122]\n",
      "  ...\n",
      "  [1390 1360 1382 ... 1106 1086 1064]\n",
      "  [1384 1348 1422 ... 1094 1104 1092]\n",
      "  [1396 1360 1378 ... 1178 1160 1088]]\n",
      "\n",
      " [[ 944  984 1064 ...  974  910  940]\n",
      "  [ 979  886  906 ...  966  948  958]\n",
      "  [ 927  869  873 ...  894  901  962]\n",
      "  ...\n",
      "  [ 522  511  591 ... 1012  950  929]\n",
      "  [ 512  521  591 ... 1042  976  929]\n",
      "  [ 510  564  620 ... 1038  990  932]]\n",
      "\n",
      " [[5836 5824 5800 ... 5540 5516 5568]\n",
      "  [5844 5812 5792 ... 5436 5400 5484]\n",
      "  [5844 5776 5776 ... 5400 5360 5440]\n",
      "  ...\n",
      "  [5372 5348 5224 ... 5936 5976 6044]\n",
      "  [5368 5292 5148 ... 5960 6032 6044]\n",
      "  [5272 5228 5036 ... 6032 6068 6040]]]\n"
     ]
    }
   ],
   "source": [
    "# Only print pixel values\n",
    "print(ds.blue.values)"
   ]
  },
  {
   "cell_type": "markdown",
   "metadata": {},
   "source": [
    "* **To select blue band data at the first time stamp**\n",
    "<br>\n",
    "<img src=https://live.staticflickr.com/65535/51116131265_8464728bc1_o.png, width=\"350\">"
   ]
  },
  {
   "cell_type": "code",
   "execution_count": 10,
   "metadata": {},
   "outputs": [
    {
     "name": "stdout",
     "output_type": "stream",
     "text": [
      "<xarray.DataArray 'blue' (y: 82, x: 164)>\n",
      "array([[817, 927, 879, ..., 677, 702, 698],\n",
      "       [799, 812, 792, ..., 673, 710, 703],\n",
      "       [739, 722, 750, ..., 661, 704, 658],\n",
      "       ...,\n",
      "       [738, 758, 841, ..., 722, 693, 727],\n",
      "       [731, 785, 864, ..., 768, 756, 745],\n",
      "       [767, 833, 842, ..., 829, 792, 771]], dtype=int16)\n",
      "Coordinates:\n",
      "    time         datetime64[ns] 2020-10-03T09:07:26\n",
      "  * y            (y) float64 7.28e+06 7.28e+06 7.28e+06 ... 7.28e+06 7.28e+06\n",
      "  * x            (x) float64 1.751e+05 1.751e+05 ... 1.767e+05 1.768e+05\n",
      "    spatial_ref  int32 32734\n",
      "Attributes:\n",
      "    units:         reflectance\n",
      "    nodata:        0\n",
      "    crs:           EPSG:32734\n",
      "    grid_mapping:  spatial_ref\n"
     ]
    }
   ],
   "source": [
    "print(ds.blue[0])"
   ]
  },
  {
   "cell_type": "markdown",
   "metadata": {},
   "source": [
    "* **To select blue band data at the first time stamp while the latitude is the largest in the defined spatial extent**\n",
    "<img src=https://live.staticflickr.com/65535/51115337046_aeb75d0d03_o.png, width=\"350\">"
   ]
  },
  {
   "cell_type": "code",
   "execution_count": 11,
   "metadata": {},
   "outputs": [
    {
     "name": "stdout",
     "output_type": "stream",
     "text": [
      "<xarray.DataArray 'blue' (x: 164)>\n",
      "array([ 817,  927,  879,  696,  664,  657,  650,  718,  750,  797,  775,\n",
      "        810,  791,  781,  772,  757,  762,  779,  785,  814,  810,  856,\n",
      "        859,  822,  828,  866,  839,  775,  753,  783,  877,  905,  843,\n",
      "        843,  892,  871,  840,  886,  940,  905,  816,  785,  813,  822,\n",
      "        853,  818,  825,  898,  912,  929,  888,  951,  947,  921,  919,\n",
      "        919,  916,  935,  938,  908,  885,  887,  857,  893,  932,  833,\n",
      "        762,  769,  775,  798,  743,  694,  604,  741,  836,  831,  810,\n",
      "        779,  827,  883,  879,  836,  825,  841,  804,  783,  860,  876,\n",
      "        851,  934,  926,  905, 1012,  942, 1017, 1062, 1000, 1088, 1146,\n",
      "       1158, 1202, 1170, 1166, 1118, 1066, 1084, 1094, 1072, 1066,  974,\n",
      "        996,  971,  964, 1009, 1052, 1034,  884,  883,  850,  866, 1078,\n",
      "       1032,  921,  962,  907,  882,  854,  833,  777,  739,  749,  739,\n",
      "        710,  803,  752,  724,  736,  741,  685,  703,  724,  808,  886,\n",
      "        818,  837,  858,  918,  902,  827,  741,  756,  748,  760,  796,\n",
      "        892,  874,  877,  849,  717,  700,  720,  677,  702,  698],\n",
      "      dtype=int16)\n",
      "Coordinates:\n",
      "    time         datetime64[ns] 2020-10-03T09:07:26\n",
      "    y            float64 7.28e+06\n",
      "  * x            (x) float64 1.751e+05 1.751e+05 ... 1.767e+05 1.768e+05\n",
      "    spatial_ref  int32 32734\n",
      "Attributes:\n",
      "    units:         reflectance\n",
      "    nodata:        0\n",
      "    crs:           EPSG:32734\n",
      "    grid_mapping:  spatial_ref\n"
     ]
    }
   ],
   "source": [
    "print(ds.blue[0][0])"
   ]
  },
  {
   "cell_type": "markdown",
   "metadata": {},
   "source": [
    "* **To select the upper-left corner pixel**\n",
    "<br>\n",
    "<img src=https://live.staticflickr.com/65535/51116131235_b0cca9589f_o.png, width=\"350\">"
   ]
  },
  {
   "cell_type": "code",
   "execution_count": 12,
   "metadata": {},
   "outputs": [
    {
     "name": "stdout",
     "output_type": "stream",
     "text": [
      "<xarray.DataArray 'blue' ()>\n",
      "array(817, dtype=int16)\n",
      "Coordinates:\n",
      "    time         datetime64[ns] 2020-10-03T09:07:26\n",
      "    y            float64 7.28e+06\n",
      "    x            float64 1.751e+05\n",
      "    spatial_ref  int32 32734\n",
      "Attributes:\n",
      "    units:         reflectance\n",
      "    nodata:        0\n",
      "    crs:           EPSG:32734\n",
      "    grid_mapping:  spatial_ref\n"
     ]
    }
   ],
   "source": [
    "print(ds.blue[0][0][0])"
   ]
  },
  {
   "cell_type": "markdown",
   "metadata": {},
   "source": [
    "### **subset dataset with `isel` vs. `sel`**\n",
    "* Use `isel` when subsetting with **index**\n",
    "* Use `sel` when subsetting with **labels**"
   ]
  },
  {
   "cell_type": "markdown",
   "metadata": {},
   "source": [
    "* **To select data of all spectral bands at the first time stamp**\n",
    "<br>\n",
    "<img src=https://live.staticflickr.com/65535/51114879732_7d62db54f4_o.png, width=\"750\">"
   ]
  },
  {
   "cell_type": "code",
   "execution_count": 13,
   "metadata": {},
   "outputs": [
    {
     "name": "stdout",
     "output_type": "stream",
     "text": [
      "<xarray.Dataset>\n",
      "Dimensions:      (time: 1, x: 164, y: 82)\n",
      "Coordinates:\n",
      "  * time         (time) datetime64[ns] 2020-10-03T09:07:26\n",
      "  * y            (y) float64 7.28e+06 7.28e+06 7.28e+06 ... 7.28e+06 7.28e+06\n",
      "  * x            (x) float64 1.751e+05 1.751e+05 ... 1.767e+05 1.768e+05\n",
      "    spatial_ref  int32 32734\n",
      "Data variables:\n",
      "    blue         (time, y, x) int16 817 927 879 696 664 ... 860 804 829 792 771\n",
      "    green        (time, y, x) int16 1112 1284 1132 1023 ... 1144 1160 1092 1044\n",
      "    red          (time, y, x) int16 1636 1802 1650 1500 ... 1696 1708 1648 1610\n",
      "Attributes:\n",
      "    crs:           EPSG:32734\n",
      "    grid_mapping:  spatial_ref\n"
     ]
    }
   ],
   "source": [
    "print(ds.isel(time=[0]))"
   ]
  },
  {
   "cell_type": "markdown",
   "metadata": {},
   "source": [
    "* **To select data of all spectral bands of year 2020** \n",
    "<br>\n",
    "<img src=https://live.staticflickr.com/65535/51116281070_75f1b46a9c_o.png, width=\"750\">"
   ]
  },
  {
   "cell_type": "code",
   "execution_count": 15,
   "metadata": {},
   "outputs": [
    {
     "name": "stdout",
     "output_type": "stream",
     "text": [
      "<xarray.Dataset>\n",
      "Dimensions:      (time: 12, x: 164, y: 82)\n",
      "Coordinates:\n",
      "  * time         (time) datetime64[ns] 2020-12-02T09:07:21 ... 2020-12-29T08:...\n",
      "  * y            (y) float64 7.28e+06 7.28e+06 7.28e+06 ... 7.28e+06 7.28e+06\n",
      "  * x            (x) float64 1.751e+05 1.751e+05 ... 1.767e+05 1.768e+05\n",
      "    spatial_ref  int32 32734\n",
      "Data variables:\n",
      "    blue         (time, y, x) int16 867 948 949 807 755 ... 5928 6032 6068 6040\n",
      "    green        (time, y, x) int16 1154 1250 1204 1098 ... 5576 5600 5576 5628\n",
      "    red          (time, y, x) int16 1648 1736 1682 1578 ... 5372 5328 5312 5348\n",
      "Attributes:\n",
      "    crs:           EPSG:32734\n",
      "    grid_mapping:  spatial_ref\n"
     ]
    }
   ],
   "source": [
    "print(ds.sel(time='2020-12'))\n",
    "#print(ds.sel(time='2019'))"
   ]
  },
  {
   "cell_type": "markdown",
   "metadata": {},
   "source": [
    "***Tip: More about indexing and sebsetting Dataset or DataArray is presented in the [Notebook_05](https://github.com/eo2cube/eo2cube_notebooks/blob/main/get_started/intro_to_eo2cube/05_xarrayII.ipynb).***"
   ]
  },
  {
   "cell_type": "markdown",
   "metadata": {},
   "source": [
    "## **Reshape Dataset**\n",
    "\n",
    "* **Convert the Dataset (subset to 2019) to a *4-dimension* DataArray**"
   ]
  },
  {
   "cell_type": "code",
   "execution_count": 19,
   "metadata": {},
   "outputs": [
    {
     "name": "stdout",
     "output_type": "stream",
     "text": [
      "<xarray.DataArray (band: 3, time: 12, y: 82, x: 164)>\n",
      "array([[[[ 867,  948,  949, ...,  767,  758,  775],\n",
      "         [ 871,  840,  857, ...,  772,  789,  778],\n",
      "         [ 816,  792,  819, ...,  726,  771,  743],\n",
      "         ...,\n",
      "         [ 846,  864,  855, ...,  788,  760,  794],\n",
      "         [ 816,  847,  888, ...,  833,  822,  797],\n",
      "         [ 851,  898,  916, ...,  861,  846,  846]],\n",
      "\n",
      "        [[1116, 1158, 1230, ...,  919,  899,  936],\n",
      "         [1130, 1036, 1036, ...,  867,  919,  931],\n",
      "         [1080, 1005,  999, ...,  846,  872,  848],\n",
      "         ...,\n",
      "         [1050, 1026, 1056, ...,  989,  951,  961],\n",
      "         [1046, 1054, 1108, ..., 1076, 1060, 1007],\n",
      "         [1042, 1088, 1130, ..., 1100, 1068, 1013]],\n",
      "\n",
      "        [[ 882,  868,  871, ...,  736,  725,  734],\n",
      "         [ 845,  760,  768, ...,  714,  749,  714],\n",
      "         [ 822,  807,  756, ...,  673,  693,  662],\n",
      "         ...,\n",
      "...\n",
      "         ...,\n",
      "         [1954, 1922, 2010, ..., 1998, 1972, 1942],\n",
      "         [1964, 1968, 2060, ..., 2004, 1998, 1972],\n",
      "         [1966, 1982, 2048, ..., 2070, 2048, 1958]],\n",
      "\n",
      "        [[1796, 1802, 1904, ..., 1802, 1840, 1770],\n",
      "         [1784, 1624, 1704, ..., 1766, 1836, 1802],\n",
      "         [1782, 1640, 1682, ..., 1738, 1816, 1794],\n",
      "         ...,\n",
      "         [ 946,  988, 1118, ..., 1678, 1690, 1656],\n",
      "         [ 941, 1005, 1124, ..., 1750, 1752, 1692],\n",
      "         [ 945, 1018, 1114, ..., 1830, 1788, 1708]],\n",
      "\n",
      "        [[5240, 5296, 5268, ..., 5084, 5072, 5048],\n",
      "         [5240, 5248, 5248, ..., 5064, 5092, 5064],\n",
      "         [5224, 5248, 5284, ..., 5036, 5060, 5044],\n",
      "         ...,\n",
      "         [4728, 4804, 4840, ..., 5360, 5376, 5416],\n",
      "         [4776, 4848, 4840, ..., 5360, 5372, 5384],\n",
      "         [4852, 4920, 4868, ..., 5328, 5312, 5348]]]], dtype=int16)\n",
      "Coordinates:\n",
      "  * time         (time) datetime64[ns] 2020-12-02T09:07:21 ... 2020-12-29T08:...\n",
      "  * y            (y) float64 7.28e+06 7.28e+06 7.28e+06 ... 7.28e+06 7.28e+06\n",
      "  * x            (x) float64 1.751e+05 1.751e+05 ... 1.767e+05 1.768e+05\n",
      "    spatial_ref  int32 32734\n",
      "  * band         (band) <U5 'blue' 'green' 'red'\n",
      "Attributes:\n",
      "    crs:           EPSG:32734\n",
      "    grid_mapping:  spatial_ref\n"
     ]
    }
   ],
   "source": [
    "da = ds.sel(time='2020-12').to_array().rename({\"variable\":\"band\"})\n",
    "print(da)"
   ]
  },
  {
   "cell_type": "markdown",
   "metadata": {},
   "source": [
    "* **Convert the *4-dimension* DataArray back to a Dataset by setting the \"time\" as DataVariable (reshaped)**\n",
    "\n",
    "![ds_reshaped](https://live.staticflickr.com/65535/51151694092_ca550152d6_o.png)"
   ]
  },
  {
   "cell_type": "code",
   "execution_count": 20,
   "metadata": {},
   "outputs": [
    {
     "name": "stdout",
     "output_type": "stream",
     "text": [
      "<xarray.Dataset>\n",
      "Dimensions:              (band: 3, x: 164, y: 82)\n",
      "Coordinates:\n",
      "  * y                    (y) float64 7.28e+06 7.28e+06 ... 7.28e+06 7.28e+06\n",
      "  * x                    (x) float64 1.751e+05 1.751e+05 ... 1.767e+05 1.768e+05\n",
      "    spatial_ref          int32 32734\n",
      "  * band                 (band) <U5 'blue' 'green' 'red'\n",
      "Data variables:\n",
      "    2020-12-02 09:07:21  (band, y, x) int16 867 948 949 807 ... 1776 1698 1636\n",
      "    2020-12-04 08:57:25  (band, y, x) int16 1116 1158 1230 ... 2138 2126 2064\n",
      "    2020-12-07 09:07:20  (band, y, x) int16 882 868 871 747 ... 1770 1734 1654\n",
      "    2020-12-09 08:57:24  (band, y, x) int16 1210 1328 1310 ... 2136 2078 2020\n",
      "    2020-12-12 09:07:19  (band, y, x) int16 877 973 901 748 ... 1768 1694 1648\n",
      "    2020-12-14 08:57:24  (band, y, x) int16 1084 1172 1114 ... 2160 2088 2018\n",
      "    2020-12-17 09:07:20  (band, y, x) int16 860 878 889 816 ... 1792 1738 1668\n",
      "    2020-12-19 08:57:22  (band, y, x) int16 1234 1290 1382 ... 2156 2104 2026\n",
      "    2020-12-22 09:07:19  (band, y, x) int16 8592 8664 8560 ... 6332 6364 6284\n",
      "    2020-12-24 08:57:26  (band, y, x) int16 1240 1256 1338 ... 2070 2048 1958\n",
      "    2020-12-27 09:07:22  (band, y, x) int16 944 984 1064 926 ... 1830 1788 1708\n",
      "    2020-12-29 08:57:24  (band, y, x) int16 5836 5824 5800 ... 5328 5312 5348\n",
      "Attributes:\n",
      "    crs:           EPSG:32734\n",
      "    grid_mapping:  spatial_ref\n"
     ]
    }
   ],
   "source": [
    "ds_reshp = da.to_dataset(dim=\"time\")\n",
    "print(ds_reshp)"
   ]
  },
  {
   "cell_type": "markdown",
   "metadata": {},
   "source": [
    "## Recommended next steps\n",
    "\n",
    "If you now understand the **data structure** of `xarray.dataset` and **basic indexing** methods illustrated in this notebook, you are ready to move on to the next notebook where you will learn more about **advanced indexing** and calculating some **basic statistical parameters** of the n-dimensional arrays!:D\n",
    "\n",
    "In case you are gaining interest in exploring the world of **xarrays**, you may lay yourself into the [Xarray user guide](http://xarray.pydata.org/en/stable/index.html).\n",
    "\n",
    "<br>\n",
    "To continue working through the notebooks in this beginner's guide, the following notebooks are designed to be worked through in the following order:\n",
    "\n",
    "1. [Jupyter Notebooks](https://github.com/eo2cube/eo2cube_notebooks/blob/main/get_started/intro_to_eo2cube/01_jupyter_introduction.ipynb)\n",
    "2. [eo2cube](https://github.com/eo2cube/eo2cube_notebooks/blob/main/get_started/intro_to_eo2cube/02_eo2cube_introduction.ipynb)\n",
    "3. [Loading Data](https://github.com/eo2cube/eo2cube_notebooks/blob/main/get_started/intro_to_eo2cube/03_data_lookup_and_loading.ipynb)\n",
    "4. ***Xarray I: Data Structure (this notebook)***\n",
    "5. [Xarray II: Index and Statistics](https://github.com/eo2cube/eo2cube_notebooks/blob/main/get_started/intro_to_eo2cube/05_xarrayII.ipynb)\n",
    "6. [Plotting data](https://github.com/eo2cube/eo2cube_notebooks/blob/main/get_started/intro_to_eo2cube/06_plotting_basics.ipynb)\n",
    "7. [Spatial analysis](https://github.com/eo2cube/eo2cube_notebooks/blob/main/get_started/intro_to_eo2cube/07_basic_analysis.ipynb)\n",
    "8. [Parallel processing with Dask](https://github.com/eo2cube/eo2cube_notebooks/blob/main/get_started/intro_to_eo2cube/08_parallel_processing_with_dask.ipynb)\n",
    "\n",
    "The additional notebooks are designed for users to build up both basic and advanced skills which are not covered by the beginner's guide. Self-motivated users can go through them according to their own needs. They act as complements for the guide:\n",
    "<br>\n",
    "\n",
    "1. [Python's file management tools](https://github.com/eo2cube/eo2cube_notebooks/blob/main/get_started/intro_to_eo2cube/I_file_management.ipynb)\n",
    "2. [Image Processing basics using NumPy and Matplotlib](https://github.com/eo2cube/eo2cube_notebooks/blob/main/get_started/intro_to_eo2cube/II_numpy_image_processing.ipynb)\n",
    "3. [Vector Processing](https://github.com/eo2cube/eo2cube_notebooks/blob/main/get_started/intro_to_eo2cube/III_process_vector_data.ipynb)\n",
    "4. [Advanced Plotting](https://github.com/eo2cube/eo2cube_notebooks/blob/main/get_started/intro_to_eo2cube/IV_advanced_plotting.ipynb)"
   ]
  },
  {
   "cell_type": "markdown",
   "metadata": {},
   "source": [
    "***\n",
    "## Additional information\n",
    "\n",
    "This notebook is for the usage of Jupyter Notebook of the [Department of Remote Sensing](http://remote-sensing.org/), [University of Wuerzburg](https://www.uni-wuerzburg.de/startseite/).\n",
    "\n",
    "**License:** The code in this notebook is licensed under the [Apache License, Version 2.0](https://www.apache.org/licenses/LICENSE-2.0). \n",
    "\n",
    "\n",
    "**Contact:** If you would like to report an issue with this notebook, you can file one on [Github](https://github.com).\n",
    "\n",
    "**Last modified:** April 2021"
   ]
  }
 ],
 "metadata": {
  "kernelspec": {
   "display_name": "Python 3",
   "language": "python",
   "name": "python3"
  },
  "language_info": {
   "codemirror_mode": {
    "name": "ipython",
    "version": 3
   },
   "file_extension": ".py",
   "mimetype": "text/x-python",
   "name": "python",
   "nbconvert_exporter": "python",
   "pygments_lexer": "ipython3",
   "version": "3.8.8"
  }
 },
 "nbformat": 4,
 "nbformat_minor": 4
}

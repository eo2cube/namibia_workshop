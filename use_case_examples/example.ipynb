{
 "cells": [
  {
   "cell_type": "markdown",
   "id": "c1a713fd",
   "metadata": {},
   "source": [
    " <img src=\"https://datacube.remote-sensing.org/wp-content/uploads/2021/03/cube_namibia.png\" align=\"left\" width='70' alt=\"sa_logo\">\n",
    "          <img src=\"https://datacube.remote-sensing.org/wp-content/uploads/2021/02/ci_logo_navbar.png\" align=\"right\" width='180' alt=\"eo_logo\">"
   ]
  },
  {
   "cell_type": "markdown",
   "id": "aed63bd4",
   "metadata": {},
   "source": [
    "# NSA Data Cube Workshop"
   ]
  },
  {
   "cell_type": "code",
   "execution_count": null,
   "id": "322de879",
   "metadata": {},
   "outputs": [],
   "source": [
    "import datacube\n",
    "\n",
    "import geopandas as gpd\n",
    "from odc.ui import with_ui_cbk\n",
    "import xarray as xr\n",
    "import seaborn as sns\n",
    "from eo2cube_tools import plot\n",
    "import pandas as pd\n",
    "from dea_tools.plotting  import display_map, rgb\n",
    "from eo2cube_tools.spectralindices import spectralindices"
   ]
  },
  {
   "cell_type": "markdown",
   "id": "cc94332e",
   "metadata": {},
   "source": [
    "## Connect to datacube"
   ]
  },
  {
   "cell_type": "code",
   "execution_count": null,
   "id": "8083fa14",
   "metadata": {},
   "outputs": [],
   "source": [
    "dc = datacube.Datacube(app = 'nsa')\n",
    "dc"
   ]
  },
  {
   "cell_type": "markdown",
   "id": "28199581",
   "metadata": {},
   "source": [
    "### Browse the available Data Cubes"
   ]
  },
  {
   "cell_type": "code",
   "execution_count": null,
   "id": "6298b90c",
   "metadata": {},
   "outputs": [],
   "source": [
    "list_of_products = dc.list_products()\n",
    "\n",
    "netCDF_products = list_of_products[list_of_products['format'] == 'NetCDF']\n",
    "\n",
    "netCDF_products"
   ]
  },
  {
   "cell_type": "markdown",
   "id": "9e94b0b7",
   "metadata": {},
   "source": [
    "### Datacube Measurements"
   ]
  },
  {
   "cell_type": "code",
   "execution_count": null,
   "id": "fd3d2348",
   "metadata": {},
   "outputs": [],
   "source": [
    "dc.list_measurements()"
   ]
  },
  {
   "cell_type": "markdown",
   "id": "f904a8eb",
   "metadata": {},
   "source": [
    "# Working with Sentinel-2"
   ]
  },
  {
   "cell_type": "markdown",
   "id": "9e25fec4",
   "metadata": {},
   "source": [
    "### Inspecting data"
   ]
  },
  {
   "cell_type": "code",
   "execution_count": null,
   "id": "0feb5987",
   "metadata": {},
   "outputs": [],
   "source": [
    "gdf = gpd.read_file('example_data/walvis_bay.shp')\n",
    "plot.map_polygon(gdf)"
   ]
  },
  {
   "cell_type": "code",
   "execution_count": null,
   "id": "73b50157",
   "metadata": {},
   "outputs": [],
   "source": [
    "longitude_extents = (gdf.total_bounds[0] , gdf.total_bounds[2] )\n",
    "latitude_extents  = (gdf.total_bounds[1] , gdf.total_bounds[3] )"
   ]
  },
  {
   "cell_type": "code",
   "execution_count": null,
   "id": "12c6b8db",
   "metadata": {},
   "outputs": [],
   "source": [
    "# select time period\n",
    "time_extents=('2020-02-01', '2020-02-06')\n",
    "\n",
    "# select platform\n",
    "platform = \"SENTINEL_2\"\n",
    "\n",
    "# select product\n",
    "product = \"s2_l2a_namibia\"\n",
    "\n",
    "dataset = dc.load(latitude = latitude_extents,\n",
    "                             longitude = longitude_extents,\n",
    "                             time = time_extents,\n",
    "                             platform =platform,\n",
    "                             skip_broken_datasets=True,\n",
    "                             measurements = ['red','green','blue', 'nir', 'scl'],\n",
    "                             product = product,\n",
    "                             group_by = \"solar_day\",\n",
    "                             progress_cbk=with_ui_cbk()) "
   ]
  },
  {
   "cell_type": "code",
   "execution_count": null,
   "id": "77ade089",
   "metadata": {},
   "outputs": [],
   "source": [
    "rgb(dataset.isel(time=[0]), bands=['red', 'green', 'blue'], col=\"time\")"
   ]
  },
  {
   "cell_type": "markdown",
   "id": "5143a966",
   "metadata": {},
   "source": [
    "### Manipulating data"
   ]
  },
  {
   "cell_type": "code",
   "execution_count": null,
   "id": "f19c3afa",
   "metadata": {},
   "outputs": [],
   "source": [
    "gdf = gpd.read_file('example_data/windhoek.shp')\n",
    "plot.map_polygon(gdf)"
   ]
  },
  {
   "cell_type": "code",
   "execution_count": null,
   "id": "345ec36b",
   "metadata": {},
   "outputs": [],
   "source": [
    "longitude_extents = (gdf.total_bounds[0] , gdf.total_bounds[2] )\n",
    "latitude_extents  = (gdf.total_bounds[1] , gdf.total_bounds[3] )\n",
    "\n",
    "# select time period\n",
    "time_extents=('2020-02-01', '2020-04-29')\n",
    "\n",
    "# select platform\n",
    "platform = \"SENTINEL_2\"\n",
    "\n",
    "# select product\n",
    "product = \"s2_l2a_namibia\"\n",
    "\n",
    "dataset = dc.load(latitude = latitude_extents,\n",
    "                             longitude = longitude_extents,\n",
    "                             time = time_extents,\n",
    "                             platform =platform,\n",
    "                             skip_broken_datasets=True,\n",
    "                             measurements = ['red','green','blue', 'nir', 'scl','swir1','swir2'],\n",
    "                             product = product,\n",
    "                             group_by = \"solar_day\",\n",
    "                             progress_cbk=with_ui_cbk()) "
   ]
  },
  {
   "cell_type": "code",
   "execution_count": null,
   "id": "263c7a29",
   "metadata": {},
   "outputs": [],
   "source": [
    "mean = dataset.mean(dim=['x','y'])\n",
    "dataset = dataset.sel(time = pd.to_datetime(mean.time.where(mean['red'] !=0, drop=True).values.tolist()))"
   ]
  },
  {
   "cell_type": "markdown",
   "id": "cb77436a",
   "metadata": {},
   "source": [
    "## Inspect dataset"
   ]
  },
  {
   "cell_type": "code",
   "execution_count": null,
   "id": "0e99e6bf",
   "metadata": {},
   "outputs": [],
   "source": [
    "dataset"
   ]
  },
  {
   "cell_type": "code",
   "execution_count": null,
   "id": "994e4a52",
   "metadata": {},
   "outputs": [],
   "source": [
    "dataset.nir"
   ]
  },
  {
   "cell_type": "code",
   "execution_count": null,
   "id": "cde336c8",
   "metadata": {},
   "outputs": [],
   "source": [
    "dataset.isel(time =7)"
   ]
  },
  {
   "cell_type": "code",
   "execution_count": null,
   "id": "4f2b3ff4",
   "metadata": {},
   "outputs": [],
   "source": [
    "dataset.isel(time=1).red.mean()"
   ]
  },
  {
   "cell_type": "code",
   "execution_count": null,
   "id": "3a9f4edf",
   "metadata": {},
   "outputs": [],
   "source": [
    "dataset.isel(time=[0,1,2])"
   ]
  },
  {
   "cell_type": "code",
   "execution_count": null,
   "id": "954ebd4f",
   "metadata": {},
   "outputs": [],
   "source": [
    "dataset.sel(time=slice(\"2020-02-08\",\"2020-02-25\"))"
   ]
  },
  {
   "cell_type": "markdown",
   "id": "d00794a5",
   "metadata": {},
   "source": [
    "## Plotting"
   ]
  },
  {
   "cell_type": "code",
   "execution_count": null,
   "id": "70e94f79",
   "metadata": {},
   "outputs": [],
   "source": [
    "dataset.nir.isel(time=7).plot(figsize=(12,9), cmap='Greys')"
   ]
  },
  {
   "cell_type": "code",
   "execution_count": null,
   "id": "52cef591",
   "metadata": {},
   "outputs": [],
   "source": [
    "dataset.red.isel(time=[1,3,5]).plot(col=\"time\", figsize=(17,5))"
   ]
  },
  {
   "cell_type": "code",
   "execution_count": null,
   "id": "e3f382c6",
   "metadata": {},
   "outputs": [],
   "source": [
    "dataset.red.isel(time=[2,3]).plot(col=\"time\", robust = True ,cmap ='magma', col_wrap = 2, figsize = (10,5))"
   ]
  },
  {
   "cell_type": "code",
   "execution_count": null,
   "id": "620fb6d1",
   "metadata": {},
   "outputs": [],
   "source": [
    "from eo2cube_tools.plot import plot_band\n",
    "\n",
    "plot_band(dataset)"
   ]
  },
  {
   "cell_type": "code",
   "execution_count": null,
   "id": "410e0908",
   "metadata": {},
   "outputs": [],
   "source": [
    "rgb(dataset.isel(time=[2]), bands=['red', 'green', 'blue'], col=\"time\")"
   ]
  },
  {
   "cell_type": "code",
   "execution_count": null,
   "id": "0dea979f",
   "metadata": {},
   "outputs": [],
   "source": [
    "rgb(dataset.isel(time=[2]), bands=['swir1', 'blue', 'green'], col=\"time\")"
   ]
  },
  {
   "cell_type": "code",
   "execution_count": null,
   "id": "718d15b4",
   "metadata": {},
   "outputs": [],
   "source": [
    "from eo2cube_tools.plot import plot_rgb\n",
    "\n",
    "plot_rgb(dataset)"
   ]
  },
  {
   "cell_type": "code",
   "execution_count": null,
   "id": "0e9df5fb",
   "metadata": {},
   "outputs": [],
   "source": [
    "from dea_tools.plotting import xr_animation\n",
    "\n",
    "# Produce time series animation of red, green and blue bands\n",
    "xr_animation(ds=dataset, \n",
    "             bands=['red', 'green', 'blue'],\n",
    "             output_path='animated_timeseries.gif',                                \n",
    "             interval=800, \n",
    "             width_pixels=300)\n",
    "\n",
    "# Plot animated gif\n",
    "plt.close()"
   ]
  },
  {
   "cell_type": "code",
   "execution_count": null,
   "id": "2a5cd4c3",
   "metadata": {},
   "outputs": [],
   "source": [
    "from IPython.display import Image\n",
    "\n",
    "Image(filename='animated_timeseries.gif')"
   ]
  },
  {
   "cell_type": "markdown",
   "id": "68c9bf8d",
   "metadata": {},
   "source": [
    "## Simple band math"
   ]
  },
  {
   "cell_type": "code",
   "execution_count": null,
   "id": "1ef4acdb",
   "metadata": {},
   "outputs": [],
   "source": [
    "#Calculate NDVI\n",
    "ndvi = (dataset.nir - dataset.red)/(dataset.nir + dataset.red)\n",
    "ndvi"
   ]
  },
  {
   "cell_type": "code",
   "execution_count": null,
   "id": "1ac88cda",
   "metadata": {},
   "outputs": [],
   "source": [
    "dataset['NDVI'] = ndvi\n",
    "dataset"
   ]
  },
  {
   "cell_type": "code",
   "execution_count": null,
   "id": "e3fac168",
   "metadata": {},
   "outputs": [],
   "source": [
    "dataset.NDVI.isel(time= 6).plot(cmap = 'Greens', figsize = (10,7))"
   ]
  },
  {
   "cell_type": "code",
   "execution_count": null,
   "id": "92a052e0",
   "metadata": {},
   "outputs": [],
   "source": [
    "dataset = spectralindices(dataset, indices=['EVI','NDWI', 'LAI','NBR'])"
   ]
  },
  {
   "cell_type": "code",
   "execution_count": null,
   "id": "cab41a0a",
   "metadata": {},
   "outputs": [],
   "source": [
    "dataset.NBR.isel(time= 2).plot(cmap = 'Blues', figsize = (10,7))"
   ]
  },
  {
   "cell_type": "code",
   "execution_count": null,
   "id": "39b4d69b",
   "metadata": {},
   "outputs": [],
   "source": [
    "mean = dataset.NDVI.mean(dim=['x','y'])\n",
    "mean.plot()"
   ]
  },
  {
   "cell_type": "markdown",
   "id": "617d8285",
   "metadata": {},
   "source": [
    "## Cloud removal using the SCL-Band"
   ]
  },
  {
   "cell_type": "code",
   "execution_count": null,
   "id": "515f74e4",
   "metadata": {},
   "outputs": [],
   "source": [
    "rgb(dataset, bands=['red', 'green', 'blue'], index = [0,4], percentile_stretch = [0.05, 0.95])"
   ]
  },
  {
   "cell_type": "code",
   "execution_count": null,
   "id": "0d7d4a4c",
   "metadata": {},
   "outputs": [],
   "source": [
    "dataset.scl.flags_definition"
   ]
  },
  {
   "cell_type": "code",
   "execution_count": null,
   "id": "1d4cc2be",
   "metadata": {},
   "outputs": [],
   "source": [
    "dataset.scl.isel(time=[0,4]).plot(col=\"time\", figsize=(10,8))"
   ]
  },
  {
   "cell_type": "code",
   "execution_count": null,
   "id": "356c5eb6",
   "metadata": {},
   "outputs": [],
   "source": [
    "def mask(dataset): #input options: low - filter out cloud of high probability only (default); high - filter out cloud of high and medium probability\n",
    "    cloud_free = dataset.where((dataset.scl != 9) & (dataset.scl != 3))\n",
    "    new_ds = cloud_free.where((dataset.blue < 12000) & (dataset.red < 12000) & (dataset.green < 12000)) #pixels of good quality\n",
    "    return new_ds\n",
    "\n",
    "ds_nc = mask(dataset)\n",
    "ds_nc"
   ]
  },
  {
   "cell_type": "code",
   "execution_count": null,
   "id": "88420c2a",
   "metadata": {},
   "outputs": [],
   "source": [
    "rgb(ds_nc, bands=['red', 'green', 'blue'], index = [0,4])"
   ]
  },
  {
   "cell_type": "markdown",
   "id": "c4e929e3",
   "metadata": {},
   "source": [
    "## Creating composites"
   ]
  },
  {
   "cell_type": "code",
   "execution_count": null,
   "id": "a11de621",
   "metadata": {},
   "outputs": [],
   "source": [
    "timesteps = [0, 1, 2, 3, 4, 5]\n",
    "rgb(dataset,bands=['red', 'green', 'blue'], index=timesteps)"
   ]
  },
  {
   "cell_type": "code",
   "execution_count": null,
   "id": "7a6b9eee",
   "metadata": {},
   "outputs": [],
   "source": [
    "ds_median = ds_nc.median('time')\n",
    "rgb(ds_median, bands=['red', 'green', 'blue'])"
   ]
  },
  {
   "cell_type": "code",
   "execution_count": null,
   "id": "64450a5a",
   "metadata": {},
   "outputs": [],
   "source": [
    "ds_resampled_median = ds_nc.resample(time='1M').median('time')\n",
    "rgb(ds_resampled_median, bands=['red', 'green', 'blue'], col='time')"
   ]
  },
  {
   "cell_type": "code",
   "execution_count": null,
   "id": "24fa2c1e",
   "metadata": {},
   "outputs": [],
   "source": [
    "ds_max = ds_nc.NDVI.max('time')\n",
    "\n",
    "# View the resulting composite\n",
    "ds_max.plot(vmin=-1, vmax=1, cmap='RdYlGn', figsize=(10,7));"
   ]
  },
  {
   "cell_type": "markdown",
   "id": "cad75b15",
   "metadata": {},
   "source": [
    "### Example 1: Phenology"
   ]
  },
  {
   "cell_type": "code",
   "execution_count": null,
   "id": "1cfc7cb6",
   "metadata": {},
   "outputs": [],
   "source": [
    "gdf = gpd.read_file('example_data/example2.shp')\n",
    "plot.map_polygon(gdf)"
   ]
  },
  {
   "cell_type": "code",
   "execution_count": null,
   "id": "cfdc038e",
   "metadata": {},
   "outputs": [],
   "source": [
    "longitude_extents = (gdf.total_bounds[0] , gdf.total_bounds[2] )\n",
    "latitude_extents  = (gdf.total_bounds[1] , gdf.total_bounds[3] )\n",
    "\n",
    "# select time period\n",
    "time_extents=('2020-01-01', '2020-12-29')\n",
    "\n",
    "# select platform\n",
    "platform = \"SENTINEL_2\"\n",
    "\n",
    "# select product\n",
    "product = \"s2_l2a_namibia\"\n",
    "\n",
    "dataset = dc.load(latitude = latitude_extents,\n",
    "                             longitude = longitude_extents,\n",
    "                             time = time_extents,\n",
    "                             platform =platform,\n",
    "                             skip_broken_datasets=True,\n",
    "                             measurements = ['red','green','blue', 'nir', 'scl'],\n",
    "                             product = product,\n",
    "                             group_by = \"solar_day\",\n",
    "                             progress_cbk=with_ui_cbk()) "
   ]
  },
  {
   "cell_type": "code",
   "execution_count": null,
   "id": "23aaa806",
   "metadata": {},
   "outputs": [],
   "source": [
    "mean = dataset.mean(dim=['x','y'])\n",
    "dataset = dataset.sel(time = pd.to_datetime(mean.time.where(mean['red'] !=0, drop=True).values.tolist()))\n",
    "dataset"
   ]
  },
  {
   "cell_type": "code",
   "execution_count": null,
   "id": "743cb2ee",
   "metadata": {},
   "outputs": [],
   "source": [
    "timesteps = [0, 10, 20, 30, 40, 50]\n",
    "rgb(dataset,bands=['red', 'green', 'blue'], index=timesteps)"
   ]
  },
  {
   "cell_type": "code",
   "execution_count": null,
   "id": "d7f9ff58",
   "metadata": {},
   "outputs": [],
   "source": [
    "def mask(dataset): #input options: low - filter out cloud of high probability only (default); high - filter out cloud of high and medium probability\n",
    "    cloud_free = dataset.where((dataset.scl != 9) & (dataset.scl != 3) & (dataset.scl != 8) &  (dataset.scl != 10))\n",
    "    #new_ds = cloud_free.where((dataset.blue < 12000) & (dataset.red < 12000) & (dataset.green < 12000)) #pixels of good quality\n",
    "    return cloud_free\n",
    "\n",
    "ds_nc = mask(dataset)"
   ]
  },
  {
   "cell_type": "code",
   "execution_count": null,
   "id": "f8253ddc",
   "metadata": {},
   "outputs": [],
   "source": [
    "spectralindices(ds_nc ,indices=[\"NDVI\", \"EVI\",\"SAVI\"], norm=True, drop=False)"
   ]
  },
  {
   "cell_type": "code",
   "execution_count": null,
   "id": "8360f768",
   "metadata": {},
   "outputs": [],
   "source": [
    "ds_nc.NDVI.isel(time=[10,20,30,40,50]).plot(col=\"time\")"
   ]
  },
  {
   "cell_type": "code",
   "execution_count": null,
   "id": "e43f2a30",
   "metadata": {},
   "outputs": [],
   "source": [
    "ds_nc.NDVI.mean(['x', 'y']).plot.line('b-^', figsize=(11,4))\n",
    "\n",
    "plt.title('Zonal mean of vegetation timeseries');"
   ]
  },
  {
   "cell_type": "code",
   "execution_count": null,
   "id": "610cc4bd",
   "metadata": {},
   "outputs": [],
   "source": [
    "ds_nc.red.isel(time=[60]).plot()"
   ]
  },
  {
   "cell_type": "code",
   "execution_count": null,
   "id": "1ea1f7c7",
   "metadata": {},
   "outputs": [],
   "source": [
    "from dea_tools.spatial import xr_rasterize\n",
    "\n",
    "mask = xr_rasterize(gdf, ds_nc.NDVI)\n",
    "data_masked = ds_nc.where(mask)\n",
    "data_masked"
   ]
  },
  {
   "cell_type": "code",
   "execution_count": null,
   "id": "1075bd12",
   "metadata": {},
   "outputs": [],
   "source": [
    "rgb(data_masked, bands=['red', 'green', 'blue'], index = [8,9,10,11])"
   ]
  },
  {
   "cell_type": "code",
   "execution_count": null,
   "id": "d697cafe",
   "metadata": {},
   "outputs": [],
   "source": [
    "mask = xr_rasterize(gdf.iloc[[6]], ds_nc.NDVI)\n",
    "field = ds_nc.where(mask)\n",
    "field"
   ]
  },
  {
   "cell_type": "code",
   "execution_count": null,
   "id": "ee06decf",
   "metadata": {},
   "outputs": [],
   "source": [
    "rgb(field, bands=['red', 'green', 'blue'], index = [8])"
   ]
  },
  {
   "cell_type": "code",
   "execution_count": null,
   "id": "94954007",
   "metadata": {},
   "outputs": [],
   "source": [
    "field.NDVI.mean(['x', 'y']).plot.line('b-^', figsize=(11,4))\n",
    "\n",
    "plt.title('Zonal mean of vegetation timeseries');"
   ]
  },
  {
   "cell_type": "code",
   "execution_count": null,
   "id": "4b4423d6",
   "metadata": {},
   "outputs": [],
   "source": [
    "rgb(field, bands=['red', 'green', 'blue'], index = [60])"
   ]
  },
  {
   "cell_type": "code",
   "execution_count": null,
   "id": "0c3d5211",
   "metadata": {},
   "outputs": [],
   "source": [
    "df = field['NDVI'].to_dataframe(\"ndvi\")\n",
    "df = df.reset_index()\n",
    "df[\"Month\"] = df.time.dt.month\n",
    "df[\"Year\"] = df.time.dt.year\n",
    "#Preview changes\n",
    "df.head()"
   ]
  },
  {
   "cell_type": "code",
   "execution_count": null,
   "id": "6d5633a7",
   "metadata": {},
   "outputs": [],
   "source": [
    "import pandas as pd\n",
    "import matplotlib.pyplot as plt\n",
    "df1= df.groupby('Month')['ndvi'].agg([pd.np.min, pd.np.max, pd.np.mean])\n",
    "df1=df1.reset_index()\n",
    "sns.set(style=\"darkgrid\")\n",
    "plt.figure(figsize=(10, 5))\n",
    "\n",
    "median_vals = df.groupby('Month')['ndvi'].median()\n",
    "norm = plt.Normalize(median_vals.min(), median_vals.max())\n",
    "colors = plt.cm.RdYlGn(median_vals)\n",
    "\n",
    "sns_plot = sns.boxplot(x='Month', y='ndvi', data=df  ,palette=colors)\n",
    "s=sns_plot.get_figure()"
   ]
  },
  {
   "cell_type": "markdown",
   "id": "83b91feb",
   "metadata": {},
   "source": [
    "### Example 2: Water"
   ]
  },
  {
   "cell_type": "code",
   "execution_count": null,
   "id": "79437004",
   "metadata": {},
   "outputs": [],
   "source": [
    "from dask.distributed import Client\n",
    "\n",
    "client = Client(\"tcp://127.0.0.1:46057\")\n",
    "client"
   ]
  },
  {
   "cell_type": "code",
   "execution_count": null,
   "id": "b174b52c",
   "metadata": {},
   "outputs": [],
   "source": [
    "gdf = gpd.read_file('example_data/water.shp')\n",
    "plot.map_polygon(gdf)"
   ]
  },
  {
   "cell_type": "code",
   "execution_count": null,
   "id": "a36b35c7",
   "metadata": {},
   "outputs": [],
   "source": [
    "longitude_extents = (gdf.total_bounds[0] , gdf.total_bounds[2] )\n",
    "latitude_extents  = (gdf.total_bounds[1] , gdf.total_bounds[3] )\n",
    "\n",
    "# select time period\n",
    "time_extents=('2020-01-01', '2020-12-29')\n",
    "\n",
    "# select platform\n",
    "platform = \"SENTINEL_2\"\n",
    "\n",
    "# select product\n",
    "product = \"s2_l2a_namibia\"\n",
    "\n",
    "dataset = dc.load(latitude = latitude_extents,\n",
    "                             longitude = longitude_extents,\n",
    "                             time = time_extents,\n",
    "                             platform =platform,\n",
    "                             skip_broken_datasets=True,\n",
    "                             measurements = ['red','green','blue', 'nir', 'scl','swir1','red_edge1'],\n",
    "                             product = product,\n",
    "                            dask_chunks={\"time\": 1, 'x': 1000, 'y': 1000},\n",
    "                             group_by = \"solar_day\",\n",
    "                             progress_cbk=with_ui_cbk()) "
   ]
  },
  {
   "cell_type": "code",
   "execution_count": null,
   "id": "1fd9f71d",
   "metadata": {},
   "outputs": [],
   "source": [
    "dataset_clean = dataset.sel(time = pd.to_datetime(dataset.mean(dim=['x','y']).time.where(dataset.mean(dim=['x','y'])['red'] !=0, drop=True).values.tolist()))\n",
    "dataset_clean"
   ]
  },
  {
   "cell_type": "code",
   "execution_count": null,
   "id": "650fcf40",
   "metadata": {},
   "outputs": [],
   "source": [
    "dataset_clean.red.values"
   ]
  },
  {
   "cell_type": "markdown",
   "id": "86b4fc53",
   "metadata": {},
   "source": [
    "### Water body detection via NDWI and NDVI"
   ]
  },
  {
   "cell_type": "code",
   "execution_count": null,
   "id": "cbb60ca2",
   "metadata": {},
   "outputs": [],
   "source": [
    "data_step1 = dataset.isel(time=2)\n",
    "data_step1"
   ]
  },
  {
   "cell_type": "code",
   "execution_count": null,
   "id": "c2000242",
   "metadata": {},
   "outputs": [],
   "source": [
    "rgb(data_step1.compute(), bands=['red', 'green', 'blue'])"
   ]
  },
  {
   "cell_type": "code",
   "execution_count": null,
   "id": "fcf93485",
   "metadata": {},
   "outputs": [],
   "source": [
    "data_step1 = data_step1.assign(MNDWI = (data_step1[\"green\"] - data_step1[\"swir1\"])/(data_step1[\"green\"] + data_step1[\"swir1\"]))\n",
    "\n",
    "data_step1.MNDWI.plot()"
   ]
  },
  {
   "cell_type": "code",
   "execution_count": null,
   "id": "97fedb37",
   "metadata": {},
   "outputs": [],
   "source": [
    "data_step1 = data_step1.assign(NDVI = (data_step1[\"nir\"] - data_step1[\"red\"])/(data_step1[\"nir\"] + data_step1[\"red\"]))\n",
    "\n",
    "data_step1.NDVI.plot()"
   ]
  },
  {
   "cell_type": "code",
   "execution_count": null,
   "id": "51ff5cf6",
   "metadata": {},
   "outputs": [],
   "source": [
    "data_step1 = data_step1.assign(water = xr.where((data_step1[\"NDVI\"] < 0) & (data_step1[\"MNDWI\"] > 0), 1.0, 0.0))\n",
    "data_step1 = data_step1.assign(nonwater = xr.where((data_step1[\"NDVI\"] > 0) & (data_step1[\"MNDWI\"] < 0), 1.0, 0.0))\n",
    "data_step1.water.plot()"
   ]
  },
  {
   "cell_type": "code",
   "execution_count": null,
   "id": "291446ec",
   "metadata": {},
   "outputs": [],
   "source": [
    "import numpy as np\n",
    "area = np.count_nonzero(data_step1.water.values) * 100 / 1000000 #convert unit to square kilometers\n",
    "\n",
    "print(\"Water pixels for the first month: \",area,\" km²\")"
   ]
  },
  {
   "cell_type": "code",
   "execution_count": null,
   "id": "fa894c85",
   "metadata": {},
   "outputs": [],
   "source": [
    "water_body = data_step1.water > 0"
   ]
  },
  {
   "cell_type": "code",
   "execution_count": null,
   "id": "036d5445",
   "metadata": {},
   "outputs": [],
   "source": [
    "from shapely.geometry import shape\n",
    "import rasterio\n",
    "dtype='float32'\n",
    "\n",
    "vectors = rasterio.features.shapes(source=data_step1.water.values.astype(dtype),transform=data_step1.geobox.transform, mask=data_step1.water.values==1)\n",
    "\n",
    "crs =data_step1.crs\n",
    "vectors = list(vectors) \n",
    "polygons = [polygon for polygon, value in vectors]\n",
    "values = [value for polygon, value in vectors]\n",
    "polygons = [shape(polygon) for polygon in polygons]\n",
    "gdf = gpd.GeoDataFrame(data={'water': values},\n",
    "                           geometry=polygons,\n",
    "                           crs=str(crs))"
   ]
  },
  {
   "cell_type": "code",
   "execution_count": null,
   "id": "2d3593f8",
   "metadata": {},
   "outputs": [],
   "source": [
    "gdf.plot()"
   ]
  },
  {
   "cell_type": "markdown",
   "id": "2f8c8c97",
   "metadata": {},
   "source": [
    "### Let's scale it up"
   ]
  },
  {
   "cell_type": "code",
   "execution_count": null,
   "id": "214727d8",
   "metadata": {},
   "outputs": [],
   "source": [
    "data_month = dataset_clean.sel(time='2020-6') \n",
    "rgb(data_month.compute(), bands=['swir1', 'nir', 'green'], col=\"time\")"
   ]
  },
  {
   "cell_type": "code",
   "execution_count": null,
   "id": "a27be19f",
   "metadata": {},
   "outputs": [],
   "source": [
    "#a function that returns cloud and defect pixels mask\n",
    "def mask(dataset): #input options: low - filter out cloud of high probability only (default); high - filter out cloud of high and medium probability\n",
    "    cloud_free = dataset.where((dataset.scl != 9) & (dataset.scl != 3))\n",
    "    new_ds = cloud_free.where((dataset.blue < 12000) & (dataset.red < 12000) & (dataset.green < 12000)) #pixels of good quality\n",
    "    return new_ds"
   ]
  },
  {
   "cell_type": "code",
   "execution_count": null,
   "id": "c0cc1692",
   "metadata": {},
   "outputs": [],
   "source": [
    "ds_nc = mask(dataset_clean)"
   ]
  },
  {
   "cell_type": "code",
   "execution_count": null,
   "id": "faf30d72",
   "metadata": {},
   "outputs": [],
   "source": [
    "masked_data_month = mask(ds_nc ).sel(time='2020-02')\n",
    "rgb(masked_data_month.compute(), bands=['red', 'green', 'blue'], col=\"time\") "
   ]
  },
  {
   "cell_type": "code",
   "execution_count": null,
   "id": "a4a4182a",
   "metadata": {},
   "outputs": [],
   "source": [
    "data_monthly = ds_nc.resample(time='1M').mean()\n",
    "data_monthly\n",
    "month = data_monthly.time.dt.month\n",
    "data_monthly.coords[\"time\"]"
   ]
  },
  {
   "cell_type": "code",
   "execution_count": null,
   "id": "33d41746",
   "metadata": {},
   "outputs": [],
   "source": [
    "rgb(data_monthly.compute(), bands=['swir1', 'nir', 'green'], col=\"time\") "
   ]
  },
  {
   "cell_type": "code",
   "execution_count": null,
   "id": "67c85692",
   "metadata": {},
   "outputs": [],
   "source": [
    "data_monthly = data_monthly.assign(MNDWI = (data_monthly[\"green\"] - data_monthly[\"swir1\"])/(data_monthly[\"green\"] + data_monthly[\"swir1\"]))\n",
    "data_monthly = data_monthly.assign(NDVI = (data_monthly[\"nir\"] - data_monthly[\"red\"])/(data_monthly[\"nir\"] + data_monthly[\"red\"]))"
   ]
  },
  {
   "cell_type": "code",
   "execution_count": null,
   "id": "77bb0046",
   "metadata": {},
   "outputs": [],
   "source": [
    "data_monthly = data_monthly.assign(water = xr.where((data_monthly[\"NDVI\"] < 0) & (data_monthly[\"MNDWI\"] > 0), 1.0, 0.0))\n",
    "data_monthly = data_monthly.assign(water_null = xr.where((data_monthly[\"NDVI\"] < 0) & (data_monthly[\"MNDWI\"] > 0), 1.0, None))\n",
    "\n",
    "#data_monthly = data_monthly.assign(water = xr.where((data_monthly[\"MNDWI\"] > 0), 1.0, 0.0))\n",
    "#data_monthly = data_monthly.assign(water_null = xr.where((data_monthly[\"MNDWI\"] > 0), 1.0, None))"
   ]
  },
  {
   "cell_type": "code",
   "execution_count": null,
   "id": "9c5f644e",
   "metadata": {},
   "outputs": [],
   "source": [
    "data_monthly.water.plot(x=\"x\", y=\"y\", col=\"time\", col_wrap=4, cmap='Blues')"
   ]
  },
  {
   "cell_type": "code",
   "execution_count": null,
   "id": "b6f14eeb",
   "metadata": {},
   "outputs": [],
   "source": [
    "ts = data_monthly.time.to_series()\n",
    "\n",
    "#save the water area\n",
    "water_area = data_monthly.water_null.groupby(\"time\").count({\"x\",\"y\"}).compute().values * 100 / 1000000\n",
    "\n",
    "#pandas series of water occurence\n",
    "#data_monthly.water.to_series()\n",
    "\n",
    "month = pd.Series(ts).values #get the series values\n",
    "water = pd.Series(water_area).values #get the series values\n",
    "\n",
    "frame = { 'month': month, 'water_area_km2': water }   #set up a data frame\n",
    "df = pd.DataFrame(frame) \n",
    "df.index = pd.to_datetime(df[\"month\"],format='%Y%m%d') #set up the date time index\n",
    "df = df.drop(columns=[\"month\"]) #drop extra column\n",
    "df"
   ]
  },
  {
   "cell_type": "code",
   "execution_count": null,
   "id": "186a4eb1",
   "metadata": {},
   "outputs": [],
   "source": [
    "import matplotlib.pyplot as plt\n",
    "from pandas.tseries.offsets import DateOffset\n",
    "\n",
    "fig, axes = plt.subplots(1, 1, figsize=(12, 4))\n",
    "df.water_area_km2.plot(linestyle=\":\", marker=\"s\", color=\"k\")\n",
    "axes.set_xlabel(\"Date\")\n",
    "axes.set_ylabel(\"Waterbody area (km$^2$)\")\n",
    "plt.show()"
   ]
  },
  {
   "cell_type": "markdown",
   "id": "628e64b4",
   "metadata": {},
   "source": [
    "### Water Quality"
   ]
  },
  {
   "cell_type": "code",
   "execution_count": null,
   "id": "f23a3b1d",
   "metadata": {},
   "outputs": [],
   "source": [
    "gdf = gpd.read_file('example_data/swakoppoort.shp')\n",
    "plot.map_polygon(gdf)"
   ]
  },
  {
   "cell_type": "code",
   "execution_count": null,
   "id": "50d3ad3f",
   "metadata": {},
   "outputs": [],
   "source": [
    "longitude_extents = (gdf.total_bounds[0] , gdf.total_bounds[2] )\n",
    "latitude_extents  = (gdf.total_bounds[1] , gdf.total_bounds[3] )\n",
    "\n",
    "# select time period\n",
    "time_extents=('2020-01-01', '2020-12-29')\n",
    "\n",
    "# select platform\n",
    "platform = \"SENTINEL_2\"\n",
    "\n",
    "# select product\n",
    "product = \"s2_l2a_namibia\"\n",
    "\n",
    "dataset = dc.load(latitude = latitude_extents,\n",
    "                             longitude = longitude_extents,\n",
    "                             time = time_extents,\n",
    "                             platform =platform,\n",
    "                             skip_broken_datasets=True,\n",
    "                             measurements = ['red','green','blue', 'nir', 'scl','swir1','red_edge1'],\n",
    "                             product = product,\n",
    "                            dask_chunks={\"time\": 1, 'x': 1000, 'y': 1000},\n",
    "                             group_by = \"solar_day\",\n",
    "                             progress_cbk=with_ui_cbk()) "
   ]
  },
  {
   "cell_type": "code",
   "execution_count": null,
   "id": "efe1f52b",
   "metadata": {},
   "outputs": [],
   "source": [
    "dataset_clean = dataset.sel(time = pd.to_datetime(dataset.mean(dim=['x','y']).time.where(dataset.mean(dim=['x','y'])['red'] !=0, drop=True).values.tolist()))\n",
    "dataset_clean"
   ]
  },
  {
   "cell_type": "code",
   "execution_count": null,
   "id": "e45bdb96",
   "metadata": {},
   "outputs": [],
   "source": [
    "rgb(dataset_clean, bands=['swir1', 'nir', 'blue'], index = 61) "
   ]
  },
  {
   "cell_type": "code",
   "execution_count": null,
   "id": "76f5eb38",
   "metadata": {},
   "outputs": [],
   "source": [
    "dataset_clean['NDCI'] = ((dataset_clean.red_edge1 - dataset_clean.red) / (dataset_clean.red_edge1 + dataset_clean.red))\n",
    "dataset_clean['MNDWI'] =(dataset_clean[\"green\"] - dataset_clean[\"swir1\"])/(dataset_clean[\"green\"] + dataset_clean[\"swir1\"])"
   ]
  },
  {
   "cell_type": "code",
   "execution_count": null,
   "id": "340cb05e",
   "metadata": {},
   "outputs": [],
   "source": [
    "dataset_clean['NDCI'].isel(time=61).plot()"
   ]
  },
  {
   "cell_type": "code",
   "execution_count": null,
   "id": "9b1384eb",
   "metadata": {},
   "outputs": [],
   "source": [
    "#a function that returns cloud and defect pixels mask\n",
    "def mask(dataset): #input options: low - filter out cloud of high probability only (default); high - filter out cloud of high and medium probability\n",
    "    cloud_free = dataset.where((dataset.scl != 9) & (dataset.scl != 3))\n",
    "    new_ds = cloud_free.where((dataset.blue < 12000) & (dataset.red < 12000) & (dataset.green < 12000)) #pixels of good quality\n",
    "    return new_ds"
   ]
  },
  {
   "cell_type": "code",
   "execution_count": null,
   "id": "e7efa4ce",
   "metadata": {},
   "outputs": [],
   "source": [
    "ds_nc = mask(dataset_clean)"
   ]
  },
  {
   "cell_type": "code",
   "execution_count": null,
   "id": "3cb9f366",
   "metadata": {},
   "outputs": [],
   "source": [
    "# Constants for calculating waterbody area\n",
    "pixel_length = 10  # in metres\n",
    "m_per_km = 1000  # conversion from metres to kilometres\n",
    "\n",
    "area_per_pixel = pixel_length**2 / m_per_km**2"
   ]
  },
  {
   "cell_type": "code",
   "execution_count": null,
   "id": "5dcee2c3",
   "metadata": {},
   "outputs": [],
   "source": [
    "# Filter the data to contain only pixels classified as water\n",
    "ds_waterarea = ds_nc.where(ds_nc.MNDWI > 0.0)\n",
    "\n",
    "# Calculate the total water area (in km^2)\n",
    "waterarea = (\n",
    "    ds_waterarea.MNDWI.count(dim=[\"x\", \"y\"])\n",
    "    .rolling(time=3, center=True, min_periods=1)\n",
    "    .median(skipna=True)\n",
    "    * area_per_pixel\n",
    ").persist()\n",
    "\n",
    "# Plot the resulting water area through time\n",
    "fig, axes = plt.subplots(1, 1, figsize=(12, 4))\n",
    "waterarea.plot(linestyle=\":\", marker=\"s\", color=\"k\")\n",
    "axes.set_xlabel(\"Date\")\n",
    "axes.set_ylabel(\"Waterbody area (km$^2$)\")\n",
    "plt.show()"
   ]
  },
  {
   "cell_type": "code",
   "execution_count": null,
   "id": "dc277ded",
   "metadata": {},
   "outputs": [],
   "source": [
    "# Calculate the average NDCI\n",
    "average_ndci = ds_waterarea.NDCI.mean(dim=[\"x\", \"y\"], skipna=True).persist()\n",
    "\n",
    "# Plot average NDCI through time\n",
    "fig, axes = plt.subplots(1, 1, figsize=(12, 4))\n",
    "average_ndci.plot(linestyle=\":\", marker=\"s\", color=\"k\")\n",
    "axes.set_xlabel(\"Date\")\n",
    "axes.set_ylabel(\"Average NDCI\")\n",
    "plt.show()"
   ]
  },
  {
   "cell_type": "code",
   "execution_count": null,
   "id": "87cfded2",
   "metadata": {},
   "outputs": [],
   "source": [
    "import matplotlib\n",
    "\n",
    "# Set up the figure\n",
    "fig, axes = plt.subplots(1, 1, figsize=(12, 4))\n",
    "\n",
    "# Set the colour map to use and the normalisation. NDCI is plotted on a scale\n",
    "# of -0.1 to 0.5 so the colour map is normalised to these values\n",
    "min_ndci_scale = -0.1\n",
    "max_ndci_scale = 0.5\n",
    "cmap = plt.get_cmap(\"cividis\")\n",
    "normal = plt.Normalize(vmin=min_ndci_scale, vmax=max_ndci_scale)\n",
    "\n",
    "# Store the dates from the data set as numbers for ease of plotting\n",
    "dates = matplotlib.dates.date2num(ds_waterarea.time.values)\n",
    "\n",
    "# Add the basic plot to the figure\n",
    "# This is just a line showing the area of the waterbody over time\n",
    "axes.plot_date(x=dates, y=waterarea, color=\"black\", linestyle=\"-\", marker=\"\")\n",
    "\n",
    "# Fill in the plot by looping over the possible threshold values and filling\n",
    "# the areas that are greater than the threshold\n",
    "color_vals = np.linspace(0, 1, 100)\n",
    "threshold_vals = np.linspace(min_ndci_scale, max_ndci_scale, 100)\n",
    "for ii, thresh in enumerate(threshold_vals):\n",
    "    im = axes.fill_between(dates,\n",
    "                           0,\n",
    "                           waterarea,\n",
    "                           where=(average_ndci >= thresh),\n",
    "                           norm=normal,\n",
    "                           facecolor=cmap(color_vals[ii]),\n",
    "                           alpha=1)\n",
    "\n",
    "# Add the colour bar to the plot\n",
    "cax, _ = matplotlib.colorbar.make_axes(axes)\n",
    "cb2 = matplotlib.colorbar.ColorbarBase(cax, cmap=cmap, norm=normal)\n",
    "cb2.set_label(\"NDCI\")\n",
    "\n",
    "# Add titles and labels to the plot\n",
    "axes.set_xlabel(\"Date\")\n",
    "axes.set_ylabel(\"Waterbody area (km$^2$)\")\n",
    "plt.show()"
   ]
  },
  {
   "cell_type": "code",
   "execution_count": null,
   "id": "78ef4bb9",
   "metadata": {},
   "outputs": [],
   "source": [
    "def closest_date(list_of_dates, desired_date):\n",
    "    return min(list_of_dates,\n",
    "               key=lambda x: abs(x - np.datetime64(desired_date)))\n",
    "\n",
    "def date_index(list_of_dates, known_date):\n",
    "    return (np.where(list_of_dates == known_date)[0][0])"
   ]
  },
  {
   "cell_type": "code",
   "execution_count": null,
   "id": "8ce7f24f",
   "metadata": {},
   "outputs": [],
   "source": [
    "# Set the dates to view\n",
    "date_1 = \"2020-02-07\"\n",
    "date_2 = \"2020-12-20\"\n",
    "\n",
    "# Compute the closest date available from the data set\n",
    "closest_date_1 = closest_date(ds_nc.time.values, date_1)\n",
    "closest_date_2 = closest_date(ds_nc.time.values, date_2)\n",
    "\n",
    "# Make an xarray containing the closest dates, which is used to select\n",
    "# the dates from the data set\n",
    "time_xr = xr.DataArray([closest_date_1, closest_date_2], dims=[\"time\"])\n",
    "\n",
    "# Plot the NDCI values for pixels classified as water for the two dates.\n",
    "ds_waterarea.NDCI.sel(time=time_xr).plot.imshow(\"x\",\n",
    "                                                   \"y\",\n",
    "                                                   col=\"time\",\n",
    "                                                   cmap=cmap,\n",
    "                                                   vmin=min_ndci_scale,\n",
    "                                                   vmax=1,\n",
    "                                                   col_wrap=2,\n",
    "                                                   robust=True,\n",
    "                                                   figsize=(12, 6))\n",
    "plt.show()"
   ]
  }
 ],
 "metadata": {
  "kernelspec": {
   "display_name": "Python 3",
   "language": "python",
   "name": "python3"
  },
  "language_info": {
   "codemirror_mode": {
    "name": "ipython",
    "version": 3
   },
   "file_extension": ".py",
   "mimetype": "text/x-python",
   "name": "python",
   "nbconvert_exporter": "python",
   "pygments_lexer": "ipython3",
   "version": "3.8.8"
  }
 },
 "nbformat": 4,
 "nbformat_minor": 5
}
